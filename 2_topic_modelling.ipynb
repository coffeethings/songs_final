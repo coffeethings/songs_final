{
 "cells": [
  {
   "cell_type": "markdown",
   "id": "34c2e38a-2efd-4cee-8e90-e69856655b44",
   "metadata": {},
   "source": [
    "**Part 1 of 2 of the modelling notebook: Topic Modelling**\n",
    "\n",
    "The original notebook is split into 2 parts due to its length. \n",
    "<br>This notebook involves the use of topic modelling while the next part involves the use of decision tree, random forest, and kNN. \n",
    "\n",
    "A separate Excel file records certain steps and results. It serves as an experiment log, and helps the notebook to run smoother."
   ]
  },
  {
   "cell_type": "markdown",
   "id": "9d8a6160-c76b-442f-bc84-ee60b563a358",
   "metadata": {},
   "source": [
    "# Loading in libraries"
   ]
  },
  {
   "cell_type": "code",
   "execution_count": 1,
   "id": "1d697d07-ed19-458e-a83a-059168f01fef",
   "metadata": {},
   "outputs": [],
   "source": [
    "import pandas as pd"
   ]
  },
  {
   "cell_type": "code",
   "execution_count": 1,
   "id": "d8a9a69d-8d0f-4822-8b1a-d3589398ed07",
   "metadata": {},
   "outputs": [
    {
     "name": "stderr",
     "output_type": "stream",
     "text": [
      "[nltk_data] Downloading package wordnet to /Users/onion/nltk_data...\n",
      "[nltk_data]   Package wordnet is already up-to-date!\n",
      "[nltk_data] Downloading package stopwords to /Users/onion/nltk_data...\n",
      "[nltk_data]   Package stopwords is already up-to-date!\n"
     ]
    },
    {
     "data": {
      "text/plain": [
       "True"
      ]
     },
     "execution_count": 1,
     "metadata": {},
     "output_type": "execute_result"
    }
   ],
   "source": [
    "# For NLP\n",
    "import nltk \n",
    "nltk.download('wordnet')\n",
    "nltk.download('stopwords')"
   ]
  },
  {
   "cell_type": "code",
   "execution_count": 3,
   "id": "0f56c8a5-6036-4651-870d-f62a1fbe5755",
   "metadata": {},
   "outputs": [],
   "source": [
    "# For NLP\n",
    "import contractions\n",
    "from nltk.tokenize import word_tokenize\n",
    "from nltk.corpus import wordnet\n",
    "from nltk.stem import WordNetLemmatizer\n",
    "import re"
   ]
  },
  {
   "cell_type": "code",
   "execution_count": 2,
   "id": "be2effb5-b3be-409a-834f-44de802530f5",
   "metadata": {},
   "outputs": [],
   "source": [
    "import numpy as np\n",
    "import matplotlib.pyplot as plt\n",
    "%matplotlib inline\n",
    "from imblearn.over_sampling import SMOTE\n",
    "from imblearn.under_sampling import RandomUnderSampler\n",
    "from sklearn.neighbors import KNeighborsClassifier\n",
    "from sklearn.tree import DecisionTreeClassifier\n",
    "from sklearn.ensemble import RandomForestClassifier\n",
    "from sklearn.model_selection import cross_val_score\n",
    "from sklearn.model_selection import train_test_split\n",
    "from sklearn.metrics import confusion_matrix\n",
    "from sklearn.metrics import auc\n",
    "from sklearn import metrics\n",
    "from sklearn.metrics import roc_auc_score\n",
    "from sklearn.metrics import accuracy_score, precision_score, recall_score, f1_score\n",
    "from sklearn.metrics import average_precision_score\n",
    "from sklearn.metrics import precision_recall_curve\n",
    "from sklearn.metrics import roc_curve"
   ]
  },
  {
   "cell_type": "code",
   "execution_count": 47,
   "id": "8e1a8969-5824-4656-a4cf-afe98ce98a1c",
   "metadata": {},
   "outputs": [],
   "source": [
    "# Loading in the dataset from combined EDA efforts with features combined\n",
    "df = pd.read_excel('/final_submission/final.xlsx')"
   ]
  },
  {
   "cell_type": "code",
   "execution_count": 4,
   "id": "0c8913ff-4cbf-4df5-8068-942128d6cee2",
   "metadata": {},
   "outputs": [
    {
     "data": {
      "text/html": [
       "<div>\n",
       "<style scoped>\n",
       "    .dataframe tbody tr th:only-of-type {\n",
       "        vertical-align: middle;\n",
       "    }\n",
       "\n",
       "    .dataframe tbody tr th {\n",
       "        vertical-align: top;\n",
       "    }\n",
       "\n",
       "    .dataframe thead th {\n",
       "        text-align: right;\n",
       "    }\n",
       "</style>\n",
       "<table border=\"1\" class=\"dataframe\">\n",
       "  <thead>\n",
       "    <tr style=\"text-align: right;\">\n",
       "      <th></th>\n",
       "      <th>year</th>\n",
       "      <th>rank</th>\n",
       "      <th>song</th>\n",
       "      <th>artist</th>\n",
       "      <th>genre</th>\n",
       "      <th>popularity</th>\n",
       "      <th>explicit</th>\n",
       "      <th>album</th>\n",
       "      <th>release_year</th>\n",
       "      <th>release_month</th>\n",
       "      <th>...</th>\n",
       "      <th>time_signature</th>\n",
       "      <th>lyrics</th>\n",
       "      <th>genre_split</th>\n",
       "      <th>lyrics_length</th>\n",
       "      <th>topic</th>\n",
       "      <th>contrib_perc</th>\n",
       "      <th>lyric_pos</th>\n",
       "      <th>lyric_neu</th>\n",
       "      <th>lyric_neg</th>\n",
       "      <th>hit</th>\n",
       "    </tr>\n",
       "  </thead>\n",
       "  <tbody>\n",
       "    <tr>\n",
       "      <th>0</th>\n",
       "      <td>1990</td>\n",
       "      <td>1</td>\n",
       "      <td>Hold On</td>\n",
       "      <td>Wilson Phillips</td>\n",
       "      <td>['girl group,mellow gold,new wave pop,soft rock']</td>\n",
       "      <td>70</td>\n",
       "      <td>0</td>\n",
       "      <td>Wilson Phillips</td>\n",
       "      <td>1990</td>\n",
       "      <td>5</td>\n",
       "      <td>...</td>\n",
       "      <td>4</td>\n",
       "      <td>I know this pain (I know this pain) Why do you...</td>\n",
       "      <td>soft rock</td>\n",
       "      <td>2129</td>\n",
       "      <td>T5</td>\n",
       "      <td>0.318288</td>\n",
       "      <td>0</td>\n",
       "      <td>0</td>\n",
       "      <td>1</td>\n",
       "      <td>0</td>\n",
       "    </tr>\n",
       "    <tr>\n",
       "      <th>1</th>\n",
       "      <td>1990</td>\n",
       "      <td>2</td>\n",
       "      <td>It Must Have Been Love</td>\n",
       "      <td>Roxette</td>\n",
       "      <td>['europop,new wave pop,soft rock,swedish pop']</td>\n",
       "      <td>75</td>\n",
       "      <td>0</td>\n",
       "      <td>It Must Have Been Love</td>\n",
       "      <td>1990</td>\n",
       "      <td>5</td>\n",
       "      <td>...</td>\n",
       "      <td>4</td>\n",
       "      <td>It must have been love But it's over now Lay a...</td>\n",
       "      <td>swedish pop</td>\n",
       "      <td>1380</td>\n",
       "      <td>T3</td>\n",
       "      <td>0.443180</td>\n",
       "      <td>1</td>\n",
       "      <td>0</td>\n",
       "      <td>0</td>\n",
       "      <td>1</td>\n",
       "    </tr>\n",
       "    <tr>\n",
       "      <th>2</th>\n",
       "      <td>1990</td>\n",
       "      <td>3</td>\n",
       "      <td>Nothing Compares 2 U</td>\n",
       "      <td>Sinead O'Connor</td>\n",
       "      <td>['lilith,new wave pop,pop rock']</td>\n",
       "      <td>60</td>\n",
       "      <td>0</td>\n",
       "      <td>I Do Not Want What I Haven't Got</td>\n",
       "      <td>1990</td>\n",
       "      <td>7</td>\n",
       "      <td>...</td>\n",
       "      <td>4</td>\n",
       "      <td>It's been seven hours and fifteen days Since y...</td>\n",
       "      <td>pop rock</td>\n",
       "      <td>1094</td>\n",
       "      <td>T3</td>\n",
       "      <td>0.706082</td>\n",
       "      <td>0</td>\n",
       "      <td>0</td>\n",
       "      <td>1</td>\n",
       "      <td>0</td>\n",
       "    </tr>\n",
       "    <tr>\n",
       "      <th>3</th>\n",
       "      <td>1990</td>\n",
       "      <td>4</td>\n",
       "      <td>Poison</td>\n",
       "      <td>Bell Biv DeVoe</td>\n",
       "      <td>['boy band,contemporary r&amp;b,hip hop,hip pop,ne...</td>\n",
       "      <td>70</td>\n",
       "      <td>0</td>\n",
       "      <td>Poison</td>\n",
       "      <td>1990</td>\n",
       "      <td>1</td>\n",
       "      <td>...</td>\n",
       "      <td>4</td>\n",
       "      <td>Yeah, Spyderman and Freeze in full effect Uh-h...</td>\n",
       "      <td>urban contemporary</td>\n",
       "      <td>2284</td>\n",
       "      <td>T3</td>\n",
       "      <td>0.547235</td>\n",
       "      <td>1</td>\n",
       "      <td>0</td>\n",
       "      <td>0</td>\n",
       "      <td>0</td>\n",
       "    </tr>\n",
       "    <tr>\n",
       "      <th>4</th>\n",
       "      <td>1990</td>\n",
       "      <td>5</td>\n",
       "      <td>Vogue</td>\n",
       "      <td>Madonna</td>\n",
       "      <td>['dance pop,pop']</td>\n",
       "      <td>67</td>\n",
       "      <td>0</td>\n",
       "      <td>Celebration (double disc version)</td>\n",
       "      <td>1989</td>\n",
       "      <td>9</td>\n",
       "      <td>...</td>\n",
       "      <td>4</td>\n",
       "      <td>Strike a pose Strike a pose Vogue (Vogue, vogu...</td>\n",
       "      <td>pop</td>\n",
       "      <td>2259</td>\n",
       "      <td>T1</td>\n",
       "      <td>0.467808</td>\n",
       "      <td>1</td>\n",
       "      <td>0</td>\n",
       "      <td>0</td>\n",
       "      <td>0</td>\n",
       "    </tr>\n",
       "  </tbody>\n",
       "</table>\n",
       "<p>5 rows × 32 columns</p>\n",
       "</div>"
      ],
      "text/plain": [
       "   year  rank                    song           artist  \\\n",
       "0  1990     1                 Hold On  Wilson Phillips   \n",
       "1  1990     2  It Must Have Been Love          Roxette   \n",
       "2  1990     3    Nothing Compares 2 U  Sinead O'Connor   \n",
       "3  1990     4                  Poison   Bell Biv DeVoe   \n",
       "4  1990     5                   Vogue          Madonna   \n",
       "\n",
       "                                               genre  popularity  explicit  \\\n",
       "0  ['girl group,mellow gold,new wave pop,soft rock']          70         0   \n",
       "1     ['europop,new wave pop,soft rock,swedish pop']          75         0   \n",
       "2                   ['lilith,new wave pop,pop rock']          60         0   \n",
       "3  ['boy band,contemporary r&b,hip hop,hip pop,ne...          70         0   \n",
       "4                                  ['dance pop,pop']          67         0   \n",
       "\n",
       "                               album  release_year  release_month  ...  \\\n",
       "0                    Wilson Phillips          1990              5  ...   \n",
       "1             It Must Have Been Love          1990              5  ...   \n",
       "2   I Do Not Want What I Haven't Got          1990              7  ...   \n",
       "3                             Poison          1990              1  ...   \n",
       "4  Celebration (double disc version)          1989              9  ...   \n",
       "\n",
       "   time_signature                                             lyrics  \\\n",
       "0               4  I know this pain (I know this pain) Why do you...   \n",
       "1               4  It must have been love But it's over now Lay a...   \n",
       "2               4  It's been seven hours and fifteen days Since y...   \n",
       "3               4  Yeah, Spyderman and Freeze in full effect Uh-h...   \n",
       "4               4  Strike a pose Strike a pose Vogue (Vogue, vogu...   \n",
       "\n",
       "          genre_split  lyrics_length  topic  contrib_perc  lyric_pos  \\\n",
       "0           soft rock           2129     T5      0.318288          0   \n",
       "1         swedish pop           1380     T3      0.443180          1   \n",
       "2            pop rock           1094     T3      0.706082          0   \n",
       "3  urban contemporary           2284     T3      0.547235          1   \n",
       "4                 pop           2259     T1      0.467808          1   \n",
       "\n",
       "   lyric_neu  lyric_neg  hit  \n",
       "0          0          1    0  \n",
       "1          0          0    1  \n",
       "2          0          1    0  \n",
       "3          0          0    0  \n",
       "4          0          0    0  \n",
       "\n",
       "[5 rows x 32 columns]"
      ]
     },
     "execution_count": 4,
     "metadata": {},
     "output_type": "execute_result"
    }
   ],
   "source": [
    "df.head()"
   ]
  },
  {
   "cell_type": "code",
   "execution_count": 48,
   "id": "5ce371cf-3cef-4af6-b982-fed9d2671649",
   "metadata": {},
   "outputs": [
    {
     "name": "stdout",
     "output_type": "stream",
     "text": [
      "Index(['year', 'rank', 'song', 'artist', 'genre', 'popularity', 'explicit',\n",
      "       'album', 'release_year', 'release_month', 'danceability', 'energy',\n",
      "       'key', 'loudness', 'mode', 'speechiness', 'acousticness',\n",
      "       'instrumentalness', 'liveness', 'valence', 'tempo', 'duration_m',\n",
      "       'time_signature', 'lyrics', 'genre_split', 'lyrics_length', 'topic',\n",
      "       'contrib_perc', 'lyric_pos', 'lyric_neu', 'lyric_neg', 'hit'],\n",
      "      dtype='object')\n"
     ]
    }
   ],
   "source": [
    "print(df.keys())"
   ]
  },
  {
   "cell_type": "code",
   "execution_count": 49,
   "id": "fede69f7-9c54-4221-8177-1083581d73f8",
   "metadata": {},
   "outputs": [],
   "source": [
    "# They are dropped as topic modelling will be attempted here\n",
    "df = df.drop(columns=['lyrics_length', 'topic', 'contrib_perc'])"
   ]
  },
  {
   "cell_type": "code",
   "execution_count": 50,
   "id": "1a0e4908-f7b3-48a0-a56c-b254d90dd3d9",
   "metadata": {},
   "outputs": [
    {
     "name": "stdout",
     "output_type": "stream",
     "text": [
      "<class 'pandas.core.frame.DataFrame'>\n",
      "RangeIndex: 2931 entries, 0 to 2930\n",
      "Data columns (total 29 columns):\n",
      " #   Column            Non-Null Count  Dtype  \n",
      "---  ------            --------------  -----  \n",
      " 0   year              2931 non-null   int64  \n",
      " 1   rank              2931 non-null   int64  \n",
      " 2   song              2931 non-null   object \n",
      " 3   artist            2931 non-null   object \n",
      " 4   genre             2931 non-null   object \n",
      " 5   popularity        2931 non-null   int64  \n",
      " 6   explicit          2931 non-null   int64  \n",
      " 7   album             2931 non-null   object \n",
      " 8   release_year      2931 non-null   int64  \n",
      " 9   release_month     2931 non-null   int64  \n",
      " 10  danceability      2931 non-null   float64\n",
      " 11  energy            2931 non-null   float64\n",
      " 12  key               2931 non-null   int64  \n",
      " 13  loudness          2931 non-null   float64\n",
      " 14  mode              2931 non-null   int64  \n",
      " 15  speechiness       2931 non-null   float64\n",
      " 16  acousticness      2931 non-null   float64\n",
      " 17  instrumentalness  2931 non-null   float64\n",
      " 18  liveness          2931 non-null   float64\n",
      " 19  valence           2931 non-null   float64\n",
      " 20  tempo             2931 non-null   float64\n",
      " 21  duration_m        2931 non-null   float64\n",
      " 22  time_signature    2931 non-null   int64  \n",
      " 23  lyrics            2931 non-null   object \n",
      " 24  genre_split       2931 non-null   object \n",
      " 25  lyric_pos         2931 non-null   int64  \n",
      " 26  lyric_neu         2931 non-null   int64  \n",
      " 27  lyric_neg         2931 non-null   int64  \n",
      " 28  hit               2931 non-null   int64  \n",
      "dtypes: float64(10), int64(13), object(6)\n",
      "memory usage: 664.2+ KB\n"
     ]
    }
   ],
   "source": [
    "df.info()"
   ]
  },
  {
   "cell_type": "markdown",
   "id": "bfea8b97-d006-408e-864d-e2cff87e0300",
   "metadata": {},
   "source": [
    "Columns successfully deleted and variables look to be in the correct data types."
   ]
  },
  {
   "cell_type": "markdown",
   "id": "452b1775-1707-46f0-bd74-fcdf013858ee",
   "metadata": {},
   "source": [
    "# Text wrangling"
   ]
  },
  {
   "cell_type": "markdown",
   "id": "d46061c3-09e6-4d57-b802-81d1b7626be4",
   "metadata": {},
   "source": [
    "## Pre-processing"
   ]
  },
  {
   "cell_type": "markdown",
   "id": "1a8a0449-a234-46d8-94a8-c04119696e80",
   "metadata": {},
   "source": [
    "Contractions are common in lyrics given its length such as in these randomly selected songs:"
   ]
  },
  {
   "cell_type": "code",
   "execution_count": 8,
   "id": "719917a3-2ad0-4f45-9d50-c897339c6ce7",
   "metadata": {},
   "outputs": [
    {
     "data": {
      "text/plain": [
       "'It\\'s been seven hours and fifteen days Since you took your love away I go out every night and sleep all day Since you took your love away Since you\\'ve been gone I can do whatever I want I can see whomever I choose I can eat my dinner in a fancy restaurant But nothing... I said nothing can take away these blues \\'Cause nothing compares Nothing compares to you It\\'s been so lonely without you here Like a bird without a song Nothing can stop these lonely tears from falling Tell me, baby, where did I go wrong I could put my arms around every boy I see But they\\'d only remind me of you I went to the doctor and guess what he told me, guess what he told me? He said, \"Girl, you better try to have fun no matter what you do,\" but he\\'s a fool \\'Cause nothing compares Nothing compares to you All the flowers that you planted, mama, in the back yard All died when you went away I know that living with you, baby, was sometimes hard But I\\'m willing to give it another try Nothing compares Nothing compares to you Nothing compares Nothing compares to you Nothing compares Nothing compares to you20Embed'"
      ]
     },
     "execution_count": 8,
     "metadata": {},
     "output_type": "execute_result"
    }
   ],
   "source": [
    "# Sinead O'Connor's Nothing Compares 2 U\n",
    "df.iat[2,23]"
   ]
  },
  {
   "cell_type": "code",
   "execution_count": 9,
   "id": "decc21dd-3e41-4a3b-8d06-2e8db137e71d",
   "metadata": {},
   "outputs": [
    {
     "data": {
      "text/plain": [
       "\"Yeah I've been tryna call I've been on my own for long enough Maybe you can show me how to love, maybe I'm going through withdrawals You don't even have to do too much You can turn me on with just a touch, baby I look around and Sin City's cold and empty (Oh) No one's around to judge me (Oh) I can't see clearly when you're gone I said, ooh, I'm blinded by the lights No, I can't sleep until I feel your touch I said, ooh, I'm drowning in the night Oh, when I'm like this, you're the one I trust Hey, hey, hey I'm running out of time 'Cause I can see the sun light up the sky So I hit the road in overdrive, baby, oh The city's cold and empty (Oh) No one's around to judge me (Oh) I can't see clearly when you're gone I said, ooh, I'm blinded by the lights No, I can't sleep until I feel your touch I said, ooh, I'm drowning in the night Oh, when I'm like this, you're the one I trust Related Songs I'm just calling back to let you know (Back to let you know) I could never say it on the phone (Say it on the phone) Will never let you go this time (Ooh) I said, ooh, I'm blinded by the lights No, I can't sleep until I feel your touch Hey, hey, hey Hey, hey, hey I said, ooh, I'm blinded by the lights No, I can't sleep until I feel your touch264Embed\""
      ]
     },
     "execution_count": 9,
     "metadata": {},
     "output_type": "execute_result"
    }
   ],
   "source": [
    "# The Weekend's Blinding Lights\n",
    "df.iat[2754,23]"
   ]
  },
  {
   "cell_type": "code",
   "execution_count": 10,
   "id": "5fbb72d2-c3a8-4e41-8d48-52bea95ceec5",
   "metadata": {},
   "outputs": [
    {
     "data": {
      "text/plain": [
       "\"(I'm sorry) (I'm Sorry) It's like I missed a shot It's like I dropped the ball (Damn I'm Sorry) It's like I'm on stage And I forgot the words (Damn, I'm sorry) It's like building a new house With no roof and no doors (Damn, I'm sorry) It's like trying to propose And I ain't got the ring (Oooh damn I'm sorry) But girl I've apologized A million times before (I'll apologize a million more) So here it comes again For all the wrong I've done (so get ready babe) Here's One million one Girl this is my sorry for, 2004 And I ain't gonna mess up no more, this year I'm 'a take this one chance And make it real clear I'm sorry for May And I'm sorry for June (for real) And I'm sorry for July (i am) In case I don't tell you August, September, October, November 'till your December I'm Sorry (I'm sorry 2004) Its like stayin' out at night Had way too much to drink (Damn, I'm sorry) It's like you change your hair And I don't say a thing (Damn I'm sorry) It's like we're fallin' fast asleep With no kiss, and before we hit (yeah I'm sorry) And It's like I forgot your gift On 02 14 03 (Damn! So sorry!) But girl I've apologized A million times before (I'll apologize a million more) So here it comes again For all the wrong I've done (so get ready babe) Here's One million one Girl this is my sorry for, 2004 And I ain't gonna mess up no more, this year I'm 'a take this one chance (I'm 'a take my time) And make it real clear I'm sorry for May And I'm sorry for June (for real) And I'm sorry for July (i am) In case I dont tell you August, September, October, November 'till your December I'm Sorry (I'm sorry 2004) I'm sorry for the way that I did you I'm sorry from the bottom of my heart for how I hurt you girl I'm sorry on the weekends, sorry on the weekdays Sorry for the things I did, Sorry for the things I said Sorry for the lies Sorry for the time That I didn't get you what you want That I didn't get you what you like What can I do to tell you that I'm sorry babe (sorry, sorry) Oooooooooooooohhhhhhh! Wooooooooh! All them strip clubs All them hot tubs I'm gone give them up Cause I don't want to lose your love Girl this is my sorry for, 2004 And I ain't gonna mess up no more, this year I'm 'a take this one chance And make it real clear I'm sorry for May And I'm sorry for June (for real) And I'm sorry for July (i am) In case I dont tell you August, September, October, November 'till your December I'm Sorry (I'm sorry 2004) Girl this is my sorry for, 2004 Sorry 2004 Girl this is my sorry for, 2004 Sorry 20041Embed\""
      ]
     },
     "execution_count": 10,
     "metadata": {},
     "output_type": "execute_result"
    }
   ],
   "source": [
    "# Rubben Studdard's Sorry\n",
    "df.iat[1305,23]"
   ]
  },
  {
   "cell_type": "markdown",
   "id": "9410358b-a180-46c8-9f3f-d04e238a8627",
   "metadata": {},
   "source": [
    "Also noted there are a fair amount of digits and punctuations in the lyrics. Additionally there is usually a number followed by the word \"Embed\". It could be a result of the scraping. But first, expand out the contractions with a library that is capable of expanding contractions and slangs such as:\n",
    "* you're -> you are\n",
    "* i'm    -> I am\n",
    "* ima    -> I am going to\n",
    "* yall  -> you all\n",
    "* gotta  -> got to [1]"
   ]
  },
  {
   "cell_type": "code",
   "execution_count": 51,
   "id": "3afd0bc2-8e72-4ac5-ad2c-a8b79cde64c3",
   "metadata": {},
   "outputs": [],
   "source": [
    "# Expand out the contractions\n",
    "\n",
    "df['expanded'] = df['lyrics'].apply(lambda x: [contractions.fix(word) for word in x.split()])"
   ]
  },
  {
   "cell_type": "code",
   "execution_count": 22,
   "id": "576c4ff9-8e02-4dc4-b2ce-dd2bfbf91b59",
   "metadata": {},
   "outputs": [
    {
     "data": {
      "text/html": [
       "<div>\n",
       "<style scoped>\n",
       "    .dataframe tbody tr th:only-of-type {\n",
       "        vertical-align: middle;\n",
       "    }\n",
       "\n",
       "    .dataframe tbody tr th {\n",
       "        vertical-align: top;\n",
       "    }\n",
       "\n",
       "    .dataframe thead th {\n",
       "        text-align: right;\n",
       "    }\n",
       "</style>\n",
       "<table border=\"1\" class=\"dataframe\">\n",
       "  <thead>\n",
       "    <tr style=\"text-align: right;\">\n",
       "      <th></th>\n",
       "      <th>lyrics</th>\n",
       "      <th>expanded</th>\n",
       "    </tr>\n",
       "  </thead>\n",
       "  <tbody>\n",
       "    <tr>\n",
       "      <th>2754</th>\n",
       "      <td>Yeah I've been tryna call I've been on my own ...</td>\n",
       "      <td>[Yeah, I have, been, tryna, call, I have, been...</td>\n",
       "    </tr>\n",
       "  </tbody>\n",
       "</table>\n",
       "</div>"
      ],
      "text/plain": [
       "                                                 lyrics  \\\n",
       "2754  Yeah I've been tryna call I've been on my own ...   \n",
       "\n",
       "                                               expanded  \n",
       "2754  [Yeah, I have, been, tryna, call, I have, been...  "
      ]
     },
     "execution_count": 22,
     "metadata": {},
     "output_type": "execute_result"
    }
   ],
   "source": [
    "# Check df.iat[2754,23]\n",
    "df.iloc[[2754], [23, 29]]"
   ]
  },
  {
   "cell_type": "code",
   "execution_count": 20,
   "id": "fd9d49b9-bb62-40e5-a89c-6b021b0356e0",
   "metadata": {},
   "outputs": [
    {
     "data": {
      "text/plain": [
       "['Yeah',\n",
       " 'I have',\n",
       " 'been',\n",
       " 'tryna',\n",
       " 'call',\n",
       " 'I have',\n",
       " 'been',\n",
       " 'on',\n",
       " 'my',\n",
       " 'own',\n",
       " 'for',\n",
       " 'long',\n",
       " 'enough',\n",
       " 'Maybe',\n",
       " 'you',\n",
       " 'can',\n",
       " 'show',\n",
       " 'me',\n",
       " 'how',\n",
       " 'to',\n",
       " 'love,',\n",
       " 'maybe',\n",
       " 'I am',\n",
       " 'going',\n",
       " 'through',\n",
       " 'withdrawals',\n",
       " 'You',\n",
       " 'do not',\n",
       " 'even',\n",
       " 'have',\n",
       " 'to',\n",
       " 'do',\n",
       " 'too',\n",
       " 'much',\n",
       " 'You',\n",
       " 'can',\n",
       " 'turn',\n",
       " 'me',\n",
       " 'on',\n",
       " 'with',\n",
       " 'just',\n",
       " 'a',\n",
       " 'touch,',\n",
       " 'baby',\n",
       " 'I',\n",
       " 'look',\n",
       " 'around',\n",
       " 'and',\n",
       " 'Sin',\n",
       " \"City's\",\n",
       " 'cold',\n",
       " 'and',\n",
       " 'empty',\n",
       " '(Oh)',\n",
       " 'No',\n",
       " \"one's\",\n",
       " 'around',\n",
       " 'to',\n",
       " 'judge',\n",
       " 'me',\n",
       " '(Oh)',\n",
       " 'I',\n",
       " 'cannot',\n",
       " 'see',\n",
       " 'clearly',\n",
       " 'when',\n",
       " 'you are',\n",
       " 'gone',\n",
       " 'I',\n",
       " 'said,',\n",
       " 'ooh,',\n",
       " 'I am',\n",
       " 'blinded',\n",
       " 'by',\n",
       " 'the',\n",
       " 'lights',\n",
       " 'No,',\n",
       " 'I',\n",
       " 'cannot',\n",
       " 'sleep',\n",
       " 'until',\n",
       " 'I',\n",
       " 'feel',\n",
       " 'your',\n",
       " 'touch',\n",
       " 'I',\n",
       " 'said,',\n",
       " 'ooh,',\n",
       " 'I am',\n",
       " 'drowning',\n",
       " 'in',\n",
       " 'the',\n",
       " 'night',\n",
       " 'Oh,',\n",
       " 'when',\n",
       " 'I am',\n",
       " 'like',\n",
       " 'this,',\n",
       " 'you are',\n",
       " 'the',\n",
       " 'one',\n",
       " 'I',\n",
       " 'trust',\n",
       " 'Hey,',\n",
       " 'hey,',\n",
       " 'hey',\n",
       " 'I am',\n",
       " 'running',\n",
       " 'out',\n",
       " 'of',\n",
       " 'time',\n",
       " 'Because',\n",
       " 'I',\n",
       " 'can',\n",
       " 'see',\n",
       " 'the',\n",
       " 'sun',\n",
       " 'light',\n",
       " 'up',\n",
       " 'the',\n",
       " 'sky',\n",
       " 'So',\n",
       " 'I',\n",
       " 'hit',\n",
       " 'the',\n",
       " 'road',\n",
       " 'in',\n",
       " 'overdrive,',\n",
       " 'baby,',\n",
       " 'oh',\n",
       " 'The',\n",
       " \"city's\",\n",
       " 'cold',\n",
       " 'and',\n",
       " 'empty',\n",
       " '(Oh)',\n",
       " 'No',\n",
       " \"one's\",\n",
       " 'around',\n",
       " 'to',\n",
       " 'judge',\n",
       " 'me',\n",
       " '(Oh)',\n",
       " 'I',\n",
       " 'cannot',\n",
       " 'see',\n",
       " 'clearly',\n",
       " 'when',\n",
       " 'you are',\n",
       " 'gone',\n",
       " 'I',\n",
       " 'said,',\n",
       " 'ooh,',\n",
       " 'I am',\n",
       " 'blinded',\n",
       " 'by',\n",
       " 'the',\n",
       " 'lights',\n",
       " 'No,',\n",
       " 'I',\n",
       " 'cannot',\n",
       " 'sleep',\n",
       " 'until',\n",
       " 'I',\n",
       " 'feel',\n",
       " 'your',\n",
       " 'touch',\n",
       " 'I',\n",
       " 'said,',\n",
       " 'ooh,',\n",
       " 'I am',\n",
       " 'drowning',\n",
       " 'in',\n",
       " 'the',\n",
       " 'night',\n",
       " 'Oh,',\n",
       " 'when',\n",
       " 'I am',\n",
       " 'like',\n",
       " 'this,',\n",
       " 'you are',\n",
       " 'the',\n",
       " 'one',\n",
       " 'I',\n",
       " 'trust',\n",
       " 'Related',\n",
       " 'Songs',\n",
       " 'I am',\n",
       " 'just',\n",
       " 'calling',\n",
       " 'back',\n",
       " 'to',\n",
       " 'let',\n",
       " 'you',\n",
       " 'know',\n",
       " '(Back',\n",
       " 'to',\n",
       " 'let',\n",
       " 'you',\n",
       " 'know)',\n",
       " 'I',\n",
       " 'could',\n",
       " 'never',\n",
       " 'say',\n",
       " 'it',\n",
       " 'on',\n",
       " 'the',\n",
       " 'phone',\n",
       " '(Say',\n",
       " 'it',\n",
       " 'on',\n",
       " 'the',\n",
       " 'phone)',\n",
       " 'Will',\n",
       " 'never',\n",
       " 'let',\n",
       " 'you',\n",
       " 'go',\n",
       " 'this',\n",
       " 'time',\n",
       " '(Ooh)',\n",
       " 'I',\n",
       " 'said,',\n",
       " 'ooh,',\n",
       " 'I am',\n",
       " 'blinded',\n",
       " 'by',\n",
       " 'the',\n",
       " 'lights',\n",
       " 'No,',\n",
       " 'I',\n",
       " 'cannot',\n",
       " 'sleep',\n",
       " 'until',\n",
       " 'I',\n",
       " 'feel',\n",
       " 'your',\n",
       " 'touch',\n",
       " 'Hey,',\n",
       " 'hey,',\n",
       " 'hey',\n",
       " 'Hey,',\n",
       " 'hey,',\n",
       " 'hey',\n",
       " 'I',\n",
       " 'said,',\n",
       " 'ooh,',\n",
       " 'I am',\n",
       " 'blinded',\n",
       " 'by',\n",
       " 'the',\n",
       " 'lights',\n",
       " 'No,',\n",
       " 'I',\n",
       " 'cannot',\n",
       " 'sleep',\n",
       " 'until',\n",
       " 'I',\n",
       " 'feel',\n",
       " 'your',\n",
       " 'touch264Embed']"
      ]
     },
     "execution_count": 20,
     "metadata": {},
     "output_type": "execute_result"
    }
   ],
   "source": [
    "# Examine the content of a specific cell\n",
    "df.iat[2754,29]"
   ]
  },
  {
   "cell_type": "markdown",
   "id": "f6a1f7ff-0e1c-47a0-8965-f878da03c592",
   "metadata": {},
   "source": [
    "From the above examination, it appears that the last word 'embed' could be joint to other words of the lyric. That needs to be kept in mind when removing it later."
   ]
  },
  {
   "cell_type": "code",
   "execution_count": 52,
   "id": "dd8831ed-51f1-42a9-a935-ace95b9c8707",
   "metadata": {},
   "outputs": [],
   "source": [
    "# Convert the lists back into string for tokenization later\n",
    "\n",
    "df['str'] = [' '.join(map(str, l)) for l in df['expanded']]"
   ]
  },
  {
   "cell_type": "code",
   "execution_count": 25,
   "id": "91e20159-1d72-4c69-bd4d-2b048ba49a57",
   "metadata": {},
   "outputs": [
    {
     "data": {
      "text/html": [
       "<div>\n",
       "<style scoped>\n",
       "    .dataframe tbody tr th:only-of-type {\n",
       "        vertical-align: middle;\n",
       "    }\n",
       "\n",
       "    .dataframe tbody tr th {\n",
       "        vertical-align: top;\n",
       "    }\n",
       "\n",
       "    .dataframe thead th {\n",
       "        text-align: right;\n",
       "    }\n",
       "</style>\n",
       "<table border=\"1\" class=\"dataframe\">\n",
       "  <thead>\n",
       "    <tr style=\"text-align: right;\">\n",
       "      <th></th>\n",
       "      <th>lyrics</th>\n",
       "      <th>expanded</th>\n",
       "      <th>str</th>\n",
       "    </tr>\n",
       "  </thead>\n",
       "  <tbody>\n",
       "    <tr>\n",
       "      <th>2754</th>\n",
       "      <td>Yeah I've been tryna call I've been on my own ...</td>\n",
       "      <td>[Yeah, I have, been, tryna, call, I have, been...</td>\n",
       "      <td>Yeah I have been tryna call I have been on my ...</td>\n",
       "    </tr>\n",
       "  </tbody>\n",
       "</table>\n",
       "</div>"
      ],
      "text/plain": [
       "                                                 lyrics  \\\n",
       "2754  Yeah I've been tryna call I've been on my own ...   \n",
       "\n",
       "                                               expanded  \\\n",
       "2754  [Yeah, I have, been, tryna, call, I have, been...   \n",
       "\n",
       "                                                    str  \n",
       "2754  Yeah I have been tryna call I have been on my ...  "
      ]
     },
     "execution_count": 25,
     "metadata": {},
     "output_type": "execute_result"
    }
   ],
   "source": [
    "# Check\n",
    "df.iloc[[2754], [23, 29, 30]]"
   ]
  },
  {
   "cell_type": "markdown",
   "id": "f49400e5-cfb6-4edb-a27e-d80d401ef9e0",
   "metadata": {},
   "source": [
    "## Cleaning\n",
    "\n",
    "*I'm blue\n",
    "<br>Da ba dee da ba di<br>\n",
    "Da ba dee da ba di...*"
   ]
  },
  {
   "cell_type": "code",
   "execution_count": 69,
   "id": "931d2f3b-bd61-4766-a267-2e87cd7392e6",
   "metadata": {},
   "outputs": [],
   "source": [
    "# Import stopwords to remove words that commonly\n",
    "# appear in text but do not add a lot of meaning and analysis value like 'a'\n",
    "from nltk.corpus import stopwords  \n",
    "stop_words = set(stopwords.words(\"english\"))\n",
    "\n",
    "# Add words not in the NLTK stopwords list- mostly melodic words\n",
    "new_stopwords = ['ooh','yeah','hey','whoa','woah', 'ohh', 'was', 'mmmm', \n",
    "                 'oooh','yah','yeh','mmm', 'hmm','deh','doh','jah','hmmm']\n",
    "stopwords = stop_words.union(new_stopwords)"
   ]
  },
  {
   "cell_type": "code",
   "execution_count": 54,
   "id": "ff81c7fe-2045-455c-8e15-3da92e435d33",
   "metadata": {},
   "outputs": [],
   "source": [
    "def preprocess(text):\n",
    "    '''perform some preliminary cleaning to text'''\n",
    "    \n",
    "    # Convert text to lower cases\n",
    "    text = text.lower() \n",
    "    # Remove words with less than 3 characters like oh, la\n",
    "    text = re.sub(r'\\b\\w{1,3}\\b',' ',text)\n",
    "    # Remove punctuation\n",
    "    text= re.sub(r'[^\\w\\s]', '', str(text))  \n",
    "    # Remove the digits\n",
    "    text = re.sub(r'\\d',' ',text)\n",
    "    # Remove the word \"embed\" at the end of each lyric\n",
    "    text = re.sub(r'(?:embed)', '',text)\n",
    "    # Replace subsequent whitespace(s) with a single whitespace\n",
    "    text = re.sub('\\s+', ' ', text) \n",
    "    text = [w for w in text.split() if w not in set(stopwords)]\n",
    "    return ' '.join(text)\n",
    "\n",
    "# Apply function\n",
    "df['cleaned'] = df['str'].apply(preprocess)"
   ]
  },
  {
   "cell_type": "code",
   "execution_count": 30,
   "id": "9b2f04e9-dbc3-477b-9254-1abc56d81137",
   "metadata": {},
   "outputs": [
    {
     "data": {
      "text/html": [
       "<div>\n",
       "<style scoped>\n",
       "    .dataframe tbody tr th:only-of-type {\n",
       "        vertical-align: middle;\n",
       "    }\n",
       "\n",
       "    .dataframe tbody tr th {\n",
       "        vertical-align: top;\n",
       "    }\n",
       "\n",
       "    .dataframe thead th {\n",
       "        text-align: right;\n",
       "    }\n",
       "</style>\n",
       "<table border=\"1\" class=\"dataframe\">\n",
       "  <thead>\n",
       "    <tr style=\"text-align: right;\">\n",
       "      <th></th>\n",
       "      <th>lyrics</th>\n",
       "      <th>expanded</th>\n",
       "      <th>str</th>\n",
       "      <th>cleaned</th>\n",
       "    </tr>\n",
       "  </thead>\n",
       "  <tbody>\n",
       "    <tr>\n",
       "      <th>2754</th>\n",
       "      <td>Yeah I've been tryna call I've been on my own ...</td>\n",
       "      <td>[Yeah, I have, been, tryna, call, I have, been...</td>\n",
       "      <td>Yeah I have been tryna call I have been on my ...</td>\n",
       "      <td>tryna call long enough maybe show love maybe g...</td>\n",
       "    </tr>\n",
       "  </tbody>\n",
       "</table>\n",
       "</div>"
      ],
      "text/plain": [
       "                                                 lyrics  \\\n",
       "2754  Yeah I've been tryna call I've been on my own ...   \n",
       "\n",
       "                                               expanded  \\\n",
       "2754  [Yeah, I have, been, tryna, call, I have, been...   \n",
       "\n",
       "                                                    str  \\\n",
       "2754  Yeah I have been tryna call I have been on my ...   \n",
       "\n",
       "                                                cleaned  \n",
       "2754  tryna call long enough maybe show love maybe g...  "
      ]
     },
     "execution_count": 30,
     "metadata": {},
     "output_type": "execute_result"
    }
   ],
   "source": [
    "# Display\n",
    "df.iloc[[2754], [23, 29, 30,31]]"
   ]
  },
  {
   "cell_type": "code",
   "execution_count": 33,
   "id": "c028eedf-4307-4cac-bd23-cfac58088928",
   "metadata": {},
   "outputs": [
    {
     "data": {
      "text/plain": [
       "'tryna call long enough maybe show love maybe going withdrawals even much turn touch baby look around city cold empty around judge cannot clearly gone said blinded lights cannot sleep feel touch said drowning night like trust running time light road overdrive baby city cold empty around judge cannot clearly gone said blinded lights cannot sleep feel touch said drowning night like trust related songs calling back know back know could never phone phone never time said blinded lights cannot sleep feel touch said blinded lights cannot sleep feel touch'"
      ]
     },
     "execution_count": 33,
     "metadata": {},
     "output_type": "execute_result"
    }
   ],
   "source": [
    "# Check: The Weekend's Blinding Lights\n",
    "df.iat[2754,31]"
   ]
  },
  {
   "cell_type": "code",
   "execution_count": 35,
   "id": "4e7fae5d-429e-4bd9-bcfa-050e982c5eee",
   "metadata": {},
   "outputs": [
    {
     "data": {
      "text/plain": [
       "'seven hours fifteen days since took love away every night sleep since took love away since gone whatever want whomever choose dinner fancy restaurant nothing said nothing take away blues nothing compares nothing compares lonely without like bird without song nothing stop lonely tears falling tell baby wrong could arms around every would remind went doctor guess told guess told said girl better matter fool nothing compares nothing compares flowers planted mama back yard died went away know living baby sometimes hard willing give another nothing compares nothing compares nothing compares nothing compares nothing compares nothing compares'"
      ]
     },
     "execution_count": 35,
     "metadata": {},
     "output_type": "execute_result"
    }
   ],
   "source": [
    "# Check: Sinead O'Connor's Nothing Compares 2 U\n",
    "df.iat[2,31]"
   ]
  },
  {
   "cell_type": "code",
   "execution_count": 34,
   "id": "66e90e8c-536b-4dfb-b33f-e93aaf6e3ef9",
   "metadata": {},
   "outputs": [
    {
     "data": {
      "text/plain": [
       "'sorry sorry like missed shot like dropped ball damn sorry like stage forgot words damn sorry like building house roof doors damn sorry like trying propose ring damn sorry girl apologized million times apologize million comes wrong done ready babe million girl sorry going mess year take chance make real clear sorry sorry june real sorry july case tell august september october november till december sorry sorry like stayin night much drink damn sorry like change hair thing damn sorry like fallin fast asleep kiss sorry like forgot gift damn sorry girl apologized million times apologize million comes wrong done ready babe million girl sorry going mess year take chance take time make real clear sorry sorry june real sorry july case tell august september october november till december sorry sorry sorry sorry bottom heart hurt girl sorry weekends sorry weekdays sorry things sorry things said sorry lies sorry time want like tell sorry babe sorry sorry oooooooooooooohhhhhhh wooooooooh strip clubs tubs gone give want lose love girl sorry going mess year take chance make real clear sorry sorry june real sorry july case tell august september october november till december sorry sorry girl sorry sorry girl sorry sorry'"
      ]
     },
     "execution_count": 34,
     "metadata": {},
     "output_type": "execute_result"
    }
   ],
   "source": [
    "# Check: Rubben Studdard's Sorry\n",
    "df.iat[1305,31]"
   ]
  },
  {
   "cell_type": "markdown",
   "id": "52078965-28c3-4ff5-b3b2-5cdb5dba1d20",
   "metadata": {},
   "source": [
    "## Lemmatisation"
   ]
  },
  {
   "cell_type": "markdown",
   "id": "6e42d152-c10b-4c80-b30e-07168c97603f",
   "metadata": {},
   "source": [
    "**(a) Part of Speech (POS) tagging**"
   ]
  },
  {
   "cell_type": "code",
   "execution_count": 55,
   "id": "f596ebc0-4ac1-49bb-959a-01a18d38e617",
   "metadata": {},
   "outputs": [],
   "source": [
    "from nltk import pos_tag\n",
    "\n",
    "# Mapping pos tags\n",
    "def get_wordnet_pos(pos_tag):\n",
    "    if pos_tag.startswith('J'):\n",
    "        return wordnet.ADJ\n",
    "    elif pos_tag.startswith('V'):\n",
    "        return wordnet.VERB\n",
    "    elif pos_tag.startswith('N'):\n",
    "        return wordnet.NOUN\n",
    "    elif pos_tag.startswith('R'):\n",
    "        return wordnet.ADV\n",
    "    else:\n",
    "        return wordnet.NOUN"
   ]
  },
  {
   "cell_type": "markdown",
   "id": "8e66cfea-cc7f-4ec2-ab89-ba76d32c0400",
   "metadata": {},
   "source": [
    "**(b) Lemmas proper**"
   ]
  },
  {
   "cell_type": "code",
   "execution_count": 56,
   "id": "ccd118ed-e909-4ca4-95f9-d5b4e8c2c582",
   "metadata": {},
   "outputs": [],
   "source": [
    "# Lemmatizing \n",
    "import string\n",
    "\n",
    "def clean_text(text):\n",
    "    # Split the lyrics\n",
    "    text = [word.strip(string.punctuation) for word in text.split()]\n",
    "    pos_tags = pos_tag(text)\n",
    "    # Using lemmatiser from WordNet\n",
    "    lemmatizer = WordNetLemmatizer()\n",
    "    # Identify correct part of speech and convert them back to dictionary form\n",
    "    text = [lemmatizer.lemmatize(t[0], get_wordnet_pos(t[1])) for t in pos_tags]\n",
    "    # Join them back\n",
    "    text = \" \".join(text)\n",
    "    return(text)\n",
    "\n",
    "# Apply lemmatisation function\n",
    "df[\"lemmas\"]= df['cleaned'].apply(clean_text)"
   ]
  },
  {
   "cell_type": "code",
   "execution_count": 46,
   "id": "6b136c0c-8a3b-46a6-8e8c-b593832b5196",
   "metadata": {},
   "outputs": [
    {
     "data": {
      "text/html": [
       "<div>\n",
       "<style scoped>\n",
       "    .dataframe tbody tr th:only-of-type {\n",
       "        vertical-align: middle;\n",
       "    }\n",
       "\n",
       "    .dataframe tbody tr th {\n",
       "        vertical-align: top;\n",
       "    }\n",
       "\n",
       "    .dataframe thead th {\n",
       "        text-align: right;\n",
       "    }\n",
       "</style>\n",
       "<table border=\"1\" class=\"dataframe\">\n",
       "  <thead>\n",
       "    <tr style=\"text-align: right;\">\n",
       "      <th></th>\n",
       "      <th>lyrics</th>\n",
       "      <th>expanded</th>\n",
       "      <th>str</th>\n",
       "      <th>cleaned</th>\n",
       "      <th>lemmas</th>\n",
       "    </tr>\n",
       "  </thead>\n",
       "  <tbody>\n",
       "    <tr>\n",
       "      <th>2754</th>\n",
       "      <td>Yeah I've been tryna call I've been on my own ...</td>\n",
       "      <td>[Yeah, I have, been, tryna, call, I have, been...</td>\n",
       "      <td>Yeah I have been tryna call I have been on my ...</td>\n",
       "      <td>tryna call long enough maybe show love maybe g...</td>\n",
       "      <td>tryna call long enough maybe show love maybe g...</td>\n",
       "    </tr>\n",
       "  </tbody>\n",
       "</table>\n",
       "</div>"
      ],
      "text/plain": [
       "                                                 lyrics  \\\n",
       "2754  Yeah I've been tryna call I've been on my own ...   \n",
       "\n",
       "                                               expanded  \\\n",
       "2754  [Yeah, I have, been, tryna, call, I have, been...   \n",
       "\n",
       "                                                    str  \\\n",
       "2754  Yeah I have been tryna call I have been on my ...   \n",
       "\n",
       "                                                cleaned  \\\n",
       "2754  tryna call long enough maybe show love maybe g...   \n",
       "\n",
       "                                                 lemmas  \n",
       "2754  tryna call long enough maybe show love maybe g...  "
      ]
     },
     "execution_count": 46,
     "metadata": {},
     "output_type": "execute_result"
    }
   ],
   "source": [
    "df.iloc[[2754], [23, 29, 30,31, 32]]"
   ]
  },
  {
   "cell_type": "code",
   "execution_count": 48,
   "id": "b0eead34-476e-441c-bd0c-d8c12dd13754",
   "metadata": {},
   "outputs": [
    {
     "data": {
      "text/plain": [
       "'seven hour fifteen day since take love away every night sleep since take love away since go whatever want whomever choose dinner fancy restaurant nothing say nothing take away blue nothing compare nothing compare lonely without like bird without song nothing stop lonely tear fall tell baby wrong could arm around every would remind go doctor guess tell guess tell say girl well matter fool nothing compare nothing compare flower plant mama back yard die go away know live baby sometimes hard willing give another nothing compare nothing compare nothing compare nothing compare nothing compare nothing compare'"
      ]
     },
     "execution_count": 48,
     "metadata": {},
     "output_type": "execute_result"
    }
   ],
   "source": [
    "# Check: Sinead O'Connor's Nothing Compares 2 U\n",
    "df.iat[2,32]"
   ]
  },
  {
   "cell_type": "code",
   "execution_count": 49,
   "id": "8cb99c56-c957-4aa5-ae95-7d912e9405c4",
   "metadata": {},
   "outputs": [
    {
     "data": {
      "text/plain": [
       "'tryna call long enough maybe show love maybe go withdrawal even much turn touch baby look around city cold empty around judge cannot clearly go say blind light cannot sleep feel touch say drown night like trust run time light road overdrive baby city cold empty around judge cannot clearly go say blind light cannot sleep feel touch say drown night like trust relate song call back know back know could never phone phone never time say blinded light cannot sleep feel touch say blinded light cannot sleep feel touch'"
      ]
     },
     "execution_count": 49,
     "metadata": {},
     "output_type": "execute_result"
    }
   ],
   "source": [
    "# Check: The Weekend's Blinding Lights\n",
    "df.iat[2754,32]"
   ]
  },
  {
   "cell_type": "code",
   "execution_count": 57,
   "id": "3ecbf462-b5fc-499a-a0ab-e55a8ebe7026",
   "metadata": {},
   "outputs": [],
   "source": [
    "# Drop previous lyrics related columns now that the lyrics have \n",
    "# been cleaned and lemmatised\n",
    "df = df.drop(columns=['lyrics', 'expanded', 'str', 'cleaned'])"
   ]
  },
  {
   "cell_type": "code",
   "execution_count": 58,
   "id": "f7d83126-3ea6-4f82-84f7-f940976fbac2",
   "metadata": {},
   "outputs": [],
   "source": [
    "# Re-name the lemmas to lyrics\n",
    "df.rename(columns= {'lemmas':'lyrics'}, inplace= True)"
   ]
  },
  {
   "cell_type": "code",
   "execution_count": 13,
   "id": "75f884e9-55eb-40ac-89f9-f8a1a7e7a9fc",
   "metadata": {},
   "outputs": [
    {
     "name": "stdout",
     "output_type": "stream",
     "text": [
      "Index(['year', 'rank', 'song', 'artist', 'genre', 'popularity', 'explicit',\n",
      "       'album', 'release_year', 'release_month', 'danceability', 'energy',\n",
      "       'key', 'loudness', 'mode', 'speechiness', 'acousticness',\n",
      "       'instrumentalness', 'liveness', 'valence', 'tempo', 'duration_m',\n",
      "       'time_signature', 'genre_split', 'lyric_pos', 'lyric_neu', 'lyric_neg',\n",
      "       'hit', 'lyrics'],\n",
      "      dtype='object')\n"
     ]
    }
   ],
   "source": [
    "# Check\n",
    "print(df.keys())"
   ]
  },
  {
   "cell_type": "code",
   "execution_count": 6,
   "id": "e5bce5b5-1fd3-40ee-ad68-3a92c9468b0d",
   "metadata": {},
   "outputs": [],
   "source": [
    "# Tokenize the text\n",
    "df['tokens'] = df['lyrics'].apply(word_tokenize)"
   ]
  },
  {
   "cell_type": "code",
   "execution_count": 16,
   "id": "523dd0b1-f132-4a63-bffa-211d439a76e6",
   "metadata": {},
   "outputs": [
    {
     "data": {
      "text/html": [
       "<div>\n",
       "<style scoped>\n",
       "    .dataframe tbody tr th:only-of-type {\n",
       "        vertical-align: middle;\n",
       "    }\n",
       "\n",
       "    .dataframe tbody tr th {\n",
       "        vertical-align: top;\n",
       "    }\n",
       "\n",
       "    .dataframe thead th {\n",
       "        text-align: right;\n",
       "    }\n",
       "</style>\n",
       "<table border=\"1\" class=\"dataframe\">\n",
       "  <thead>\n",
       "    <tr style=\"text-align: right;\">\n",
       "      <th></th>\n",
       "      <th>lyrics</th>\n",
       "      <th>tokens</th>\n",
       "    </tr>\n",
       "  </thead>\n",
       "  <tbody>\n",
       "    <tr>\n",
       "      <th>2754</th>\n",
       "      <td>tryna call long enough maybe show love maybe g...</td>\n",
       "      <td>[tryna, call, long, enough, maybe, show, love,...</td>\n",
       "    </tr>\n",
       "  </tbody>\n",
       "</table>\n",
       "</div>"
      ],
      "text/plain": [
       "                                                 lyrics  \\\n",
       "2754  tryna call long enough maybe show love maybe g...   \n",
       "\n",
       "                                                 tokens  \n",
       "2754  [tryna, call, long, enough, maybe, show, love,...  "
      ]
     },
     "execution_count": 16,
     "metadata": {},
     "output_type": "execute_result"
    }
   ],
   "source": [
    "# Check\n",
    "df.iloc[[2754], [28,29]]"
   ]
  },
  {
   "cell_type": "code",
   "execution_count": 60,
   "id": "b30a1cdf-50fe-4ecd-863a-56a0d5462d45",
   "metadata": {},
   "outputs": [],
   "source": [
    "# Saving the dataframe to csv file\n",
    "df.to_csv('tokenise.csv', index= False)"
   ]
  },
  {
   "cell_type": "code",
   "execution_count": 4,
   "id": "c3e655fa-3250-4b45-b2ef-ab8e729c8499",
   "metadata": {},
   "outputs": [],
   "source": [
    "#df = pd.read_csv('/Final_submission/22a204h/tokenise.csv')"
   ]
  },
  {
   "cell_type": "code",
   "execution_count": null,
   "id": "0f573731-9a9f-4bb8-be82-f97de3f60274",
   "metadata": {},
   "outputs": [],
   "source": [
    "#df.head()"
   ]
  },
  {
   "cell_type": "markdown",
   "id": "27f5eed8-e0e5-4f69-a947-cbf64e0a8303",
   "metadata": {},
   "source": [
    "# Gensim LDA model training"
   ]
  },
  {
   "cell_type": "markdown",
   "id": "d64e0881-3bcb-45cf-94b4-943f28aa6752",
   "metadata": {},
   "source": [
    "## Dictionary and corpus creation"
   ]
  },
  {
   "cell_type": "markdown",
   "id": "88dabd4d-8230-4b9b-bbd1-21ccbb3e3320",
   "metadata": {},
   "source": [
    "**Dictionary Creation and occurrence-based filtering**\n",
    "\n",
    "Gensim will first be used to perform Latent Dirichlet Allocation (LDA) for the topic modelling, which requires a dictionary representation of the documents. It involves mapping all the tokens to a unique ID, which reduces the overall dimensionality of a literature corpus[2]. Additionally tokens that occur in less than 100 songs, or tokens that occur in more than 80% of songs will be filtered out [3]."
   ]
  },
  {
   "cell_type": "code",
   "execution_count": 8,
   "id": "29957ce1-941f-4b74-bcfe-f6bf6bcd8fc6",
   "metadata": {},
   "outputs": [],
   "source": [
    "import gensim.corpora as corpora\n",
    "\n",
    "# Create dictionary\n",
    "dictionary = corpora.Dictionary(df['tokens'])\n",
    "\n",
    "# Filter out token as per criteria mentioned above\n",
    "# no_below= tokens that occur in less than 100 songs\n",
    "# no_above= that occur in more than 80% of songs\n",
    "dictionary.filter_extremes(no_below = 100, no_above = 0.8)"
   ]
  },
  {
   "cell_type": "markdown",
   "id": "3cd303d6-301d-4b27-84fd-ecd111449571",
   "metadata": {},
   "source": [
    "**Bag-of-Words and Index to Dictionary Conversion**\n",
    "\n",
    "Each song (already transformed into a list of tokens) is converted into the bag-of-words format, which only stores the unique token ID and its count for each song [4]."
   ]
  },
  {
   "cell_type": "code",
   "execution_count": 9,
   "id": "bae7dd21-2fe3-4b90-9f94-00e5cf90d8f9",
   "metadata": {},
   "outputs": [],
   "source": [
    "# Create Corpus\n",
    "texts = df['tokens']\n",
    "# Convert each song to bag-of-words \n",
    "corpus = [dictionary.doc2bow(text) for text in texts]"
   ]
  },
  {
   "cell_type": "code",
   "execution_count": 21,
   "id": "c3f640a8-f866-447c-9533-c0b58ed05326",
   "metadata": {},
   "outputs": [
    {
     "name": "stdout",
     "output_type": "stream",
     "text": [
      "[(0, 3), (1, 7), (2, 3), (3, 1), (4, 4), (5, 8), (6, 1), (7, 1), (8, 1), (9, 2), (10, 7), (11, 4), (12, 1), (13, 24), (14, 1), (15, 12), (16, 1), (17, 1), (18, 7), (19, 1), (20, 3), (21, 1), (22, 1), (23, 5), (24, 1), (25, 3), (26, 1), (27, 1), (28, 13), (29, 1)]\n"
     ]
    }
   ],
   "source": [
    "# View\n",
    "print(corpus[:1][0][:30])"
   ]
  },
  {
   "cell_type": "markdown",
   "id": "63683cf8-d135-4013-8641-6390a2aea0ec",
   "metadata": {},
   "source": [
    "## Modelling"
   ]
  },
  {
   "cell_type": "code",
   "execution_count": 10,
   "id": "ab06a2b7-b4f0-4ae8-b25a-6830dca2a3d2",
   "metadata": {},
   "outputs": [],
   "source": [
    "# chunksize= the number of documents processed at a time in the training algorithm [5]\n",
    "chunksize = 200\n",
    "# passes= how often the model is trained on the entire corpus [5]\n",
    "passes = 20\n",
    "# Number of topics set at 6 as from EDA, there are approximately\n",
    "# 6 main music genre: Urban contemporary, pop, rock, R&B, rap, hip hop\n",
    "num_topics = 6"
   ]
  },
  {
   "cell_type": "code",
   "execution_count": 11,
   "id": "28244d89-998c-4665-ad6c-d73c73ecb5ab",
   "metadata": {},
   "outputs": [],
   "source": [
    "# Training the model\n",
    "from gensim.models import LdaModel\n",
    "lda_model = LdaModel(\n",
    "corpus=corpus,\n",
    "id2word=dictionary,\n",
    "chunksize=chunksize,\n",
    "alpha='auto',\n",
    "eta='auto',\n",
    "num_topics=num_topics,\n",
    "random_state=42,\n",
    "passes=passes)"
   ]
  },
  {
   "cell_type": "code",
   "execution_count": 12,
   "id": "ffec6519-62b2-4dfa-a8d7-31f279012143",
   "metadata": {},
   "outputs": [
    {
     "name": "stdout",
     "output_type": "stream",
     "text": [
      "[(0,\n",
      "  '0.076*\"bitch\" + 0.073*\"nigga\" + 0.063*\"shit\" + 0.062*\"fuck\" + 0.043*\"money\" '\n",
      "  '+ 0.037*\"like\" + 0.021*\"real\" + 0.019*\"back\" + 0.018*\"tryna\" + '\n",
      "  '0.017*\"ride\"'),\n",
      " (1,\n",
      "  '0.130*\"like\" + 0.038*\"come\" + 0.029*\"girl\" + 0.024*\"make\" + 0.021*\"back\" + '\n",
      "  '0.019*\"body\" + 0.019*\"look\" + 0.018*\"dance\" + 0.018*\"right\" + 0.017*\"hand\"'),\n",
      " (2,\n",
      "  '0.038*\"never\" + 0.035*\"time\" + 0.031*\"feel\" + 0.027*\"life\" + 0.027*\"would\" '\n",
      "  '+ 0.025*\"could\" + 0.023*\"night\" + 0.022*\"good\" + 0.022*\"know\" + '\n",
      "  '0.021*\"take\"'),\n",
      " (3,\n",
      "  '0.073*\"can\" + 0.073*\"not\" + 0.071*\"go\" + 0.029*\"heart\" + 0.027*\"give\" + '\n",
      "  '0.027*\"keep\" + 0.027*\"back\" + 0.025*\"break\" + 0.019*\"make\" + 0.018*\"wait\"'),\n",
      " (4,\n",
      "  '0.315*\"love\" + 0.233*\"baby\" + 0.027*\"babe\" + 0.026*\"come\" + 0.026*\"need\" + '\n",
      "  '0.022*\"give\" + 0.021*\"girl\" + 0.015*\"feel\" + 0.014*\"touch\" + '\n",
      "  '0.014*\"nobody\"'),\n",
      " (5,\n",
      "  '0.138*\"want\" + 0.103*\"know\" + 0.043*\"need\" + 0.037*\"tell\" + 0.028*\"think\" + '\n",
      "  '0.027*\"girl\" + 0.021*\"call\" + 0.020*\"thing\" + 0.020*\"really\" + '\n",
      "  '0.020*\"talk\"')]\n"
     ]
    }
   ],
   "source": [
    "from pprint import pprint\n",
    "\n",
    "# Print the top 10 words in the 6 topics\n",
    "pprint(lda_model.print_topics())\n",
    "doc_lda = lda_model[corpus]"
   ]
  },
  {
   "cell_type": "markdown",
   "id": "ae8b0ce3-9f49-410c-9928-cf2b70c81721",
   "metadata": {},
   "source": [
    "## Evaluation\n",
    "\n",
    "Coherence measure is used for Gensim LDA models. It is a measure of the degree of semantic similarity between high scoring words in the topic [6]. There are several types of coherence measures and CV coherence score and UMass coherence score."
   ]
  },
  {
   "cell_type": "code",
   "execution_count": 27,
   "id": "a1f4308c-0feb-4f88-896f-788026d6ad5b",
   "metadata": {},
   "outputs": [
    {
     "name": "stdout",
     "output_type": "stream",
     "text": [
      "0.4072156563647125\n"
     ]
    }
   ],
   "source": [
    "# c_v score\n",
    "from gensim.models.coherencemodel import CoherenceModel\n",
    "\n",
    "coherencemodel = CoherenceModel(model=lda_model, texts=df['tokens'], \n",
    "                                dictionary=dictionary, coherence='c_v')\n",
    "print(coherencemodel.get_coherence())"
   ]
  },
  {
   "cell_type": "markdown",
   "id": "df4c9662-4690-41cb-8b87-725f3d157920",
   "metadata": {},
   "source": [
    "CV coherence score is calculated using a sliding window, a one-set segmentation of the top words and an indirect confirmation measure that uses normalized pointwise mutual information (NPMI) and the cosine similarity [7]. It ranges between 0 and 1, the higher it is, the greater the coherence in a topic [8]. \n",
    "\n",
    "The score achieved is less than the half way of the scoring range indicating that coherence is not very ideal within a topic. The topics are visualised using pyLDAvis (a copy of the visualisation is saved. It is recorded in the experiment log too) and as is expected with the low coherence score, some large bubbles/ prevalent topics displaying obvious overlapping indicating the topics are not well distinguished [4]."
   ]
  },
  {
   "cell_type": "code",
   "execution_count": null,
   "id": "39f0d6c0-1574-4bec-b489-a9c14a089e40",
   "metadata": {},
   "outputs": [],
   "source": [
    "# Visualise\n",
    "gensim_vis= gensimvis.prepare(lda_model, corpus, dictionary)\n",
    "# Saving the visualisation to a html file and submitted together \n",
    "# with notebook\n",
    "pyLDAvis.save_html(gensim_vis, 'gensim_vis.html')"
   ]
  },
  {
   "cell_type": "markdown",
   "id": "8ef0f375-803a-492c-b3c8-e9ed0e4797db",
   "metadata": {},
   "source": [
    "**Subsequent correction:**\n",
    "At the time of coding, there was no realisation that there are some issues with the CV score and the author of the library does not recommend using it anymore [7, 9]. \n",
    "\n",
    "Upon discovering that issue, the UMass coherence score is used instead. The UMass score measures the document frequency of two words appearing together, with higher score indicating that two words are appearing in a lot of documents relative to how often just one of the words appearing in documents [10]. The negative score indicates that two words do not appear in documents together very frequently."
   ]
  },
  {
   "cell_type": "code",
   "execution_count": 13,
   "id": "4a1d7ee4-ad40-499e-a6fa-1e0864ef58e6",
   "metadata": {},
   "outputs": [
    {
     "name": "stdout",
     "output_type": "stream",
     "text": [
      "-1.4369366613793304\n"
     ]
    }
   ],
   "source": [
    "# u_mass\n",
    "coherencemodel = CoherenceModel(model=lda_model, corpus=corpus, \n",
    "                                dictionary=dictionary, coherence='u_mass')\n",
    "print(coherencemodel.get_coherence())"
   ]
  },
  {
   "cell_type": "code",
   "execution_count": 31,
   "id": "4446c7de-551d-4d12-9881-b6d7f9d865f3",
   "metadata": {},
   "outputs": [],
   "source": [
    "# Saving the first LDA attempt\n",
    "import pickle\n",
    "\n",
    "pickle.dump(lda_model, open('lda1.pkl','wb'))"
   ]
  },
  {
   "cell_type": "markdown",
   "id": "42b75ada-1624-4cdb-9d63-12a168ae48a7",
   "metadata": {},
   "source": [
    "## Finding the optimal number of topics\n",
    "\n",
    "The function used in this section is from [15]."
   ]
  },
  {
   "cell_type": "markdown",
   "id": "a43df23a-b57e-4006-b5d6-b9d59d0358c8",
   "metadata": {},
   "source": [
    "### Initial parameters\n",
    "\n",
    "**Searching optimal number of topics with initial parameters of chunksize = 200, passes = 20:**"
   ]
  },
  {
   "cell_type": "code",
   "execution_count": 70,
   "id": "7c928804-cc4b-4744-bd18-323cb90f6c15",
   "metadata": {},
   "outputs": [],
   "source": [
    "# Initial params with c_v score\n",
    "# Number of topics start at 5, increasing in steps of 5\n",
    "def compute_coherence_values(dictionary, corpus, texts, limit, start=5, step=5):\n",
    "    \"\"\"\n",
    "    Compute c_v coherence for various number of topics\n",
    "\n",
    "    Parameters:\n",
    "    ----------\n",
    "    dictionary : Gensim dictionary\n",
    "    corpus : Gensim corpus\n",
    "    texts : List of input texts\n",
    "    limit : Max num of topics\n",
    "\n",
    "    Returns:\n",
    "    -------\n",
    "    model_list : List of LDA topic models\n",
    "    coherence_values : Coherence values corresponding to the LDA model with respective number of topics\n",
    "    \"\"\"\n",
    "    coherence_values = []\n",
    "    model_list = []\n",
    "    for num_topics in range(start, limit, step):\n",
    "        model = LdaModel(corpus=corpus, num_topics=num_topics, id2word=dictionary, \n",
    "                         random_state=42, chunksize = 200, passes = 20)\n",
    "        model_list.append(model)\n",
    "        coherencemodel = CoherenceModel(model=model, texts=df['tokens'], dictionary=dictionary, \n",
    "                                        coherence='c_v')\n",
    "        coherence_values.append(coherencemodel.get_coherence())\n",
    "\n",
    "    return model_list, coherence_values"
   ]
  },
  {
   "cell_type": "code",
   "execution_count": 15,
   "id": "f39e210f-cb0f-40a2-907d-5dfdcbd6bce5",
   "metadata": {},
   "outputs": [],
   "source": [
    "# Initial params using u_mass score\n",
    "# # Number of topics start at 5, increasing in steps of 5\n",
    "def compute_coherence_values(dictionary, corpus, texts, limit, start=5, step=5):\n",
    "    \"\"\"\n",
    "    Compute c_v coherence for various number of topics\n",
    "\n",
    "    Parameters:\n",
    "    ----------\n",
    "    dictionary : Gensim dictionary\n",
    "    corpus : Gensim corpus\n",
    "    texts : List of input texts\n",
    "    limit : Max num of topics\n",
    "\n",
    "    Returns:\n",
    "    -------\n",
    "    model_list : List of LDA topic models\n",
    "    coherence_values : Coherence values corresponding to the LDA model with respective number of topics\n",
    "    \"\"\"\n",
    "    coherence_values = []\n",
    "    model_list = []\n",
    "    for num_topics in range(start, limit, step):\n",
    "        model = LdaModel(corpus=corpus, num_topics=num_topics, id2word=dictionary, \n",
    "                         random_state=42, chunksize = 200, passes = 20)\n",
    "        model_list.append(model)\n",
    "        coherencemodel = CoherenceModel(model=model, corpus=corpus, dictionary=dictionary, \n",
    "                                        coherence='u_mass')\n",
    "        coherence_values.append(coherencemodel.get_coherence())\n",
    "\n",
    "    return model_list, coherence_values"
   ]
  },
  {
   "cell_type": "code",
   "execution_count": 20,
   "id": "6916e41d-4238-4289-aaa2-f2187603dd50",
   "metadata": {},
   "outputs": [],
   "source": [
    "# Initial params with u_mass score\n",
    "# Number of topics start at 2, increasing in steps of 2\n",
    "def compute_coherence_values(dictionary, corpus, texts, limit, start=2, step=2):\n",
    "    \"\"\"\n",
    "    Compute c_v coherence for various number of topics\n",
    "\n",
    "    Parameters:\n",
    "    ----------\n",
    "    dictionary : Gensim dictionary\n",
    "    corpus : Gensim corpus\n",
    "    texts : List of input texts\n",
    "    limit : Max num of topics\n",
    "\n",
    "    Returns:\n",
    "    -------\n",
    "    model_list : List of LDA topic models\n",
    "    coherence_values : Coherence values corresponding to the LDA model with respective number of topics\n",
    "    \"\"\"\n",
    "    coherence_values = []\n",
    "    model_list = []\n",
    "    for num_topics in range(start, limit, step):\n",
    "        model = LdaModel(corpus=corpus, num_topics=num_topics, id2word=dictionary, \n",
    "                         random_state=42, chunksize = 200, passes = 20)\n",
    "        model_list.append(model)\n",
    "        coherencemodel = CoherenceModel(model=model, corpus=corpus, dictionary=dictionary, coherence='u_mass')\n",
    "        coherence_values.append(coherencemodel.get_coherence())\n",
    "\n",
    "    return model_list, coherence_values"
   ]
  },
  {
   "cell_type": "code",
   "execution_count": 16,
   "id": "25c38318-879b-40da-bcda-c1eb874ee3cb",
   "metadata": {},
   "outputs": [],
   "source": [
    "# Call search function starting at 5 topics, it is capped at 25 topics\n",
    "model_list, coherence_values = compute_coherence_values(dictionary=dictionary, corpus=corpus, texts=df['tokens'], start=5, limit=25, step=5)"
   ]
  },
  {
   "cell_type": "code",
   "execution_count": 21,
   "id": "b6699bfe-f42a-41c8-af6f-7f0234239d51",
   "metadata": {},
   "outputs": [],
   "source": [
    "# Call search function starting at 2 topics, it is capped at 10 topics\n",
    "model_list, coherence_values = compute_coherence_values(dictionary=dictionary, \n",
    "                                                        corpus=corpus, texts=df['tokens'], \n",
    "                                                        start=2, limit=10, step=2)"
   ]
  },
  {
   "cell_type": "code",
   "execution_count": 47,
   "id": "ef6927e6-7fef-4939-b78c-a39aa0f7da27",
   "metadata": {},
   "outputs": [
    {
     "name": "stdout",
     "output_type": "stream",
     "text": [
      "Num Topics = 5  has Coherence Value of 0.377\n",
      "Num Topics = 10  has Coherence Value of 0.372\n",
      "Num Topics = 15  has Coherence Value of 0.374\n",
      "Num Topics = 20  has Coherence Value of 0.363\n"
     ]
    }
   ],
   "source": [
    "# Print the coherence scores for c_v\n",
    "for m, cv in zip(x, coherence_values):\n",
    "    print(\"Num Topics =\", m, \" has Coherence Value of\", round(cv, 3))"
   ]
  },
  {
   "cell_type": "code",
   "execution_count": 19,
   "id": "b989ca45-5c28-489d-89b2-3808e38e5b57",
   "metadata": {},
   "outputs": [
    {
     "name": "stdout",
     "output_type": "stream",
     "text": [
      "Num Topics = 5  has Coherence Value of -1.246\n",
      "Num Topics = 10  has Coherence Value of -1.573\n",
      "Num Topics = 15  has Coherence Value of -1.76\n",
      "Num Topics = 20  has Coherence Value of -1.793\n"
     ]
    }
   ],
   "source": [
    "# Print the coherence scores for u_mass\n",
    "for m, mass in zip(x, coherence_values):\n",
    "    print(\"Num Topics =\", m, \" has Coherence Value of\", round(mass, 3))"
   ]
  },
  {
   "cell_type": "code",
   "execution_count": 23,
   "id": "33dfc99c-0df1-45a3-8e02-9767e3948b6c",
   "metadata": {},
   "outputs": [
    {
     "name": "stdout",
     "output_type": "stream",
     "text": [
      "Num Topics = 2  has Coherence Value of -0.973\n",
      "Num Topics = 4  has Coherence Value of -1.115\n",
      "Num Topics = 6  has Coherence Value of -1.351\n",
      "Num Topics = 8  has Coherence Value of -1.496\n"
     ]
    }
   ],
   "source": [
    "# Print the coherence scores for u_mass with \n",
    "# smaller steps and starting topics\n",
    "for m, s_mass in zip(x, coherence_values):\n",
    "    print(\"Num Topics =\", m, \" has Coherence Value of\", round(s_mass, 3))"
   ]
  },
  {
   "cell_type": "markdown",
   "id": "a53ec414-0f21-41af-924d-9a82042a8234",
   "metadata": {},
   "source": [
    "From the results above, it is noticed that for CV scoring, none of them are as good as the score for 6 topics. According to UMass the optimal number of topics is 2 as it has the greatest negative value, indicating the highest score among the searches."
   ]
  },
  {
   "cell_type": "markdown",
   "id": "62083c60-bdba-4cde-a3e3-ca0ba90010f4",
   "metadata": {},
   "source": [
    "### Default params"
   ]
  },
  {
   "cell_type": "code",
   "execution_count": 48,
   "id": "7aab9319-b735-4a8d-962e-2a48e76096b6",
   "metadata": {},
   "outputs": [],
   "source": [
    "# Default params with c_v score\n",
    "# Number of topics start at 5, increasing in steps of 5\n",
    "\n",
    "def compute_coherence_values(dictionary, corpus, texts, limit, start=5, step=5):\n",
    "    \"\"\"\n",
    "    Compute c_v coherence for various number of topics\n",
    "\n",
    "    Parameters:\n",
    "    ----------\n",
    "    dictionary : Gensim dictionary\n",
    "    corpus : Gensim corpus\n",
    "    texts : List of input texts\n",
    "    limit : Max num of topics\n",
    "\n",
    "    Returns:\n",
    "    -------\n",
    "    model_list : List of LDA topic models\n",
    "    coherence_values : Coherence values corresponding to the LDA model with respective number of topics\n",
    "    \"\"\"\n",
    "    coherence_values = []\n",
    "    model_list = []\n",
    "    for num_topics in range(start, limit, step):\n",
    "        model = LdaModel(corpus=corpus, num_topics=num_topics, id2word=dictionary, random_state=42)\n",
    "        model_list.append(model)\n",
    "        coherencemodel = CoherenceModel(model=model, texts=df['tokens'], dictionary=dictionary, \n",
    "                                        coherence='c_v')\n",
    "        coherence_values.append(coherencemodel.get_coherence())\n",
    "\n",
    "    return model_list, coherence_values"
   ]
  },
  {
   "cell_type": "code",
   "execution_count": null,
   "id": "adb50870-d1a9-446f-a929-07b79a5a44b4",
   "metadata": {},
   "outputs": [],
   "source": [
    "# Default params with u_mass\n",
    "# Number of topics start at 5, increasing in steps of 5\n",
    "\n",
    "def compute_coherence_values(dictionary, corpus, texts, limit, start=5, step=5):\n",
    "    \"\"\"\n",
    "    Compute c_v coherence for various number of topics\n",
    "\n",
    "    Parameters:\n",
    "    ----------\n",
    "    dictionary : Gensim dictionary\n",
    "    corpus : Gensim corpus\n",
    "    texts : List of input texts\n",
    "    limit : Max num of topics\n",
    "\n",
    "    Returns:\n",
    "    -------\n",
    "    model_list : List of LDA topic models\n",
    "    coherence_values : Coherence values corresponding to the LDA model with respective number of topics\n",
    "    \"\"\"\n",
    "    coherence_values = []\n",
    "    model_list = []\n",
    "    for num_topics in range(start, limit, step):\n",
    "        model = LdaModel(corpus=corpus, num_topics=num_topics, id2word=dictionary, random_state=42)\n",
    "        model_list.append(model)\n",
    "        coherencemodel = CoherenceModel(model=model, corpus=corpus, dictionary=dictionary, \n",
    "                                        coherence='u_mass')\n",
    "        coherence_values.append(coherencemodel.get_coherence())\n",
    "\n",
    "    return model_list, coherence_values"
   ]
  },
  {
   "cell_type": "code",
   "execution_count": 24,
   "id": "339bbaa2-ba1a-4475-9501-bc563fa6ed37",
   "metadata": {},
   "outputs": [],
   "source": [
    "# Call search function starting at 5 topics, it is capped at 25 topics\n",
    "model_list, coherence_values = compute_coherence_values(dictionary=dictionary, \n",
    "                                                        corpus=corpus, texts=df['tokens'], \n",
    "                                                        start=5, limit=25, step=5)"
   ]
  },
  {
   "cell_type": "code",
   "execution_count": 51,
   "id": "096aec55-7b2b-42ae-899e-f8923418d46e",
   "metadata": {},
   "outputs": [
    {
     "name": "stdout",
     "output_type": "stream",
     "text": [
      "Num Topics = 5  has Coherence Value of 0.348\n",
      "Num Topics = 10  has Coherence Value of 0.349\n",
      "Num Topics = 15  has Coherence Value of 0.342\n",
      "Num Topics = 20  has Coherence Value of 0.338\n"
     ]
    }
   ],
   "source": [
    "# Print the coherence scores- CV\n",
    "for m, cv in zip(x, coherence_values):\n",
    "    print(\"Num Topics =\", m, \" has Coherence Value of\", round(cv, 3))"
   ]
  },
  {
   "cell_type": "code",
   "execution_count": 26,
   "id": "d6b5563a-fbcc-434a-abb6-d2b487fd7b64",
   "metadata": {},
   "outputs": [
    {
     "name": "stdout",
     "output_type": "stream",
     "text": [
      "Num Topics = 5  has Coherence Value of -1.246\n",
      "Num Topics = 10  has Coherence Value of -1.573\n",
      "Num Topics = 15  has Coherence Value of -1.76\n",
      "Num Topics = 20  has Coherence Value of -1.793\n"
     ]
    }
   ],
   "source": [
    "# Print the coherence scores- Umass\n",
    "for m, mass2 in zip(x, coherence_values):\n",
    "    print(\"Num Topics =\", m, \" has Coherence Value of\", round(mass2, 3))"
   ]
  },
  {
   "cell_type": "markdown",
   "id": "da9bbdfe-d6d1-4a04-b15e-b06546bd0baa",
   "metadata": {},
   "source": [
    "The UMass scores are the same as those searched with initial parameters while there is no significant improvement for CV scores. "
   ]
  },
  {
   "cell_type": "markdown",
   "id": "4927c5ab-cb9d-49fe-b125-9db8be115793",
   "metadata": {},
   "source": [
    "### Increased chunk size and passes"
   ]
  },
  {
   "cell_type": "code",
   "execution_count": 56,
   "id": "e64442dc-0fbd-47c3-b5c4-8d34ac45b1a3",
   "metadata": {},
   "outputs": [],
   "source": [
    "# Increase chunksize and passes for CV score\n",
    "def compute_coherence_values(dictionary, corpus, texts, limit, start=5, step=5):\n",
    "    \"\"\"\n",
    "    Compute c_v coherence for various number of topics\n",
    "\n",
    "    Parameters:\n",
    "    ----------\n",
    "    dictionary : Gensim dictionary\n",
    "    corpus : Gensim corpus\n",
    "    texts : List of input texts\n",
    "    limit : Max num of topics\n",
    "\n",
    "    Returns:\n",
    "    -------\n",
    "    model_list : List of LDA topic models\n",
    "    coherence_values : Coherence values corresponding to the LDA model with respective number of topics\n",
    "    \"\"\"\n",
    "    coherence_values = []\n",
    "    model_list = []\n",
    "    for num_topics in range(start, limit, step):\n",
    "        model = LdaModel(corpus=corpus, num_topics=num_topics, id2word=dictionary, \n",
    "                         random_state=42, chunksize = 500, passes = 50)\n",
    "        model_list.append(model)\n",
    "        coherencemodel = CoherenceModel(model=model, texts=df['tokens'], dictionary=dictionary, \n",
    "                                        coherence='c_v')\n",
    "        coherence_values.append(coherencemodel.get_coherence())\n",
    "\n",
    "    return model_list, coherence_values"
   ]
  },
  {
   "cell_type": "code",
   "execution_count": 27,
   "id": "d8108450-0458-4e3c-98f5-ae3f9b6b7089",
   "metadata": {},
   "outputs": [],
   "source": [
    "# Increase chunksize and passes for UMass score\n",
    "def compute_coherence_values(dictionary, corpus, texts, limit, start=5, step=5):\n",
    "    \"\"\"\n",
    "    Compute c_v coherence for various number of topics\n",
    "\n",
    "    Parameters:\n",
    "    ----------\n",
    "    dictionary : Gensim dictionary\n",
    "    corpus : Gensim corpus\n",
    "    texts : List of input texts\n",
    "    limit : Max num of topics\n",
    "\n",
    "    Returns:\n",
    "    -------\n",
    "    model_list : List of LDA topic models\n",
    "    coherence_values : Coherence values corresponding to the LDA model with respective number of topics\n",
    "    \"\"\"\n",
    "    coherence_values = []\n",
    "    model_list = []\n",
    "    for num_topics in range(start, limit, step):\n",
    "        model = LdaModel(corpus=corpus, num_topics=num_topics, id2word=dictionary, \n",
    "                         random_state=42, chunksize = 500, passes = 50)\n",
    "        model_list.append(model)\n",
    "        coherencemodel = CoherenceModel(model=model, corpus=corpus, dictionary=dictionary, \n",
    "                                        coherence='u_mass')\n",
    "        coherence_values.append(coherencemodel.get_coherence())\n",
    "\n",
    "    return model_list, coherence_values"
   ]
  },
  {
   "cell_type": "code",
   "execution_count": 31,
   "id": "8667fe09-7dee-4554-a349-5a03cc810d67",
   "metadata": {},
   "outputs": [],
   "source": [
    "# Increase chunksize and passes; smaller start and steps \n",
    "# with number of topics narrowed down - UMass score\n",
    "\n",
    "def compute_coherence_values(dictionary, corpus, texts, limit, start=2, step=2):\n",
    "    \"\"\"\n",
    "    Compute c_v coherence for various number of topics\n",
    "\n",
    "    Parameters:\n",
    "    ----------\n",
    "    dictionary : Gensim dictionary\n",
    "    corpus : Gensim corpus\n",
    "    texts : List of input texts\n",
    "    limit : Max num of topics\n",
    "\n",
    "    Returns:\n",
    "    -------\n",
    "    model_list : List of LDA topic models\n",
    "    coherence_values : Coherence values corresponding to the LDA model with respective number of topics\n",
    "    \"\"\"\n",
    "    coherence_values = []\n",
    "    model_list = []\n",
    "    for num_topics in range(start, limit, step):\n",
    "        model = LdaModel(corpus=corpus, num_topics=num_topics, id2word=dictionary, \n",
    "                         random_state=42, chunksize = 500, passes = 50)\n",
    "        model_list.append(model)\n",
    "        coherencemodel = CoherenceModel(model=model, corpus=corpus, dictionary=dictionary, \n",
    "                                        coherence='u_mass')\n",
    "        coherence_values.append(coherencemodel.get_coherence())\n",
    "\n",
    "    return model_list, coherence_values"
   ]
  },
  {
   "cell_type": "code",
   "execution_count": 28,
   "id": "22be1703-528f-4d92-a573-d8bedd0c0051",
   "metadata": {},
   "outputs": [],
   "source": [
    "# Call search function starting at 5 topics, it is capped at 25 topics\n",
    "model_list, coherence_values = compute_coherence_values(dictionary=dictionary, \n",
    "                                                        corpus=corpus, texts=df['tokens'], \n",
    "                                                        start=5, limit=25, step=5)"
   ]
  },
  {
   "cell_type": "code",
   "execution_count": 32,
   "id": "10496a6b-d4b8-43f8-a303-fada14c93917",
   "metadata": {},
   "outputs": [],
   "source": [
    "# Call search function starting at 2 topics, it is capped at 10 topics\n",
    "model_list, coherence_values = compute_coherence_values(dictionary=dictionary, \n",
    "                                                        corpus=corpus, texts=df['tokens'], \n",
    "                                                        start=2, limit=10, step=2)"
   ]
  },
  {
   "cell_type": "code",
   "execution_count": 58,
   "id": "1f559157-989a-4ac0-a97c-98b7662151cc",
   "metadata": {},
   "outputs": [
    {
     "data": {
      "image/png": "[encoded data removed]",
      "text/plain": [
       "<Figure size 432x288 with 1 Axes>"
      ]
     },
     "metadata": {
      "needs_background": "light"
     },
     "output_type": "display_data"
    }
   ],
   "source": [
    "# Visualise topic number search for c_v\n",
    "limit=25; start=5; step=5;\n",
    "x = range(start, limit, step)\n",
    "plt.plot(x, coherence_values)\n",
    "plt.xlabel(\"Num Topics\")\n",
    "plt.ylabel(\"Coherence score\")\n",
    "plt.legend((\"coherence_values\"), loc='best')\n",
    "plt.show()"
   ]
  },
  {
   "cell_type": "code",
   "execution_count": 29,
   "id": "d433e80c-63b5-4ca4-95b7-e14e48764f89",
   "metadata": {},
   "outputs": [
    {
     "data": {
      "image/png": "[encoded data removed]",
      "text/plain": [
       "<Figure size 432x288 with 1 Axes>"
      ]
     },
     "metadata": {
      "needs_background": "light"
     },
     "output_type": "display_data"
    }
   ],
   "source": [
    "# Visualise topic number search for u_mass\n",
    "limit=25; start=5; step=5;\n",
    "x = range(start, limit, step)\n",
    "plt.plot(x, coherence_values)\n",
    "plt.xlabel(\"Num Topics\")\n",
    "plt.ylabel(\"Coherence score\")\n",
    "plt.legend((\"coherence_values\"), loc='best')\n",
    "plt.show()"
   ]
  },
  {
   "cell_type": "code",
   "execution_count": 33,
   "id": "3aa137bd-a9d6-4b03-ab72-9bf71ff35507",
   "metadata": {},
   "outputs": [
    {
     "data": {
      "image/png": "[encoded data removed]",
      "text/plain": [
       "<Figure size 432x288 with 1 Axes>"
      ]
     },
     "metadata": {
      "needs_background": "light"
     },
     "output_type": "display_data"
    }
   ],
   "source": [
    "# Visualise narrowed down range for topics for Umass score\n",
    "limit=10; start=2; step=2;\n",
    "x = range(start, limit, step)\n",
    "plt.plot(x, coherence_values)\n",
    "plt.xlabel(\"Num Topics\")\n",
    "plt.ylabel(\"Coherence score\")\n",
    "plt.legend((\"coherence_values\"), loc='best')\n",
    "plt.show()"
   ]
  },
  {
   "cell_type": "code",
   "execution_count": 59,
   "id": "b2a93608-23bf-4799-8a8d-8e5966b464c3",
   "metadata": {},
   "outputs": [
    {
     "name": "stdout",
     "output_type": "stream",
     "text": [
      "Num Topics = 5  has Coherence Value of 0.386\n",
      "Num Topics = 10  has Coherence Value of 0.396\n",
      "Num Topics = 15  has Coherence Value of 0.382\n",
      "Num Topics = 20  has Coherence Value of 0.365\n"
     ]
    }
   ],
   "source": [
    "# Print the coherence scores\n",
    "for m, cv in zip(x, coherence_values):\n",
    "    print(\"Num Topics =\", m, \" has Coherence Value of\", round(cv, 3))"
   ]
  },
  {
   "cell_type": "code",
   "execution_count": 30,
   "id": "0cdb228b-e942-481a-9860-14dd5313e989",
   "metadata": {},
   "outputs": [
    {
     "name": "stdout",
     "output_type": "stream",
     "text": [
      "Num Topics = 5  has Coherence Value of -1.256\n",
      "Num Topics = 10  has Coherence Value of -1.465\n",
      "Num Topics = 15  has Coherence Value of -1.706\n",
      "Num Topics = 20  has Coherence Value of -1.77\n"
     ]
    }
   ],
   "source": [
    "# Print the coherence scores\n",
    "for m, increased_mass in zip(x, coherence_values):\n",
    "    print(\"Num Topics =\", m, \" has Coherence Value of\", round(increased_mass, 3))"
   ]
  },
  {
   "cell_type": "code",
   "execution_count": 34,
   "id": "faf80d64-26e8-4337-ba63-f24a02f9df12",
   "metadata": {},
   "outputs": [
    {
     "name": "stdout",
     "output_type": "stream",
     "text": [
      "Num Topics = 2  has Coherence Value of -0.946\n",
      "Num Topics = 4  has Coherence Value of -1.163\n",
      "Num Topics = 6  has Coherence Value of -1.327\n",
      "Num Topics = 8  has Coherence Value of -1.507\n"
     ]
    }
   ],
   "source": [
    "# Print the coherence scores narrow down range\n",
    "for m, increased_mass2 in zip(x, coherence_values):\n",
    "    print(\"Num Topics =\", m, \" has Coherence Value of\", round(increased_mass2, 3))"
   ]
  },
  {
   "cell_type": "markdown",
   "id": "9ef7bdef-9df6-47c0-8832-5bf06a978669",
   "metadata": {},
   "source": [
    "The CV scores for the attemps here are still not comparable to the starting initial attempt. However, the UMass score is the highest here at -0.946 as compared to -0.973 from previous attempts."
   ]
  },
  {
   "cell_type": "markdown",
   "id": "d0288b26-bca3-497a-b436-8a6e2077e0f4",
   "metadata": {},
   "source": [
    "# Optimal number of topics for UMass score"
   ]
  },
  {
   "cell_type": "markdown",
   "id": "8f5e3f74-84b4-4fb5-bafc-107d9303346f",
   "metadata": {},
   "source": [
    "Based on UMass score, the optimal number of topics is 2, with chunk size 500 and 50 passes from the above searches. These parameters will be used to train the LDA model:"
   ]
  },
  {
   "cell_type": "code",
   "execution_count": 37,
   "id": "0e4d06e0-3263-496e-9af1-a81793b46d60",
   "metadata": {},
   "outputs": [],
   "source": [
    "# Parameters\n",
    "chunksize = 500\n",
    "passes = 50\n",
    "num_topics = 2"
   ]
  },
  {
   "cell_type": "code",
   "execution_count": 38,
   "id": "bb179955-7e02-4386-ace4-68319cb1336c",
   "metadata": {},
   "outputs": [],
   "source": [
    "# Training the moel\n",
    "lda_tuned_mass = LdaModel(\n",
    "corpus=corpus,\n",
    "id2word=dictionary,\n",
    "chunksize=chunksize,\n",
    "alpha='auto',\n",
    "eta='auto',\n",
    "num_topics=num_topics,\n",
    "random_state=42,\n",
    "passes=passes)"
   ]
  },
  {
   "cell_type": "code",
   "execution_count": 40,
   "id": "0d5ceb5d-c38c-408a-8126-1fdda14b3a55",
   "metadata": {},
   "outputs": [
    {
     "name": "stdout",
     "output_type": "stream",
     "text": [
      "[(0,\n",
      "  '0.045*\"love\" + 0.035*\"know\" + 0.033*\"want\" + 0.030*\"baby\" + 0.019*\"go\" + '\n",
      "  '0.019*\"make\" + 0.017*\"can\" + 0.017*\"not\" + 0.017*\"never\" + 0.016*\"time\"'),\n",
      " (1,\n",
      "  '0.069*\"like\" + 0.024*\"want\" + 0.023*\"girl\" + 0.022*\"know\" + 0.018*\"back\" + '\n",
      "  '0.018*\"nigga\" + 0.017*\"come\" + 0.017*\"bitch\" + 0.016*\"make\" + 0.015*\"shit\"')]\n"
     ]
    }
   ],
   "source": [
    "from pprint import pprint\n",
    "\n",
    "# Print the keywords in the 2 topics\n",
    "pprint(lda_tuned_mass.print_topics())\n",
    "doc_lda = lda_model[corpus]"
   ]
  },
  {
   "cell_type": "code",
   "execution_count": null,
   "id": "efab9089-1b99-419e-bef9-d426ddd03ee9",
   "metadata": {},
   "outputs": [],
   "source": [
    "# Visualise\n",
    "\n",
    "import pyLDAvis.sklearn\n",
    "import pyLDAvis.gensim_models as gensimvis\n",
    "pyLDAvis.enable_notebook()\n",
    "gensim2_vis= gensimvis.prepare(lda_tuned_mass, corpus, dictionary)\n",
    "# Saving the visualisation to a html file and submitted together \n",
    "# with notebook\n",
    "pyLDAvis.display(gensim2_vis)\n",
    "pyLDAvis.save_html(gensim2_vis, 'gensim_umass.html')"
   ]
  },
  {
   "cell_type": "markdown",
   "id": "496ee065-85f9-4234-8982-27bb63f64137",
   "metadata": {},
   "source": [
    "**Comparison of 2 visualations:**\n",
    "The bubbles or clusters for 2 topics are well spaced apart as compared to some overlapping observed in the case of 5 topics. While it is possible to have 2 clusters as predictions are eventually going to be a hit or non-hit song, it will be reasonable to have more topics given span of time (with changing major events and trends that are sometimes reflected in songs [11]) and number of genres available."
   ]
  },
  {
   "cell_type": "markdown",
   "id": "916c25f3-ed7b-4144-b8aa-e2e62c2854a5",
   "metadata": {},
   "source": [
    "# SK-learn LDA"
   ]
  },
  {
   "cell_type": "markdown",
   "id": "009fcb6b-1e91-4ee1-84f5-baa93915732b",
   "metadata": {},
   "source": [
    "Next, topic modelling shall be attempted using sk-learn's library. The CountVectorizer class from the sklearn.feature_extraction.text module will first be used to create a document-term matrix. Like in the case of the filtering done with Gensim, only words that appear in less than 80% (max_df=0.8) of the document and appear in at least 25 documents (min_df=25) are included here. "
   ]
  },
  {
   "cell_type": "code",
   "execution_count": 61,
   "id": "fe1612c7-05ba-47fd-a3b1-bda1088221db",
   "metadata": {},
   "outputs": [],
   "source": [
    "from sklearn.feature_extraction.text import CountVectorizer\n",
    "\n",
    "# Initialising the CountVectorizer with filters\n",
    "count_vect = CountVectorizer(max_df=0.8, min_df=25)\n",
    "# Output will be in the form of sparse matrix\n",
    "doc_term_matrix = count_vect.fit_transform(df['lyrics'].values.astype('U'))"
   ]
  },
  {
   "cell_type": "code",
   "execution_count": 4,
   "id": "73d49e1e-3889-4dcc-ae33-40b4eda6005a",
   "metadata": {},
   "outputs": [
    {
     "data": {
      "text/plain": [
       "<2931x1284 sparse matrix of type '<class 'numpy.int64'>'\n",
       "\twith 167265 stored elements in Compressed Sparse Row format>"
      ]
     },
     "execution_count": 4,
     "metadata": {},
     "output_type": "execute_result"
    }
   ],
   "source": [
    "# Check\n",
    "doc_term_matrix"
   ]
  },
  {
   "cell_type": "markdown",
   "id": "cb5f6892-bb54-4a41-aab7-9a7dc6f7ecc0",
   "metadata": {},
   "source": [
    "Each of 2931 documents is represented as 1284 dimensional vector, which means there are 1284 words in the vocabulary."
   ]
  },
  {
   "cell_type": "code",
   "execution_count": 62,
   "id": "01a77a69-d06a-4099-94b6-37eba270a7f4",
   "metadata": {},
   "outputs": [
    {
     "data": {
      "text/html": [
       "<style>#sk-container-id-1 {color: black;background-color: white;}#sk-container-id-1 pre{padding: 0;}#sk-container-id-1 div.sk-toggleable {background-color: white;}#sk-container-id-1 label.sk-toggleable__label {cursor: pointer;display: block;width: 100%;margin-bottom: 0;padding: 0.3em;box-sizing: border-box;text-align: center;}#sk-container-id-1 label.sk-toggleable__label-arrow:before {content: \"▸\";float: left;margin-right: 0.25em;color: #696969;}#sk-container-id-1 label.sk-toggleable__label-arrow:hover:before {color: black;}#sk-container-id-1 div.sk-estimator:hover label.sk-toggleable__label-arrow:before {color: black;}#sk-container-id-1 div.sk-toggleable__content {max-height: 0;max-width: 0;overflow: hidden;text-align: left;background-color: #f0f8ff;}#sk-container-id-1 div.sk-toggleable__content pre {margin: 0.2em;color: black;border-radius: 0.25em;background-color: #f0f8ff;}#sk-container-id-1 input.sk-toggleable__control:checked~div.sk-toggleable__content {max-height: 200px;max-width: 100%;overflow: auto;}#sk-container-id-1 input.sk-toggleable__control:checked~label.sk-toggleable__label-arrow:before {content: \"▾\";}#sk-container-id-1 div.sk-estimator input.sk-toggleable__control:checked~label.sk-toggleable__label {background-color: #d4ebff;}#sk-container-id-1 div.sk-label input.sk-toggleable__control:checked~label.sk-toggleable__label {background-color: #d4ebff;}#sk-container-id-1 input.sk-hidden--visually {border: 0;clip: rect(1px 1px 1px 1px);clip: rect(1px, 1px, 1px, 1px);height: 1px;margin: -1px;overflow: hidden;padding: 0;position: absolute;width: 1px;}#sk-container-id-1 div.sk-estimator {font-family: monospace;background-color: #f0f8ff;border: 1px dotted black;border-radius: 0.25em;box-sizing: border-box;margin-bottom: 0.5em;}#sk-container-id-1 div.sk-estimator:hover {background-color: #d4ebff;}#sk-container-id-1 div.sk-parallel-item::after {content: \"\";width: 100%;border-bottom: 1px solid gray;flex-grow: 1;}#sk-container-id-1 div.sk-label:hover label.sk-toggleable__label {background-color: #d4ebff;}#sk-container-id-1 div.sk-serial::before {content: \"\";position: absolute;border-left: 1px solid gray;box-sizing: border-box;top: 0;bottom: 0;left: 50%;z-index: 0;}#sk-container-id-1 div.sk-serial {display: flex;flex-direction: column;align-items: center;background-color: white;padding-right: 0.2em;padding-left: 0.2em;position: relative;}#sk-container-id-1 div.sk-item {position: relative;z-index: 1;}#sk-container-id-1 div.sk-parallel {display: flex;align-items: stretch;justify-content: center;background-color: white;position: relative;}#sk-container-id-1 div.sk-item::before, #sk-container-id-1 div.sk-parallel-item::before {content: \"\";position: absolute;border-left: 1px solid gray;box-sizing: border-box;top: 0;bottom: 0;left: 50%;z-index: -1;}#sk-container-id-1 div.sk-parallel-item {display: flex;flex-direction: column;z-index: 1;position: relative;background-color: white;}#sk-container-id-1 div.sk-parallel-item:first-child::after {align-self: flex-end;width: 50%;}#sk-container-id-1 div.sk-parallel-item:last-child::after {align-self: flex-start;width: 50%;}#sk-container-id-1 div.sk-parallel-item:only-child::after {width: 0;}#sk-container-id-1 div.sk-dashed-wrapped {border: 1px dashed gray;margin: 0 0.4em 0.5em 0.4em;box-sizing: border-box;padding-bottom: 0.4em;background-color: white;}#sk-container-id-1 div.sk-label label {font-family: monospace;font-weight: bold;display: inline-block;line-height: 1.2em;}#sk-container-id-1 div.sk-label-container {text-align: center;}#sk-container-id-1 div.sk-container {/* jupyter's `normalize.less` sets `[hidden] { display: none; }` but bootstrap.min.css set `[hidden] { display: none !important; }` so we also need the `!important` here to be able to override the default hidden behavior on the sphinx rendered scikit-learn.org. See: https://github.com/scikit-learn/scikit-learn/issues/21755 */display: inline-block !important;position: relative;}#sk-container-id-1 div.sk-text-repr-fallback {display: none;}</style><div id=\"sk-container-id-1\" class=\"sk-top-container\"><div class=\"sk-text-repr-fallback\"><pre>LatentDirichletAllocation(n_components=6, random_state=42)</pre><b>In a Jupyter environment, please rerun this cell to show the HTML representation or trust the notebook. <br />On GitHub, the HTML representation is unable to render, please try loading this page with nbviewer.org.</b></div><div class=\"sk-container\" hidden><div class=\"sk-item\"><div class=\"sk-estimator sk-toggleable\"><input class=\"sk-toggleable__control sk-hidden--visually\" id=\"sk-estimator-id-1\" type=\"checkbox\" checked><label for=\"sk-estimator-id-1\" class=\"sk-toggleable__label sk-toggleable__label-arrow\">LatentDirichletAllocation</label><div class=\"sk-toggleable__content\"><pre>LatentDirichletAllocation(n_components=6, random_state=42)</pre></div></div></div></div></div>"
      ],
      "text/plain": [
       "LatentDirichletAllocation(n_components=6, random_state=42)"
      ]
     },
     "execution_count": 62,
     "metadata": {},
     "output_type": "execute_result"
    }
   ],
   "source": [
    "from sklearn.decomposition import LatentDirichletAllocation\n",
    "\n",
    "# Start off with 6 topics as was done previously\n",
    "LDA = LatentDirichletAllocation(n_components=6, random_state=42)\n",
    "# Fitting the model to the matrix\n",
    "LDA.fit(doc_term_matrix)"
   ]
  },
  {
   "cell_type": "markdown",
   "id": "52af5b0f-26dd-4126-9495-339652cdd94b",
   "metadata": {},
   "source": [
    "The top 10 words with highest probabilities for all the six topics:"
   ]
  },
  {
   "cell_type": "code",
   "execution_count": 63,
   "id": "fc82b12c-8022-4caa-b2a8-ca7b153ae37d",
   "metadata": {},
   "outputs": [
    {
     "name": "stdout",
     "output_type": "stream",
     "text": [
      "Top 10 words for topic #0:\n",
      "['could', 'feel', 'life', 'heart', 'time', 'cannot', 'would', 'never', 'know', 'love']\n",
      "\n",
      "\n",
      "Top 10 words for topic #1:\n",
      "['come', 'know', 'back', 'want', 'shake', 'like', 'fuck', 'shit', 'bitch', 'nigga']\n",
      "\n",
      "\n",
      "Top 10 words for topic #2:\n",
      "['little', 'think', 'cannot', 'come', 'know', 'take', 'make', 'back', 'want', 'go']\n",
      "\n",
      "\n",
      "Top 10 words for topic #3:\n",
      "['girl', 'talk', 'give', 'know', 'look', 'walk', 'money', 'work', 'good', 'like']\n",
      "\n",
      "\n",
      "Top 10 words for topic #4:\n",
      "['bout', 'hand', 'make', 'rock', 'everybody', 'move', 'girl', 'come', 'know', 'like']\n",
      "\n",
      "\n",
      "Top 10 words for topic #5:\n",
      "['come', 'right', 'make', 'night', 'need', 'girl', 'know', 'love', 'want', 'baby']\n",
      "\n",
      "\n"
     ]
    }
   ],
   "source": [
    "# Looping through the topics to get the top 10 words with highest probabilities\n",
    "for i,topic in enumerate(LDA.components_):\n",
    "    print(f'Top 10 words for topic #{i}:')\n",
    "    print([count_vect.get_feature_names_out()[i] for i in topic.argsort()[-10:]])\n",
    "    print('\\n')"
   ]
  },
  {
   "cell_type": "code",
   "execution_count": null,
   "id": "3504edd1-25fb-4d6e-bd28-f1a60a7bfbc5",
   "metadata": {},
   "outputs": [],
   "source": [
    "# Visualising the topics\n",
    "import pyLDAvis.sklearn\n",
    "pyLDAvis.enable_notebook()\n",
    "sklda_vis= pyLDAvis.sklearn.prepare(LDA, doc_term_matrix, count_vect)\n",
    "# Saving the visualisation to a html file \n",
    "pyLDAvis.save_html(sklda_vis, 'sklda_vis.html')"
   ]
  },
  {
   "cell_type": "markdown",
   "id": "27aaa171-0db8-493f-b8b6-e4b20194a33e",
   "metadata": {},
   "source": [
    "The html file of the above visualisation had been saved as 'sklda_vis.html' in addition to a screenshot of it being saved in the experiment log. It will not be displayed here as it affects the running of the notebook. \n",
    "\n",
    "It is observed that there is much lesser overlapping between the topics though it will be better if some of the topics such as 1, 2, 3 are further apart."
   ]
  },
  {
   "cell_type": "markdown",
   "id": "e0fba0e0-c068-478a-8b6b-f75c9e1d5306",
   "metadata": {},
   "source": [
    "## Grid Search"
   ]
  },
  {
   "cell_type": "markdown",
   "id": "d4b5bb3f-b23c-4217-a1bb-94b15d5f5610",
   "metadata": {},
   "source": [
    "As this section uses the sk-learn library, Grid Search can be carried out. It will be used to find/tune the optimal number of topics and learning decay rate, or the step size at each iteration while moving toward a minimum loss function [12]."
   ]
  },
  {
   "cell_type": "code",
   "execution_count": 89,
   "id": "0b90ee1e-8d2d-423b-aa9f-8842049c7bc8",
   "metadata": {},
   "outputs": [
    {
     "data": {
      "text/html": [
       "<style>#sk-container-id-2 {color: black;background-color: white;}#sk-container-id-2 pre{padding: 0;}#sk-container-id-2 div.sk-toggleable {background-color: white;}#sk-container-id-2 label.sk-toggleable__label {cursor: pointer;display: block;width: 100%;margin-bottom: 0;padding: 0.3em;box-sizing: border-box;text-align: center;}#sk-container-id-2 label.sk-toggleable__label-arrow:before {content: \"▸\";float: left;margin-right: 0.25em;color: #696969;}#sk-container-id-2 label.sk-toggleable__label-arrow:hover:before {color: black;}#sk-container-id-2 div.sk-estimator:hover label.sk-toggleable__label-arrow:before {color: black;}#sk-container-id-2 div.sk-toggleable__content {max-height: 0;max-width: 0;overflow: hidden;text-align: left;background-color: #f0f8ff;}#sk-container-id-2 div.sk-toggleable__content pre {margin: 0.2em;color: black;border-radius: 0.25em;background-color: #f0f8ff;}#sk-container-id-2 input.sk-toggleable__control:checked~div.sk-toggleable__content {max-height: 200px;max-width: 100%;overflow: auto;}#sk-container-id-2 input.sk-toggleable__control:checked~label.sk-toggleable__label-arrow:before {content: \"▾\";}#sk-container-id-2 div.sk-estimator input.sk-toggleable__control:checked~label.sk-toggleable__label {background-color: #d4ebff;}#sk-container-id-2 div.sk-label input.sk-toggleable__control:checked~label.sk-toggleable__label {background-color: #d4ebff;}#sk-container-id-2 input.sk-hidden--visually {border: 0;clip: rect(1px 1px 1px 1px);clip: rect(1px, 1px, 1px, 1px);height: 1px;margin: -1px;overflow: hidden;padding: 0;position: absolute;width: 1px;}#sk-container-id-2 div.sk-estimator {font-family: monospace;background-color: #f0f8ff;border: 1px dotted black;border-radius: 0.25em;box-sizing: border-box;margin-bottom: 0.5em;}#sk-container-id-2 div.sk-estimator:hover {background-color: #d4ebff;}#sk-container-id-2 div.sk-parallel-item::after {content: \"\";width: 100%;border-bottom: 1px solid gray;flex-grow: 1;}#sk-container-id-2 div.sk-label:hover label.sk-toggleable__label {background-color: #d4ebff;}#sk-container-id-2 div.sk-serial::before {content: \"\";position: absolute;border-left: 1px solid gray;box-sizing: border-box;top: 0;bottom: 0;left: 50%;z-index: 0;}#sk-container-id-2 div.sk-serial {display: flex;flex-direction: column;align-items: center;background-color: white;padding-right: 0.2em;padding-left: 0.2em;position: relative;}#sk-container-id-2 div.sk-item {position: relative;z-index: 1;}#sk-container-id-2 div.sk-parallel {display: flex;align-items: stretch;justify-content: center;background-color: white;position: relative;}#sk-container-id-2 div.sk-item::before, #sk-container-id-2 div.sk-parallel-item::before {content: \"\";position: absolute;border-left: 1px solid gray;box-sizing: border-box;top: 0;bottom: 0;left: 50%;z-index: -1;}#sk-container-id-2 div.sk-parallel-item {display: flex;flex-direction: column;z-index: 1;position: relative;background-color: white;}#sk-container-id-2 div.sk-parallel-item:first-child::after {align-self: flex-end;width: 50%;}#sk-container-id-2 div.sk-parallel-item:last-child::after {align-self: flex-start;width: 50%;}#sk-container-id-2 div.sk-parallel-item:only-child::after {width: 0;}#sk-container-id-2 div.sk-dashed-wrapped {border: 1px dashed gray;margin: 0 0.4em 0.5em 0.4em;box-sizing: border-box;padding-bottom: 0.4em;background-color: white;}#sk-container-id-2 div.sk-label label {font-family: monospace;font-weight: bold;display: inline-block;line-height: 1.2em;}#sk-container-id-2 div.sk-label-container {text-align: center;}#sk-container-id-2 div.sk-container {/* jupyter's `normalize.less` sets `[hidden] { display: none; }` but bootstrap.min.css set `[hidden] { display: none !important; }` so we also need the `!important` here to be able to override the default hidden behavior on the sphinx rendered scikit-learn.org. See: https://github.com/scikit-learn/scikit-learn/issues/21755 */display: inline-block !important;position: relative;}#sk-container-id-2 div.sk-text-repr-fallback {display: none;}</style><div id=\"sk-container-id-2\" class=\"sk-top-container\"><div class=\"sk-text-repr-fallback\"><pre>GridSearchCV(estimator=LatentDirichletAllocation(),\n",
       "             param_grid={&#x27;learning_decay&#x27;: [0.5, 0.7, 0.9],\n",
       "                         &#x27;n_components&#x27;: [6, 8, 10, 15, 20]})</pre><b>In a Jupyter environment, please rerun this cell to show the HTML representation or trust the notebook. <br />On GitHub, the HTML representation is unable to render, please try loading this page with nbviewer.org.</b></div><div class=\"sk-container\" hidden><div class=\"sk-item sk-dashed-wrapped\"><div class=\"sk-label-container\"><div class=\"sk-label sk-toggleable\"><input class=\"sk-toggleable__control sk-hidden--visually\" id=\"sk-estimator-id-2\" type=\"checkbox\" ><label for=\"sk-estimator-id-2\" class=\"sk-toggleable__label sk-toggleable__label-arrow\">GridSearchCV</label><div class=\"sk-toggleable__content\"><pre>GridSearchCV(estimator=LatentDirichletAllocation(),\n",
       "             param_grid={&#x27;learning_decay&#x27;: [0.5, 0.7, 0.9],\n",
       "                         &#x27;n_components&#x27;: [6, 8, 10, 15, 20]})</pre></div></div></div><div class=\"sk-parallel\"><div class=\"sk-parallel-item\"><div class=\"sk-item\"><div class=\"sk-label-container\"><div class=\"sk-label sk-toggleable\"><input class=\"sk-toggleable__control sk-hidden--visually\" id=\"sk-estimator-id-3\" type=\"checkbox\" ><label for=\"sk-estimator-id-3\" class=\"sk-toggleable__label sk-toggleable__label-arrow\">estimator: LatentDirichletAllocation</label><div class=\"sk-toggleable__content\"><pre>LatentDirichletAllocation()</pre></div></div></div><div class=\"sk-serial\"><div class=\"sk-item\"><div class=\"sk-estimator sk-toggleable\"><input class=\"sk-toggleable__control sk-hidden--visually\" id=\"sk-estimator-id-4\" type=\"checkbox\" ><label for=\"sk-estimator-id-4\" class=\"sk-toggleable__label sk-toggleable__label-arrow\">LatentDirichletAllocation</label><div class=\"sk-toggleable__content\"><pre>LatentDirichletAllocation()</pre></div></div></div></div></div></div></div></div></div></div>"
      ],
      "text/plain": [
       "GridSearchCV(estimator=LatentDirichletAllocation(),\n",
       "             param_grid={'learning_decay': [0.5, 0.7, 0.9],\n",
       "                         'n_components': [6, 8, 10, 15, 20]})"
      ]
     },
     "execution_count": 89,
     "metadata": {},
     "output_type": "execute_result"
    }
   ],
   "source": [
    "from sklearn.model_selection import GridSearchCV\n",
    "# Define Search Param\n",
    "search_params = {'n_components': [6, 8, 10, 15, 20], 'learning_decay': [.5, .7, .9]}\n",
    "\n",
    "# Initialise the model\n",
    "LDA2 = LatentDirichletAllocation()\n",
    "\n",
    "# Initialise the Grid Search \n",
    "model = GridSearchCV(LDA2, param_grid=search_params)\n",
    "\n",
    "# Perform the Grid Search\n",
    "model.fit(doc_term_matrix)"
   ]
  },
  {
   "cell_type": "code",
   "execution_count": 91,
   "id": "d7f5f2bd-9edc-4e3d-8e54-42e3d1d8694a",
   "metadata": {},
   "outputs": [
    {
     "name": "stdout",
     "output_type": "stream",
     "text": [
      "Best Model's Params:  {'learning_decay': 0.5, 'n_components': 6}\n"
     ]
    }
   ],
   "source": [
    "# Best Model\n",
    "best_lda_model = model.best_estimator_\n",
    "\n",
    "# Model Parameters\n",
    "print(\"Best Model's Params: \", model.best_params_)"
   ]
  },
  {
   "cell_type": "code",
   "execution_count": 92,
   "id": "8692b8eb-5a72-412f-9703-05d1e58459a1",
   "metadata": {},
   "outputs": [
    {
     "name": "stdout",
     "output_type": "stream",
     "text": [
      "Log Likelihood:  -2453712.1899396386\n",
      "Best Log Likelihood Score:  -511272.19691350183\n",
      "Perplexity:  374.39969373151865\n",
      "Best model's perplexity:  374.2378421575201\n"
     ]
    }
   ],
   "source": [
    "# Log Likelihood: Higher the better [14]\n",
    "print(\"Log Likelihood: \", LDA.score(doc_term_matrix))\n",
    "print(\"Best Log Likelihood Score: \", model.best_score_)\n",
    "\n",
    "# Perplexity: Lower the better. Perplexity = exp(-1. * log-likelihood per word) [14]\n",
    "print(\"Perplexity: \", LDA.perplexity(doc_term_matrix))\n",
    "print(\"Best model's perplexity: \", best_lda_model.perplexity(doc_term_matrix))"
   ]
  },
  {
   "cell_type": "markdown",
   "id": "2c820835-81f3-4088-8ec4-a936c041b0d8",
   "metadata": {},
   "source": [
    "Perplexity and log likelihood measure how \"surprised\" the model is when coming in contact with unseen documents or how well a probability model (the LDA in this case) fit unseen data [13]. A comparison of the two scores between the inital model at the start of this section and the tuned model show that there is significant improvement in log likelihood while the improvement in perplexity is more modest. Hence, the model will be trained with the tuned parameters."
   ]
  },
  {
   "cell_type": "code",
   "execution_count": 64,
   "id": "9327a6dc-561a-47ab-a415-1da2e9af2bcf",
   "metadata": {},
   "outputs": [
    {
     "data": {
      "text/html": [
       "<style>#sk-container-id-2 {color: black;background-color: white;}#sk-container-id-2 pre{padding: 0;}#sk-container-id-2 div.sk-toggleable {background-color: white;}#sk-container-id-2 label.sk-toggleable__label {cursor: pointer;display: block;width: 100%;margin-bottom: 0;padding: 0.3em;box-sizing: border-box;text-align: center;}#sk-container-id-2 label.sk-toggleable__label-arrow:before {content: \"▸\";float: left;margin-right: 0.25em;color: #696969;}#sk-container-id-2 label.sk-toggleable__label-arrow:hover:before {color: black;}#sk-container-id-2 div.sk-estimator:hover label.sk-toggleable__label-arrow:before {color: black;}#sk-container-id-2 div.sk-toggleable__content {max-height: 0;max-width: 0;overflow: hidden;text-align: left;background-color: #f0f8ff;}#sk-container-id-2 div.sk-toggleable__content pre {margin: 0.2em;color: black;border-radius: 0.25em;background-color: #f0f8ff;}#sk-container-id-2 input.sk-toggleable__control:checked~div.sk-toggleable__content {max-height: 200px;max-width: 100%;overflow: auto;}#sk-container-id-2 input.sk-toggleable__control:checked~label.sk-toggleable__label-arrow:before {content: \"▾\";}#sk-container-id-2 div.sk-estimator input.sk-toggleable__control:checked~label.sk-toggleable__label {background-color: #d4ebff;}#sk-container-id-2 div.sk-label input.sk-toggleable__control:checked~label.sk-toggleable__label {background-color: #d4ebff;}#sk-container-id-2 input.sk-hidden--visually {border: 0;clip: rect(1px 1px 1px 1px);clip: rect(1px, 1px, 1px, 1px);height: 1px;margin: -1px;overflow: hidden;padding: 0;position: absolute;width: 1px;}#sk-container-id-2 div.sk-estimator {font-family: monospace;background-color: #f0f8ff;border: 1px dotted black;border-radius: 0.25em;box-sizing: border-box;margin-bottom: 0.5em;}#sk-container-id-2 div.sk-estimator:hover {background-color: #d4ebff;}#sk-container-id-2 div.sk-parallel-item::after {content: \"\";width: 100%;border-bottom: 1px solid gray;flex-grow: 1;}#sk-container-id-2 div.sk-label:hover label.sk-toggleable__label {background-color: #d4ebff;}#sk-container-id-2 div.sk-serial::before {content: \"\";position: absolute;border-left: 1px solid gray;box-sizing: border-box;top: 0;bottom: 0;left: 50%;z-index: 0;}#sk-container-id-2 div.sk-serial {display: flex;flex-direction: column;align-items: center;background-color: white;padding-right: 0.2em;padding-left: 0.2em;position: relative;}#sk-container-id-2 div.sk-item {position: relative;z-index: 1;}#sk-container-id-2 div.sk-parallel {display: flex;align-items: stretch;justify-content: center;background-color: white;position: relative;}#sk-container-id-2 div.sk-item::before, #sk-container-id-2 div.sk-parallel-item::before {content: \"\";position: absolute;border-left: 1px solid gray;box-sizing: border-box;top: 0;bottom: 0;left: 50%;z-index: -1;}#sk-container-id-2 div.sk-parallel-item {display: flex;flex-direction: column;z-index: 1;position: relative;background-color: white;}#sk-container-id-2 div.sk-parallel-item:first-child::after {align-self: flex-end;width: 50%;}#sk-container-id-2 div.sk-parallel-item:last-child::after {align-self: flex-start;width: 50%;}#sk-container-id-2 div.sk-parallel-item:only-child::after {width: 0;}#sk-container-id-2 div.sk-dashed-wrapped {border: 1px dashed gray;margin: 0 0.4em 0.5em 0.4em;box-sizing: border-box;padding-bottom: 0.4em;background-color: white;}#sk-container-id-2 div.sk-label label {font-family: monospace;font-weight: bold;display: inline-block;line-height: 1.2em;}#sk-container-id-2 div.sk-label-container {text-align: center;}#sk-container-id-2 div.sk-container {/* jupyter's `normalize.less` sets `[hidden] { display: none; }` but bootstrap.min.css set `[hidden] { display: none !important; }` so we also need the `!important` here to be able to override the default hidden behavior on the sphinx rendered scikit-learn.org. See: https://github.com/scikit-learn/scikit-learn/issues/21755 */display: inline-block !important;position: relative;}#sk-container-id-2 div.sk-text-repr-fallback {display: none;}</style><div id=\"sk-container-id-2\" class=\"sk-top-container\"><div class=\"sk-text-repr-fallback\"><pre>LatentDirichletAllocation(learning_decay=0.5, n_components=6, random_state=42)</pre><b>In a Jupyter environment, please rerun this cell to show the HTML representation or trust the notebook. <br />On GitHub, the HTML representation is unable to render, please try loading this page with nbviewer.org.</b></div><div class=\"sk-container\" hidden><div class=\"sk-item\"><div class=\"sk-estimator sk-toggleable\"><input class=\"sk-toggleable__control sk-hidden--visually\" id=\"sk-estimator-id-2\" type=\"checkbox\" checked><label for=\"sk-estimator-id-2\" class=\"sk-toggleable__label sk-toggleable__label-arrow\">LatentDirichletAllocation</label><div class=\"sk-toggleable__content\"><pre>LatentDirichletAllocation(learning_decay=0.5, n_components=6, random_state=42)</pre></div></div></div></div></div>"
      ],
      "text/plain": [
       "LatentDirichletAllocation(learning_decay=0.5, n_components=6, random_state=42)"
      ]
     },
     "execution_count": 64,
     "metadata": {},
     "output_type": "execute_result"
    }
   ],
   "source": [
    "# Using the tuned parameters\n",
    "tuned_lda = LatentDirichletAllocation(n_components=6, learning_decay=0.5, random_state=42)\n",
    "# Fitting the tuned model to the matrix\n",
    "tuned_lda.fit(doc_term_matrix)"
   ]
  },
  {
   "cell_type": "code",
   "execution_count": null,
   "id": "68b2ad21-f87e-49b1-a060-4a1bccda216d",
   "metadata": {},
   "outputs": [],
   "source": [
    "# Visualisaing the topics of the tuned LDA model\n",
    "lda_tuned= pyLDAvis.sklearn.prepare(tuned_lda, doc_term_matrix, count_vect)\n",
    "# Saving the visualisation to a html file \n",
    "pyLDAvis.save_html(lda_tuned, 'sklda_tuned.html')"
   ]
  },
  {
   "cell_type": "markdown",
   "id": "5af2a864-b9c8-46a9-9e4f-3c29158c0bf7",
   "metadata": {},
   "source": [
    "From the above visualisation, although there is still some slight overlapping between topic 1 and 2, the topics are better seperated as compared to 6 topics seperated using Gensim."
   ]
  },
  {
   "cell_type": "code",
   "execution_count": 65,
   "id": "3ea45966-4337-480f-a1b5-718996460733",
   "metadata": {},
   "outputs": [
    {
     "name": "stdout",
     "output_type": "stream",
     "text": [
      "Top 10 words for topic #0:\n",
      "['could', 'feel', 'life', 'heart', 'time', 'cannot', 'would', 'never', 'know', 'love']\n",
      "\n",
      "\n",
      "Top 10 words for topic #1:\n",
      "['come', 'know', 'back', 'want', 'shake', 'like', 'fuck', 'shit', 'bitch', 'nigga']\n",
      "\n",
      "\n",
      "Top 10 words for topic #2:\n",
      "['little', 'think', 'cannot', 'come', 'know', 'take', 'make', 'back', 'want', 'go']\n",
      "\n",
      "\n",
      "Top 10 words for topic #3:\n",
      "['girl', 'talk', 'give', 'know', 'look', 'walk', 'money', 'work', 'good', 'like']\n",
      "\n",
      "\n",
      "Top 10 words for topic #4:\n",
      "['bout', 'hand', 'make', 'rock', 'everybody', 'move', 'girl', 'come', 'know', 'like']\n",
      "\n",
      "\n",
      "Top 10 words for topic #5:\n",
      "['come', 'right', 'make', 'night', 'need', 'girl', 'know', 'love', 'want', 'baby']\n",
      "\n",
      "\n"
     ]
    }
   ],
   "source": [
    "# Displaying the top 10 words in each topic\n",
    "for i,topic in enumerate(tuned_lda.components_):\n",
    "    print(f'Top 10 words for topic #{i}:')\n",
    "    print([count_vect.get_feature_names_out()[i] for i in topic.argsort()[-10:]])\n",
    "    print('\\n')"
   ]
  },
  {
   "cell_type": "code",
   "execution_count": 66,
   "id": "92909e09-ed83-4cc7-8384-57990d489fb4",
   "metadata": {},
   "outputs": [],
   "source": [
    "# Saving the tuned SK-learn LDA attempt\n",
    "\n",
    "pickle.dump(tuned_lda, open('tuned_lda.pkl','wb'))"
   ]
  },
  {
   "cell_type": "code",
   "execution_count": 8,
   "id": "373dc96b-3d39-4885-a3b1-08e974554589",
   "metadata": {},
   "outputs": [
    {
     "data": {
      "text/plain": [
       "(2931, 6)"
      ]
     },
     "execution_count": 8,
     "metadata": {},
     "output_type": "execute_result"
    }
   ],
   "source": [
    "# Transforming the sparse matrix back to array\n",
    "topic_values = tuned_lda.transform(doc_term_matrix)\n",
    "topic_values.shape"
   ]
  },
  {
   "cell_type": "code",
   "execution_count": 114,
   "id": "f40d07a4-7a87-4544-be2b-4fe6812b9c2d",
   "metadata": {},
   "outputs": [
    {
     "data": {
      "text/plain": [
       "array([[0.51791509, 0.00120611, 0.00121437, 0.00120922, 0.00120842,\n",
       "        0.47724678],\n",
       "       [0.72543682, 0.00184305, 0.2671765 , 0.00184595, 0.00185011,\n",
       "        0.00184757],\n",
       "       [0.6789253 , 0.00182293, 0.00183426, 0.00183199, 0.04802471,\n",
       "        0.26756082],\n",
       "       [0.15382991, 0.04246477, 0.26422601, 0.35542475, 0.1830025 ,\n",
       "        0.00105206],\n",
       "       [0.17259352, 0.03055639, 0.0013216 , 0.00132396, 0.7928743 ,\n",
       "        0.00133023]])"
      ]
     },
     "execution_count": 114,
     "metadata": {},
     "output_type": "execute_result"
    }
   ],
   "source": [
    "# Check\n",
    "topic_values[:5]"
   ]
  },
  {
   "cell_type": "code",
   "execution_count": 9,
   "id": "a6e161df-25a4-4d5f-b893-9d4f5b15852a",
   "metadata": {},
   "outputs": [],
   "source": [
    "# Adding the topic with the highest possibility for \n",
    "# each song/document back into the main dataframe\n",
    "df['topic'] = topic_values.argmax(axis=1)"
   ]
  },
  {
   "cell_type": "code",
   "execution_count": 116,
   "id": "99d9a3d4-1c61-492a-93fb-893fcd2210ba",
   "metadata": {},
   "outputs": [
    {
     "data": {
      "text/html": [
       "<div>\n",
       "<style scoped>\n",
       "    .dataframe tbody tr th:only-of-type {\n",
       "        vertical-align: middle;\n",
       "    }\n",
       "\n",
       "    .dataframe tbody tr th {\n",
       "        vertical-align: top;\n",
       "    }\n",
       "\n",
       "    .dataframe thead th {\n",
       "        text-align: right;\n",
       "    }\n",
       "</style>\n",
       "<table border=\"1\" class=\"dataframe\">\n",
       "  <thead>\n",
       "    <tr style=\"text-align: right;\">\n",
       "      <th></th>\n",
       "      <th>year</th>\n",
       "      <th>rank</th>\n",
       "      <th>song</th>\n",
       "      <th>artist</th>\n",
       "      <th>genre</th>\n",
       "      <th>popularity</th>\n",
       "      <th>explicit</th>\n",
       "      <th>album</th>\n",
       "      <th>release_year</th>\n",
       "      <th>release_month</th>\n",
       "      <th>...</th>\n",
       "      <th>duration_m</th>\n",
       "      <th>time_signature</th>\n",
       "      <th>genre_split</th>\n",
       "      <th>lyric_pos</th>\n",
       "      <th>lyric_neu</th>\n",
       "      <th>lyric_neg</th>\n",
       "      <th>hit</th>\n",
       "      <th>lyrics</th>\n",
       "      <th>tokens</th>\n",
       "      <th>topic</th>\n",
       "    </tr>\n",
       "  </thead>\n",
       "  <tbody>\n",
       "    <tr>\n",
       "      <th>0</th>\n",
       "      <td>1990</td>\n",
       "      <td>1</td>\n",
       "      <td>Hold On</td>\n",
       "      <td>Wilson Phillips</td>\n",
       "      <td>['girl group,mellow gold,new wave pop,soft rock']</td>\n",
       "      <td>70</td>\n",
       "      <td>0</td>\n",
       "      <td>Wilson Phillips</td>\n",
       "      <td>1990</td>\n",
       "      <td>5</td>\n",
       "      <td>...</td>\n",
       "      <td>4.448</td>\n",
       "      <td>4</td>\n",
       "      <td>soft rock</td>\n",
       "      <td>0</td>\n",
       "      <td>0</td>\n",
       "      <td>1</td>\n",
       "      <td>0</td>\n",
       "      <td>know pain know pain lock chain chain change li...</td>\n",
       "      <td>[know, pain, know, pain, lock, chain, chain, c...</td>\n",
       "      <td>0</td>\n",
       "    </tr>\n",
       "    <tr>\n",
       "      <th>1</th>\n",
       "      <td>1990</td>\n",
       "      <td>2</td>\n",
       "      <td>It Must Have Been Love</td>\n",
       "      <td>Roxette</td>\n",
       "      <td>['europop,new wave pop,soft rock,swedish pop']</td>\n",
       "      <td>75</td>\n",
       "      <td>0</td>\n",
       "      <td>It Must Have Been Love</td>\n",
       "      <td>1990</td>\n",
       "      <td>5</td>\n",
       "      <td>...</td>\n",
       "      <td>4.313</td>\n",
       "      <td>4</td>\n",
       "      <td>swedish pop</td>\n",
       "      <td>1</td>\n",
       "      <td>0</td>\n",
       "      <td>0</td>\n",
       "      <td>1</td>\n",
       "      <td>must love whisper pillow leave winter ground w...</td>\n",
       "      <td>[must, love, whisper, pillow, leave, winter, g...</td>\n",
       "      <td>0</td>\n",
       "    </tr>\n",
       "    <tr>\n",
       "      <th>2</th>\n",
       "      <td>1990</td>\n",
       "      <td>3</td>\n",
       "      <td>Nothing Compares 2 U</td>\n",
       "      <td>Sinead O'Connor</td>\n",
       "      <td>['lilith,new wave pop,pop rock']</td>\n",
       "      <td>60</td>\n",
       "      <td>0</td>\n",
       "      <td>I Do Not Want What I Haven't Got</td>\n",
       "      <td>1990</td>\n",
       "      <td>7</td>\n",
       "      <td>...</td>\n",
       "      <td>4.667</td>\n",
       "      <td>4</td>\n",
       "      <td>pop rock</td>\n",
       "      <td>0</td>\n",
       "      <td>0</td>\n",
       "      <td>1</td>\n",
       "      <td>0</td>\n",
       "      <td>seven hour fifteen day since take love away ev...</td>\n",
       "      <td>[seven, hour, fifteen, day, since, take, love,...</td>\n",
       "      <td>0</td>\n",
       "    </tr>\n",
       "  </tbody>\n",
       "</table>\n",
       "<p>3 rows × 31 columns</p>\n",
       "</div>"
      ],
      "text/plain": [
       "   year  rank                    song           artist  \\\n",
       "0  1990     1                 Hold On  Wilson Phillips   \n",
       "1  1990     2  It Must Have Been Love          Roxette   \n",
       "2  1990     3    Nothing Compares 2 U  Sinead O'Connor   \n",
       "\n",
       "                                               genre  popularity  explicit  \\\n",
       "0  ['girl group,mellow gold,new wave pop,soft rock']          70         0   \n",
       "1     ['europop,new wave pop,soft rock,swedish pop']          75         0   \n",
       "2                   ['lilith,new wave pop,pop rock']          60         0   \n",
       "\n",
       "                              album  release_year  release_month  ...  \\\n",
       "0                   Wilson Phillips          1990              5  ...   \n",
       "1            It Must Have Been Love          1990              5  ...   \n",
       "2  I Do Not Want What I Haven't Got          1990              7  ...   \n",
       "\n",
       "   duration_m  time_signature  genre_split  lyric_pos  lyric_neu  lyric_neg  \\\n",
       "0       4.448               4    soft rock          0          0          1   \n",
       "1       4.313               4  swedish pop          1          0          0   \n",
       "2       4.667               4     pop rock          0          0          1   \n",
       "\n",
       "   hit                                             lyrics  \\\n",
       "0    0  know pain know pain lock chain chain change li...   \n",
       "1    1  must love whisper pillow leave winter ground w...   \n",
       "2    0  seven hour fifteen day since take love away ev...   \n",
       "\n",
       "                                              tokens  topic  \n",
       "0  [know, pain, know, pain, lock, chain, chain, c...      0  \n",
       "1  [must, love, whisper, pillow, leave, winter, g...      0  \n",
       "2  [seven, hour, fifteen, day, since, take, love,...      0  \n",
       "\n",
       "[3 rows x 31 columns]"
      ]
     },
     "execution_count": 116,
     "metadata": {},
     "output_type": "execute_result"
    }
   ],
   "source": [
    "# Check\n",
    "df.head(3)"
   ]
  },
  {
   "cell_type": "code",
   "execution_count": 21,
   "id": "a923f810-890c-464e-88df-e4d08cd2c6c9",
   "metadata": {},
   "outputs": [],
   "source": [
    "# Saving the dataframe with updated topics to csv file\n",
    "df.to_csv('newtopics.csv', index= False)"
   ]
  },
  {
   "cell_type": "markdown",
   "id": "0a2474fc-e5aa-48be-9f76-3b98d633b384",
   "metadata": {},
   "source": [
    "# References"
   ]
  },
  {
   "cell_type": "markdown",
   "id": "84bcc72e-93b0-499e-9f8e-d81162d2fc0b",
   "metadata": {},
   "source": [
    "[1] P. van Kooten, contractions: Fixes contractions such as `you’re` to you `are`. . [Online]. Available: https://github.com/kootenpv/contractions. [Accessed: 17-Aug-2022].\n",
    "\n",
    "[2] “Gensim - Creating a dictionary,” Tutorialspoint.com. [Online]. Available: https://www.tutorialspoint.com/gensim/gensim_creating_a_dictionary.htm. [Accessed: 15-Aug-2022].\n",
    "\n",
    "[3] “Gensim: topic modelling for humans,” Radimrehurek.com. [Online]. Available: https://radimrehurek.com/gensim/corpora/dictionary.html. [Accessed: 16-Aug-2022].\n",
    "\n",
    "[4] S. Li, “Topic modelling in python with NLTK and gensim,” Towards Data Science, 30-Mar-2018. [Online]. Available: https://towardsdatascience.com/topic-modelling-in-python-with-nltk-and-gensim-4ef03213cd21. [Accessed: 17-Aug-2022].\n",
    "\n",
    "[5] “Gensim: topic modelling for humans,” Radimrehurek.com. [Online]. Available: https://radimrehurek.com/gensim/auto_examples/tutorials/run_lda.html. [Accessed: 17-Aug-2022].\n",
    "\n",
    "[6] K. Stevens, P. Kegelmeyer, D. Andrzejewski, and D. Buttler, “Exploring Topic Coherence over many models and many topics,” Aclanthology.org. [Online]. Available: https://aclanthology.org/D12-1087.pdf. [Accessed: 16-Aug-2022].\n",
    "\n",
    "[7] “Palmetto online demo.” [Online]. Available: https://palmetto.demos.dice-research.org. [Accessed: 20-Aug-2022].\n",
    "\n",
    "[8] “Evaluation of topic modeling: How to understand a coherence value / c_v of 0.4, is it good or bad?,” Stack Overflow. [Online]. Available: https://stackoverflow.com/questions/54762690/evaluation-of-topic-modeling-how-to-understand-a-coherence-value-c-v-of-0-4. [Accessed: 28-Aug-2022].\n",
    "\n",
    "[9] “The usage of the cv coherence is not recommended anymore!,”Palmetto. [Online]. Available: https://github.com/dice-group/Palmetto/issues/76 [Accessed: 20-Aug-2022]\n",
    "\n",
    "[10] “How does topic coherence score in LDA intuitively makes sense ?,” Cross Validated. [Online]. Available: https://stats.stackexchange.com/questions/375062/how-does-topic-coherence-score-in-lda-intuitively-makes-sense. [Accessed: 16-Aug-2022].\n",
    "\n",
    "[11] Wikipedia contributors, “Zombie (The Cranberries song),” Wikipedia, The Free Encyclopedia, 13-Aug-2022. [Online]. Available: https://en.wikipedia.org/w/index.php?title=Zombie_(The_Cranberries_song)&oldid=1104282849. [Accessed: 16-Aug-2022].\n",
    "\n",
    "[12] Wikipedia contributors, “Learning rate,” Wikipedia, The Free Encyclopedia, 30-Jan-2022. [Online]. Available: https://en.wikipedia.org/w/index.php?title=Learning_rate&oldid=1068900578. [Accessed: 17-Aug-2022].\n",
    "\n",
    "[13] “Topic models: cross validation with loglikelihood or perplexity,” Stack Overflow. [Online]. Available: https://stackoverflow.com/questions/21355156/topic-models-cross-validation-with-loglikelihood-or-perplexity. [Accessed: 18-Aug-2022].\n",
    "\n",
    "[14] P. Tijare and P. Jhansi Rani, “Exploring popular topic models,” J. Phys. Conf. Ser., vol. 1706, no. 1, p. 012171, 2020. [Online]. Available: https://iopscience.iop.org/article/10.1088/1742-6596/1706/1/012171/pdf. [Accessed: 17-Aug-2022].\n",
    "\n",
    "[15] S. Prabhakaran, “Gensim topic modeling - A guide to building best LDA models,” Machine Learning Plus, 26-Mar-2018. [Online]. Available: https://www.machinelearningplus.com/nlp/topic-modeling-gensim-python/. [Accessed: 17-Aug-2022]."
   ]
  },
  {
   "cell_type": "markdown",
   "id": "15be346a-283e-4c70-8b35-d318580b4953",
   "metadata": {},
   "source": [
    "***"
   ]
  }
 ],
 "metadata": {
  "kernelspec": {
   "display_name": "Python 3.9 (tensorflow)",
   "language": "python",
   "name": "tensorflow"
  },
  "language_info": {
   "codemirror_mode": {
    "name": "ipython",
    "version": 3
   },
   "file_extension": ".py",
   "mimetype": "text/x-python",
   "name": "python",
   "nbconvert_exporter": "python",
   "pygments_lexer": "ipython3",
   "version": "3.9.13"
  }
 },
 "nbformat": 4,
 "nbformat_minor": 5
}
