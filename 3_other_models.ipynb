{
 "cells": [
  {
   "cell_type": "markdown",
   "id": "0a116b69-645f-4b60-ad7a-a4b6fc34f21c",
   "metadata": {},
   "source": [
    "**Part 2 of 2 of the modelling notebook: Decision Tree, Random Forest, kNN**\n",
    "\n",
    "The original notebook is split into 2 parts due to its length. \n",
    "<br>This notebook involves the use of decision tree, random forest, and kNN while the previous part involves the use of topic modelling. \n",
    "\n",
    "A separate Excel file records certain steps and results. It serves as an experiment log, and helps the notebook to run smoother."
   ]
  },
  {
   "cell_type": "markdown",
   "id": "9d8a6160-c76b-442f-bc84-ee60b563a358",
   "metadata": {},
   "source": [
    "# Loading in libraries"
   ]
  },
  {
   "cell_type": "code",
   "execution_count": 1,
   "id": "1d697d07-ed19-458e-a83a-059168f01fef",
   "metadata": {},
   "outputs": [],
   "source": [
    "import pandas as pd"
   ]
  },
  {
   "cell_type": "code",
   "execution_count": 2,
   "id": "be2effb5-b3be-409a-834f-44de802530f5",
   "metadata": {},
   "outputs": [],
   "source": [
    "import numpy as np\n",
    "import matplotlib.pyplot as plt\n",
    "%matplotlib inline\n",
    "from imblearn.over_sampling import SMOTE\n",
    "from imblearn.under_sampling import RandomUnderSampler\n",
    "from sklearn.neighbors import KNeighborsClassifier\n",
    "from sklearn.tree import DecisionTreeClassifier\n",
    "from sklearn.ensemble import RandomForestClassifier\n",
    "from sklearn.model_selection import cross_val_score\n",
    "from sklearn.model_selection import train_test_split\n",
    "from sklearn.metrics import confusion_matrix\n",
    "from sklearn.metrics import auc\n",
    "from sklearn import metrics\n",
    "from sklearn.metrics import roc_auc_score\n",
    "from sklearn.metrics import accuracy_score, precision_score, recall_score, f1_score\n",
    "from sklearn.metrics import average_precision_score\n",
    "from sklearn.metrics import precision_recall_curve\n",
    "from sklearn.metrics import roc_curve"
   ]
  },
  {
   "cell_type": "markdown",
   "id": "e7de7a91-52a9-4029-9fd1-ab0f019136ea",
   "metadata": {},
   "source": [
    "Continuing from the end of part 1: topic modelling:"
   ]
  },
  {
   "cell_type": "code",
   "execution_count": 21,
   "id": "a923f810-890c-464e-88df-e4d08cd2c6c9",
   "metadata": {},
   "outputs": [],
   "source": [
    "# Saving the dataframe with updated topics to csv file\n",
    "df.to_csv('newtopics.csv', index= False)"
   ]
  },
  {
   "cell_type": "markdown",
   "id": "cade56ad-361e-4e19-9571-21cb78a09b8b",
   "metadata": {},
   "source": [
    "# Re-defining the hits\n",
    "\n",
    "In the EDA carried out earlier, whether a song is a hit or not is determined by the mean popularity. However it is noted that a high popularity does not always result in a top 10 spot on Billboard. There is actually a lot of variation in the popularity for songs in the top 10 Billboard positions.\n",
    "\n",
    "Hence for a more definite and concrete definition of a hit and non-hit, the Billboard ranking is used as the standard whereby any songs at rank 1-10 is considered to be a hit and any song not in the top 10 is non-hit."
   ]
  },
  {
   "cell_type": "code",
   "execution_count": 3,
   "id": "cb3a9bdd-40ca-4204-a264-57564e21a22d",
   "metadata": {},
   "outputs": [],
   "source": [
    "df = pd.read_csv('/final_submission/newtopics.csv')"
   ]
  },
  {
   "cell_type": "code",
   "execution_count": 4,
   "id": "a071d8d7-0c86-442e-8382-b55f11c711a7",
   "metadata": {},
   "outputs": [],
   "source": [
    "# Drop the initial hit definition\n",
    "df = df.drop(columns=['hit'])"
   ]
  },
  {
   "cell_type": "code",
   "execution_count": 5,
   "id": "264be09a-90bb-46e3-8865-f3516949ea74",
   "metadata": {},
   "outputs": [],
   "source": [
    "# Re-defining hit whereby Billboard rank 1-10 is considered to be a hit = 1\n",
    "# Any song not in the top 10 is 0 for not a hit\n",
    "df['hit'] = np.where(df['rank'] <= 10, 1, 0)"
   ]
  },
  {
   "cell_type": "code",
   "execution_count": 5,
   "id": "d6ee9a93-210b-4a5a-93a0-40835a16999a",
   "metadata": {},
   "outputs": [
    {
     "data": {
      "text/html": [
       "<div>\n",
       "<style scoped>\n",
       "    .dataframe tbody tr th:only-of-type {\n",
       "        vertical-align: middle;\n",
       "    }\n",
       "\n",
       "    .dataframe tbody tr th {\n",
       "        vertical-align: top;\n",
       "    }\n",
       "\n",
       "    .dataframe thead th {\n",
       "        text-align: right;\n",
       "    }\n",
       "</style>\n",
       "<table border=\"1\" class=\"dataframe\">\n",
       "  <thead>\n",
       "    <tr style=\"text-align: right;\">\n",
       "      <th></th>\n",
       "      <th>year</th>\n",
       "      <th>rank</th>\n",
       "      <th>song</th>\n",
       "      <th>artist</th>\n",
       "      <th>genre</th>\n",
       "      <th>popularity</th>\n",
       "      <th>explicit</th>\n",
       "      <th>album</th>\n",
       "      <th>release_year</th>\n",
       "      <th>release_month</th>\n",
       "      <th>...</th>\n",
       "      <th>duration_m</th>\n",
       "      <th>time_signature</th>\n",
       "      <th>genre_split</th>\n",
       "      <th>lyric_pos</th>\n",
       "      <th>lyric_neu</th>\n",
       "      <th>lyric_neg</th>\n",
       "      <th>lyrics</th>\n",
       "      <th>tokens</th>\n",
       "      <th>topic</th>\n",
       "      <th>hit</th>\n",
       "    </tr>\n",
       "  </thead>\n",
       "  <tbody>\n",
       "    <tr>\n",
       "      <th>0</th>\n",
       "      <td>1990</td>\n",
       "      <td>1</td>\n",
       "      <td>Hold On</td>\n",
       "      <td>Wilson Phillips</td>\n",
       "      <td>['girl group,mellow gold,new wave pop,soft rock']</td>\n",
       "      <td>70</td>\n",
       "      <td>0</td>\n",
       "      <td>Wilson Phillips</td>\n",
       "      <td>1990</td>\n",
       "      <td>5</td>\n",
       "      <td>...</td>\n",
       "      <td>4.448</td>\n",
       "      <td>4</td>\n",
       "      <td>soft rock</td>\n",
       "      <td>0</td>\n",
       "      <td>0</td>\n",
       "      <td>1</td>\n",
       "      <td>know pain know pain lock chain chain change li...</td>\n",
       "      <td>['know', 'pain', 'know', 'pain', 'lock', 'chai...</td>\n",
       "      <td>0</td>\n",
       "      <td>1</td>\n",
       "    </tr>\n",
       "    <tr>\n",
       "      <th>1</th>\n",
       "      <td>1990</td>\n",
       "      <td>2</td>\n",
       "      <td>It Must Have Been Love</td>\n",
       "      <td>Roxette</td>\n",
       "      <td>['europop,new wave pop,soft rock,swedish pop']</td>\n",
       "      <td>75</td>\n",
       "      <td>0</td>\n",
       "      <td>It Must Have Been Love</td>\n",
       "      <td>1990</td>\n",
       "      <td>5</td>\n",
       "      <td>...</td>\n",
       "      <td>4.313</td>\n",
       "      <td>4</td>\n",
       "      <td>swedish pop</td>\n",
       "      <td>1</td>\n",
       "      <td>0</td>\n",
       "      <td>0</td>\n",
       "      <td>must love whisper pillow leave winter ground w...</td>\n",
       "      <td>['must', 'love', 'whisper', 'pillow', 'leave',...</td>\n",
       "      <td>0</td>\n",
       "      <td>1</td>\n",
       "    </tr>\n",
       "    <tr>\n",
       "      <th>2</th>\n",
       "      <td>1990</td>\n",
       "      <td>3</td>\n",
       "      <td>Nothing Compares 2 U</td>\n",
       "      <td>Sinead O'Connor</td>\n",
       "      <td>['lilith,new wave pop,pop rock']</td>\n",
       "      <td>60</td>\n",
       "      <td>0</td>\n",
       "      <td>I Do Not Want What I Haven't Got</td>\n",
       "      <td>1990</td>\n",
       "      <td>7</td>\n",
       "      <td>...</td>\n",
       "      <td>4.667</td>\n",
       "      <td>4</td>\n",
       "      <td>pop rock</td>\n",
       "      <td>0</td>\n",
       "      <td>0</td>\n",
       "      <td>1</td>\n",
       "      <td>seven hour fifteen day since take love away ev...</td>\n",
       "      <td>['seven', 'hour', 'fifteen', 'day', 'since', '...</td>\n",
       "      <td>0</td>\n",
       "      <td>1</td>\n",
       "    </tr>\n",
       "    <tr>\n",
       "      <th>3</th>\n",
       "      <td>1990</td>\n",
       "      <td>4</td>\n",
       "      <td>Poison</td>\n",
       "      <td>Bell Biv DeVoe</td>\n",
       "      <td>['boy band,contemporary r&amp;b,hip hop,hip pop,ne...</td>\n",
       "      <td>70</td>\n",
       "      <td>0</td>\n",
       "      <td>Poison</td>\n",
       "      <td>1990</td>\n",
       "      <td>1</td>\n",
       "      <td>...</td>\n",
       "      <td>4.364</td>\n",
       "      <td>4</td>\n",
       "      <td>urban contemporary</td>\n",
       "      <td>1</td>\n",
       "      <td>0</td>\n",
       "      <td>0</td>\n",
       "      <td>spyderman freeze full effect ready ready ready...</td>\n",
       "      <td>['spyderman', 'freeze', 'full', 'effect', 'rea...</td>\n",
       "      <td>3</td>\n",
       "      <td>1</td>\n",
       "    </tr>\n",
       "    <tr>\n",
       "      <th>4</th>\n",
       "      <td>1990</td>\n",
       "      <td>5</td>\n",
       "      <td>Vogue</td>\n",
       "      <td>Madonna</td>\n",
       "      <td>['dance pop,pop']</td>\n",
       "      <td>67</td>\n",
       "      <td>0</td>\n",
       "      <td>Celebration (double disc version)</td>\n",
       "      <td>1989</td>\n",
       "      <td>9</td>\n",
       "      <td>...</td>\n",
       "      <td>5.280</td>\n",
       "      <td>4</td>\n",
       "      <td>pop</td>\n",
       "      <td>1</td>\n",
       "      <td>0</td>\n",
       "      <td>0</td>\n",
       "      <td>strike pose strike pose vogue vogue vogue vogu...</td>\n",
       "      <td>['strike', 'pose', 'strike', 'pose', 'vogue', ...</td>\n",
       "      <td>4</td>\n",
       "      <td>1</td>\n",
       "    </tr>\n",
       "    <tr>\n",
       "      <th>5</th>\n",
       "      <td>1990</td>\n",
       "      <td>6</td>\n",
       "      <td>Vision of Love</td>\n",
       "      <td>Mariah Carey</td>\n",
       "      <td>['dance pop,pop,r&amp;b,urban contemporary']</td>\n",
       "      <td>59</td>\n",
       "      <td>0</td>\n",
       "      <td>Mariah Carey</td>\n",
       "      <td>1990</td>\n",
       "      <td>6</td>\n",
       "      <td>...</td>\n",
       "      <td>3.488</td>\n",
       "      <td>3</td>\n",
       "      <td>urban contemporary</td>\n",
       "      <td>1</td>\n",
       "      <td>0</td>\n",
       "      <td>0</td>\n",
       "      <td>treat kind sweet destiny carry desperation wai...</td>\n",
       "      <td>['treat', 'kind', 'sweet', 'destiny', 'carry',...</td>\n",
       "      <td>0</td>\n",
       "      <td>1</td>\n",
       "    </tr>\n",
       "    <tr>\n",
       "      <th>6</th>\n",
       "      <td>1990</td>\n",
       "      <td>7</td>\n",
       "      <td>Another Day in Paradise</td>\n",
       "      <td>Phil Collins</td>\n",
       "      <td>['mellow gold,rock drums,soft rock']</td>\n",
       "      <td>74</td>\n",
       "      <td>0</td>\n",
       "      <td>...But Seriously (Deluxe Edition)</td>\n",
       "      <td>1989</td>\n",
       "      <td>11</td>\n",
       "      <td>...</td>\n",
       "      <td>5.369</td>\n",
       "      <td>4</td>\n",
       "      <td>soft rock</td>\n",
       "      <td>1</td>\n",
       "      <td>0</td>\n",
       "      <td>0</td>\n",
       "      <td>call street help cold nowhere sleep somewhere ...</td>\n",
       "      <td>['call', 'street', 'help', 'cold', 'nowhere', ...</td>\n",
       "      <td>0</td>\n",
       "      <td>1</td>\n",
       "    </tr>\n",
       "    <tr>\n",
       "      <th>7</th>\n",
       "      <td>1990</td>\n",
       "      <td>8</td>\n",
       "      <td>Hold On</td>\n",
       "      <td>En Vogue</td>\n",
       "      <td>['contemporary r&amp;b,dance pop,girl group,hip ho...</td>\n",
       "      <td>55</td>\n",
       "      <td>0</td>\n",
       "      <td>Born to Sing</td>\n",
       "      <td>1990</td>\n",
       "      <td>4</td>\n",
       "      <td>...</td>\n",
       "      <td>5.074</td>\n",
       "      <td>4</td>\n",
       "      <td>urban contemporary</td>\n",
       "      <td>1</td>\n",
       "      <td>0</td>\n",
       "      <td>0</td>\n",
       "      <td>treat wrong dear since since go away know hang...</td>\n",
       "      <td>['treat', 'wrong', 'dear', 'since', 'since', '...</td>\n",
       "      <td>5</td>\n",
       "      <td>1</td>\n",
       "    </tr>\n",
       "    <tr>\n",
       "      <th>8</th>\n",
       "      <td>1990</td>\n",
       "      <td>9</td>\n",
       "      <td>Cradle of Love</td>\n",
       "      <td>Billy Idol</td>\n",
       "      <td>['album rock,classic rock,dance rock,hard rock...</td>\n",
       "      <td>53</td>\n",
       "      <td>0</td>\n",
       "      <td>Charmed Life</td>\n",
       "      <td>1990</td>\n",
       "      <td>5</td>\n",
       "      <td>...</td>\n",
       "      <td>4.691</td>\n",
       "      <td>4</td>\n",
       "      <td>soft rock</td>\n",
       "      <td>1</td>\n",
       "      <td>0</td>\n",
       "      <td>0</td>\n",
       "      <td>rock cradle love rock cradle love cradle love ...</td>\n",
       "      <td>['rock', 'cradle', 'love', 'rock', 'cradle', '...</td>\n",
       "      <td>0</td>\n",
       "      <td>1</td>\n",
       "    </tr>\n",
       "    <tr>\n",
       "      <th>9</th>\n",
       "      <td>1990</td>\n",
       "      <td>10</td>\n",
       "      <td>Blaze of Glory</td>\n",
       "      <td>Jon Bon Jovi</td>\n",
       "      <td>['glam metal,hard rock']</td>\n",
       "      <td>69</td>\n",
       "      <td>0</td>\n",
       "      <td>Blaze Of Glory</td>\n",
       "      <td>1990</td>\n",
       "      <td>1</td>\n",
       "      <td>...</td>\n",
       "      <td>5.587</td>\n",
       "      <td>4</td>\n",
       "      <td>hard rock</td>\n",
       "      <td>1</td>\n",
       "      <td>0</td>\n",
       "      <td>0</td>\n",
       "      <td>wake morning raise weary head coat pillow eart...</td>\n",
       "      <td>['wake', 'morning', 'raise', 'weary', 'head', ...</td>\n",
       "      <td>0</td>\n",
       "      <td>1</td>\n",
       "    </tr>\n",
       "    <tr>\n",
       "      <th>10</th>\n",
       "      <td>1990</td>\n",
       "      <td>11</td>\n",
       "      <td>Do Me!</td>\n",
       "      <td>Bell Biv DeVoe</td>\n",
       "      <td>['boy band,contemporary r&amp;b,hip hop,hip pop,ne...</td>\n",
       "      <td>51</td>\n",
       "      <td>0</td>\n",
       "      <td>Poison</td>\n",
       "      <td>1990</td>\n",
       "      <td>1</td>\n",
       "      <td>...</td>\n",
       "      <td>4.541</td>\n",
       "      <td>4</td>\n",
       "      <td>urban contemporary</td>\n",
       "      <td>1</td>\n",
       "      <td>0</td>\n",
       "      <td>0</td>\n",
       "      <td>take good look tell like think think kiss pret...</td>\n",
       "      <td>['take', 'good', 'look', 'tell', 'like', 'thin...</td>\n",
       "      <td>5</td>\n",
       "      <td>0</td>\n",
       "    </tr>\n",
       "  </tbody>\n",
       "</table>\n",
       "<p>11 rows × 31 columns</p>\n",
       "</div>"
      ],
      "text/plain": [
       "    year  rank                     song           artist  \\\n",
       "0   1990     1                  Hold On  Wilson Phillips   \n",
       "1   1990     2   It Must Have Been Love          Roxette   \n",
       "2   1990     3     Nothing Compares 2 U  Sinead O'Connor   \n",
       "3   1990     4                   Poison   Bell Biv DeVoe   \n",
       "4   1990     5                    Vogue          Madonna   \n",
       "5   1990     6           Vision of Love     Mariah Carey   \n",
       "6   1990     7  Another Day in Paradise     Phil Collins   \n",
       "7   1990     8                  Hold On         En Vogue   \n",
       "8   1990     9           Cradle of Love       Billy Idol   \n",
       "9   1990    10           Blaze of Glory     Jon Bon Jovi   \n",
       "10  1990    11                   Do Me!   Bell Biv DeVoe   \n",
       "\n",
       "                                                genre  popularity  explicit  \\\n",
       "0   ['girl group,mellow gold,new wave pop,soft rock']          70         0   \n",
       "1      ['europop,new wave pop,soft rock,swedish pop']          75         0   \n",
       "2                    ['lilith,new wave pop,pop rock']          60         0   \n",
       "3   ['boy band,contemporary r&b,hip hop,hip pop,ne...          70         0   \n",
       "4                                   ['dance pop,pop']          67         0   \n",
       "5            ['dance pop,pop,r&b,urban contemporary']          59         0   \n",
       "6                ['mellow gold,rock drums,soft rock']          74         0   \n",
       "7   ['contemporary r&b,dance pop,girl group,hip ho...          55         0   \n",
       "8   ['album rock,classic rock,dance rock,hard rock...          53         0   \n",
       "9                            ['glam metal,hard rock']          69         0   \n",
       "10  ['boy band,contemporary r&b,hip hop,hip pop,ne...          51         0   \n",
       "\n",
       "                                album  release_year  release_month  ...  \\\n",
       "0                     Wilson Phillips          1990              5  ...   \n",
       "1              It Must Have Been Love          1990              5  ...   \n",
       "2    I Do Not Want What I Haven't Got          1990              7  ...   \n",
       "3                              Poison          1990              1  ...   \n",
       "4   Celebration (double disc version)          1989              9  ...   \n",
       "5                        Mariah Carey          1990              6  ...   \n",
       "6   ...But Seriously (Deluxe Edition)          1989             11  ...   \n",
       "7                        Born to Sing          1990              4  ...   \n",
       "8                        Charmed Life          1990              5  ...   \n",
       "9                      Blaze Of Glory          1990              1  ...   \n",
       "10                             Poison          1990              1  ...   \n",
       "\n",
       "    duration_m  time_signature         genre_split  lyric_pos  lyric_neu  \\\n",
       "0        4.448               4           soft rock          0          0   \n",
       "1        4.313               4         swedish pop          1          0   \n",
       "2        4.667               4            pop rock          0          0   \n",
       "3        4.364               4  urban contemporary          1          0   \n",
       "4        5.280               4                 pop          1          0   \n",
       "5        3.488               3  urban contemporary          1          0   \n",
       "6        5.369               4           soft rock          1          0   \n",
       "7        5.074               4  urban contemporary          1          0   \n",
       "8        4.691               4           soft rock          1          0   \n",
       "9        5.587               4           hard rock          1          0   \n",
       "10       4.541               4  urban contemporary          1          0   \n",
       "\n",
       "    lyric_neg                                             lyrics  \\\n",
       "0           1  know pain know pain lock chain chain change li...   \n",
       "1           0  must love whisper pillow leave winter ground w...   \n",
       "2           1  seven hour fifteen day since take love away ev...   \n",
       "3           0  spyderman freeze full effect ready ready ready...   \n",
       "4           0  strike pose strike pose vogue vogue vogue vogu...   \n",
       "5           0  treat kind sweet destiny carry desperation wai...   \n",
       "6           0  call street help cold nowhere sleep somewhere ...   \n",
       "7           0  treat wrong dear since since go away know hang...   \n",
       "8           0  rock cradle love rock cradle love cradle love ...   \n",
       "9           0  wake morning raise weary head coat pillow eart...   \n",
       "10          0  take good look tell like think think kiss pret...   \n",
       "\n",
       "                                               tokens  topic  hit  \n",
       "0   ['know', 'pain', 'know', 'pain', 'lock', 'chai...      0    1  \n",
       "1   ['must', 'love', 'whisper', 'pillow', 'leave',...      0    1  \n",
       "2   ['seven', 'hour', 'fifteen', 'day', 'since', '...      0    1  \n",
       "3   ['spyderman', 'freeze', 'full', 'effect', 'rea...      3    1  \n",
       "4   ['strike', 'pose', 'strike', 'pose', 'vogue', ...      4    1  \n",
       "5   ['treat', 'kind', 'sweet', 'destiny', 'carry',...      0    1  \n",
       "6   ['call', 'street', 'help', 'cold', 'nowhere', ...      0    1  \n",
       "7   ['treat', 'wrong', 'dear', 'since', 'since', '...      5    1  \n",
       "8   ['rock', 'cradle', 'love', 'rock', 'cradle', '...      0    1  \n",
       "9   ['wake', 'morning', 'raise', 'weary', 'head', ...      0    1  \n",
       "10  ['take', 'good', 'look', 'tell', 'like', 'thin...      5    0  \n",
       "\n",
       "[11 rows x 31 columns]"
      ]
     },
     "execution_count": 5,
     "metadata": {},
     "output_type": "execute_result"
    }
   ],
   "source": [
    "# Check\n",
    "df[:11]"
   ]
  },
  {
   "cell_type": "markdown",
   "id": "8c5af9ac-29e3-4b68-ab94-b6c0d11a2298",
   "metadata": {},
   "source": [
    "## Another brief round of EDA"
   ]
  },
  {
   "cell_type": "code",
   "execution_count": 44,
   "id": "765256ea-5723-41d4-9d5a-c5119304875c",
   "metadata": {},
   "outputs": [
    {
     "data": {
      "image/png": "[encoded data removed]",
      "text/plain": [
       "<Figure size 720x432 with 1 Axes>"
      ]
     },
     "metadata": {
      "needs_background": "light"
     },
     "output_type": "display_data"
    }
   ],
   "source": [
    "# Visualising the number of hits and non-hits\n",
    "plt.figure(figsize=(10,6))\n",
    "plt.hist(df[\"hit\"], bins=3)\n",
    "plt.title(\"Non-hits vs Hits\")\n",
    "plt.show()"
   ]
  },
  {
   "cell_type": "code",
   "execution_count": 9,
   "id": "fc5b74d0-6237-4747-89ee-9b8360101501",
   "metadata": {},
   "outputs": [
    {
     "data": {
      "text/plain": [
       "0    2632\n",
       "1     299\n",
       "Name: hit, dtype: int64"
      ]
     },
     "execution_count": 9,
     "metadata": {},
     "output_type": "execute_result"
    }
   ],
   "source": [
    "# Get the actual counts\n",
    "df['hit'].value_counts()"
   ]
  },
  {
   "cell_type": "code",
   "execution_count": 10,
   "id": "8d2c705c-54e3-4a12-be51-54b73da92071",
   "metadata": {},
   "outputs": [
    {
     "data": {
      "text/plain": [
       "0.11360182370820669"
      ]
     },
     "execution_count": 10,
     "metadata": {},
     "output_type": "execute_result"
    }
   ],
   "source": [
    "# Calculate the proportion of negative and positive samples\n",
    "299/2632"
   ]
  },
  {
   "cell_type": "markdown",
   "id": "ca5f9d08-373d-4d65-9e7e-f6efdccdc8f0",
   "metadata": {},
   "source": [
    "A baseline random classifier will give an AUROC of 0.5, but for AUPRC the baseline is equal to the fraction of positives. Therefore, on a data set with 10% positive examples, you get a baseline AUPRC of 0.1, so scoring 0.2 would be a good score, and 0.4 excellent. \n",
    "\n",
    "In the dataset there are 299 positive examples out of 2632 in total, so our baseline AUPRC is just 0.114. A good model could therefore have a seemingly low score."
   ]
  },
  {
   "cell_type": "code",
   "execution_count": 60,
   "id": "2aced9bb-51ff-4368-9bb9-f72c67f0231d",
   "metadata": {},
   "outputs": [
    {
     "data": {
      "image/png": "[encoded data removed]",
      "text/plain": [
       "<Figure size 720x360 with 1 Axes>"
      ]
     },
     "metadata": {
      "needs_background": "light"
     },
     "output_type": "display_data"
    }
   ],
   "source": [
    "# Expanding on the top 10 names that appear most frequently done in previous EDA\n",
    "import seaborn as sns\n",
    "\n",
    "most_often = df['artist'].value_counts()[:20]\n",
    "plt.figure(figsize=(10,5)) \n",
    "sns.barplot(x = most_often.index, y = most_often.values, alpha=0.9, palette = 'mako')\n",
    "plt.ylabel('Count', fontsize=14)\n",
    "plt.xlabel('Artist', fontsize=14)\n",
    "plt.title('The artists who are on the chart most frequently', fontsize=15)\n",
    "plt.xticks(rotation=90, fontsize=11)\n",
    "plt.show()"
   ]
  },
  {
   "cell_type": "markdown",
   "id": "f9fa7d17-8e06-4e9e-9f9f-6c33cbb03a9c",
   "metadata": {},
   "source": [
    "Some artists, like Taylor Swift or Mariah Carey have recorded more hit songs in the time frame considered than any other artist. A song typically has more chances to become a hit if the name of one of those artists is present."
   ]
  },
  {
   "cell_type": "markdown",
   "id": "e74dac61-51d4-4cd4-9dc3-2c979d75e60a",
   "metadata": {},
   "source": [
    "### EDA for the obtained topics"
   ]
  },
  {
   "cell_type": "code",
   "execution_count": 18,
   "id": "5565c051-e3b7-4e76-a958-ee00fa1dc4d5",
   "metadata": {},
   "outputs": [
    {
     "data": {
      "text/plain": [
       "0    1032\n",
       "5     567\n",
       "2     445\n",
       "1     368\n",
       "4     276\n",
       "3     243\n",
       "Name: topic, dtype: int64"
      ]
     },
     "execution_count": 18,
     "metadata": {},
     "output_type": "execute_result"
    }
   ],
   "source": [
    "# topics that appear the most frequently\n",
    "top_topics = df['topic'].value_counts()\n",
    "# Display\n",
    "top_topics"
   ]
  },
  {
   "cell_type": "markdown",
   "id": "00711ae9-5473-41b3-8e38-8c2d71c8f69e",
   "metadata": {},
   "source": [
    "It apeears that topic 0 about ['could', 'feel', 'life', 'heart', 'time', 'cannot', 'would', 'never', 'know', 'love'] (seems to deal with different aspects of love) is the most prevalent in the datast with no discrimination to ranking:"
   ]
  },
  {
   "cell_type": "code",
   "execution_count": 29,
   "id": "50fb25f5-9539-44af-9645-40b5927fd919",
   "metadata": {},
   "outputs": [
    {
     "data": {
      "text/html": [
       "<div>\n",
       "<style scoped>\n",
       "    .dataframe tbody tr th:only-of-type {\n",
       "        vertical-align: middle;\n",
       "    }\n",
       "\n",
       "    .dataframe tbody tr th {\n",
       "        vertical-align: top;\n",
       "    }\n",
       "\n",
       "    .dataframe thead th {\n",
       "        text-align: right;\n",
       "    }\n",
       "</style>\n",
       "<table border=\"1\" class=\"dataframe\">\n",
       "  <thead>\n",
       "    <tr style=\"text-align: right;\">\n",
       "      <th></th>\n",
       "      <th>rank</th>\n",
       "      <th>topic</th>\n",
       "      <th>max</th>\n",
       "    </tr>\n",
       "  </thead>\n",
       "  <tbody>\n",
       "    <tr>\n",
       "      <th>0</th>\n",
       "      <td>70</td>\n",
       "      <td>0</td>\n",
       "      <td>18</td>\n",
       "    </tr>\n",
       "    <tr>\n",
       "      <th>1</th>\n",
       "      <td>26</td>\n",
       "      <td>0</td>\n",
       "      <td>16</td>\n",
       "    </tr>\n",
       "    <tr>\n",
       "      <th>2</th>\n",
       "      <td>1</td>\n",
       "      <td>0</td>\n",
       "      <td>15</td>\n",
       "    </tr>\n",
       "    <tr>\n",
       "      <th>3</th>\n",
       "      <td>15</td>\n",
       "      <td>0</td>\n",
       "      <td>15</td>\n",
       "    </tr>\n",
       "    <tr>\n",
       "      <th>4</th>\n",
       "      <td>7</td>\n",
       "      <td>0</td>\n",
       "      <td>15</td>\n",
       "    </tr>\n",
       "    <tr>\n",
       "      <th>5</th>\n",
       "      <td>12</td>\n",
       "      <td>0</td>\n",
       "      <td>15</td>\n",
       "    </tr>\n",
       "    <tr>\n",
       "      <th>6</th>\n",
       "      <td>2</td>\n",
       "      <td>0</td>\n",
       "      <td>14</td>\n",
       "    </tr>\n",
       "    <tr>\n",
       "      <th>7</th>\n",
       "      <td>96</td>\n",
       "      <td>0</td>\n",
       "      <td>14</td>\n",
       "    </tr>\n",
       "    <tr>\n",
       "      <th>8</th>\n",
       "      <td>23</td>\n",
       "      <td>0</td>\n",
       "      <td>14</td>\n",
       "    </tr>\n",
       "    <tr>\n",
       "      <th>9</th>\n",
       "      <td>31</td>\n",
       "      <td>0</td>\n",
       "      <td>14</td>\n",
       "    </tr>\n",
       "  </tbody>\n",
       "</table>\n",
       "</div>"
      ],
      "text/plain": [
       "   rank  topic  max\n",
       "0    70      0   18\n",
       "1    26      0   16\n",
       "2     1      0   15\n",
       "3    15      0   15\n",
       "4     7      0   15\n",
       "5    12      0   15\n",
       "6     2      0   14\n",
       "7    96      0   14\n",
       "8    23      0   14\n",
       "9    31      0   14"
      ]
     },
     "execution_count": 29,
     "metadata": {},
     "output_type": "execute_result"
    }
   ],
   "source": [
    "# rank with topic\n",
    "frequent_topic = df[['rank','topic']].value_counts()\n",
    "# Reset index name\n",
    "frequent_topic = frequent_topic.reset_index(name='max') \n",
    "# Display the top 10 results\n",
    "frequent_topic[:10]"
   ]
  },
  {
   "cell_type": "markdown",
   "id": "d163e487-a6d9-4b5f-914e-b4f67822b680",
   "metadata": {},
   "source": [
    "**The topic that tops the chart the most time**"
   ]
  },
  {
   "cell_type": "code",
   "execution_count": 35,
   "id": "48c7084b-90e4-4b69-95db-4acf04d437fe",
   "metadata": {},
   "outputs": [
    {
     "data": {
      "text/html": [
       "<div>\n",
       "<style scoped>\n",
       "    .dataframe tbody tr th:only-of-type {\n",
       "        vertical-align: middle;\n",
       "    }\n",
       "\n",
       "    .dataframe tbody tr th {\n",
       "        vertical-align: top;\n",
       "    }\n",
       "\n",
       "    .dataframe thead th {\n",
       "        text-align: right;\n",
       "    }\n",
       "</style>\n",
       "<table border=\"1\" class=\"dataframe\">\n",
       "  <thead>\n",
       "    <tr style=\"text-align: right;\">\n",
       "      <th></th>\n",
       "      <th>rank</th>\n",
       "    </tr>\n",
       "    <tr>\n",
       "      <th>topic</th>\n",
       "      <th></th>\n",
       "    </tr>\n",
       "  </thead>\n",
       "  <tbody>\n",
       "    <tr>\n",
       "      <th>0</th>\n",
       "      <td>15</td>\n",
       "    </tr>\n",
       "    <tr>\n",
       "      <th>2</th>\n",
       "      <td>5</td>\n",
       "    </tr>\n",
       "    <tr>\n",
       "      <th>1</th>\n",
       "      <td>4</td>\n",
       "    </tr>\n",
       "    <tr>\n",
       "      <th>4</th>\n",
       "      <td>3</td>\n",
       "    </tr>\n",
       "    <tr>\n",
       "      <th>3</th>\n",
       "      <td>2</td>\n",
       "    </tr>\n",
       "    <tr>\n",
       "      <th>5</th>\n",
       "      <td>2</td>\n",
       "    </tr>\n",
       "  </tbody>\n",
       "</table>\n",
       "</div>"
      ],
      "text/plain": [
       "       rank\n",
       "topic      \n",
       "0        15\n",
       "2         5\n",
       "1         4\n",
       "4         3\n",
       "3         2\n",
       "5         2"
      ]
     },
     "execution_count": 35,
     "metadata": {},
     "output_type": "execute_result"
    }
   ],
   "source": [
    "# Filter out the songs with rank = 1/first place\n",
    "hitsong = df[df['rank']==1] \n",
    "# Sum up the topics\n",
    "hitsong = hitsong.groupby('topic').sum() \n",
    "# Display in descending order\n",
    "hitsong[['rank']].sort_values('rank', ascending = False)"
   ]
  },
  {
   "cell_type": "markdown",
   "id": "d7a40ab1-72bc-48d8-ad70-1e20a7182fc6",
   "metadata": {},
   "source": [
    "Again, topic 0 reigns the chart. "
   ]
  },
  {
   "cell_type": "markdown",
   "id": "82d9d7c5-2d74-4f9c-8405-5034177153ee",
   "metadata": {},
   "source": [
    "# Decision tree"
   ]
  },
  {
   "cell_type": "markdown",
   "id": "609e6e58-763c-451d-9f02-944ad95bea39",
   "metadata": {},
   "source": [
    "## The first model: Benchmark "
   ]
  },
  {
   "cell_type": "code",
   "execution_count": 6,
   "id": "c56cb6ad-9529-4901-b6ad-741e208e5109",
   "metadata": {},
   "outputs": [],
   "source": [
    "# Encode the artists' name\n",
    "from sklearn.preprocessing import LabelEncoder\n",
    "le = LabelEncoder()\n",
    "df[\"artist_encoded\"] = le.fit_transform(df[\"artist\"])"
   ]
  },
  {
   "cell_type": "code",
   "execution_count": 7,
   "id": "505e39f4-5954-43cc-8bd1-fc65ae132bf2",
   "metadata": {},
   "outputs": [],
   "source": [
    "# Selecting the artists and their popularity (the barebone identifying features of a song) \n",
    "# to predict hit as benchmark\n",
    "X = df[[\"artist_encoded\", \"popularity\"]]\n",
    "y = df[\"hit\"]\n",
    "# Default test size is 0.25 if no size is specified\n",
    "X_train, X_test, y_train, y_test = train_test_split(X,y, random_state=0) "
   ]
  },
  {
   "cell_type": "code",
   "execution_count": 8,
   "id": "694e03dd-2e50-4e3f-8492-5da23f9f478b",
   "metadata": {},
   "outputs": [
    {
     "name": "stdout",
     "output_type": "stream",
     "text": [
      "BENCHMARK DECISION TREE SCORES\n",
      "Accuracy: 0.8171896316507503\n",
      "Precision: 0.12195121951219512\n",
      "Recall: 0.1388888888888889\n",
      "F1: 0.12987012987012989\n"
     ]
    }
   ],
   "source": [
    "# Use a simple decision tree classifier with the default parameters as a benchmark :\n",
    "\n",
    "# Fit the basic model\n",
    "dt = DecisionTreeClassifier(random_state=42)\n",
    "dt.fit(X_train, y_train)\n",
    "y_pred = dt.predict(X_test)\n",
    "\n",
    "# Calculate evaluation metrics\n",
    "dt_accuracy = accuracy_score(y_test, y_pred)\n",
    "dt_precision = precision_score(y_test, y_pred)\n",
    "dt_recall = recall_score(y_test, y_pred)\n",
    "dt_f1=f1_score(y_test, y_pred)\n",
    "\n",
    "# Display\n",
    "print('BENCHMARK DECISION TREE SCORES')\n",
    "print('Accuracy:', dt_accuracy)\n",
    "print('Precision:', dt_precision)\n",
    "print('Recall:', dt_recall)\n",
    "print('F1:', dt_f1)"
   ]
  },
  {
   "cell_type": "markdown",
   "id": "051dd56a-d66a-4145-87fb-5c5b2a6f379b",
   "metadata": {},
   "source": [
    "The resulting F1-score is 0.13, which is low. The accuracy is high- close to 82%, but due to the data imbalance, the model tends to predict that a song is systematically not a hit, which is not an ideal evaluation metric."
   ]
  },
  {
   "cell_type": "markdown",
   "id": "851a6cb3-b980-405e-8f7f-9a01241a086d",
   "metadata": {},
   "source": [
    "## SMOTE\n",
    "\n",
    "Synthetic Minority Oversampling Technique (SMOTE) is used to address the imbalance in the dataset whereby \n",
    "random synthetic samples are generated for the minority class [16]."
   ]
  },
  {
   "cell_type": "code",
   "execution_count": 9,
   "id": "e315aaee-d70a-4696-9cfc-ed6b145b9d14",
   "metadata": {},
   "outputs": [],
   "source": [
    "# Dropping features that are not used for now\n",
    "# At this stage, Spotify's song features are added in \n",
    "X = df.drop(['rank', 'artist', 'song', 'hit', 'year', 'genre', 'album','genre_split', \n",
    "             'lyric_pos', 'lyric_neu', 'lyric_neg', 'lyrics', 'tokens', 'topic', \n",
    "             'hit', 'artist_encoded'], axis=1)\n",
    "y = df[\"hit\"]\n",
    "\n",
    "# Train-test split\n",
    "X_train, X_test, y_train, y_test = train_test_split(X, y, test_size=0.2, shuffle=True, \n",
    "                                                    stratify=y, random_state=42) \n",
    "# Apply SMOTE to the training sets\n",
    "sm = SMOTE(random_state=42)\n",
    "X_train_smote, y_train_smote = sm.fit_resample(X_train, y_train)"
   ]
  },
  {
   "cell_type": "code",
   "execution_count": 10,
   "id": "806394dd-2a00-497f-b8af-5ac2a4a62aaf",
   "metadata": {},
   "outputs": [
    {
     "data": {
      "text/plain": [
       "1    2105\n",
       "0    2105\n",
       "Name: hit, dtype: int64"
      ]
     },
     "execution_count": 10,
     "metadata": {},
     "output_type": "execute_result"
    }
   ],
   "source": [
    "# Value count of negative and positive samples\n",
    "y_train_smote.value_counts()\n",
    "# The value counts are balanced now"
   ]
  },
  {
   "cell_type": "code",
   "execution_count": 12,
   "id": "f4c1518f-2733-412f-bed5-5306e4e1763b",
   "metadata": {},
   "outputs": [
    {
     "data": {
      "text/plain": [
       "(2344, 17)"
      ]
     },
     "execution_count": 12,
     "metadata": {},
     "output_type": "execute_result"
    }
   ],
   "source": [
    "# Check the number of rows before SMOTE\n",
    "X_train.shape"
   ]
  },
  {
   "cell_type": "code",
   "execution_count": 11,
   "id": "0536bbec-0e67-4cc1-b74d-54b271361294",
   "metadata": {},
   "outputs": [
    {
     "data": {
      "text/plain": [
       "(4210, 17)"
      ]
     },
     "execution_count": 11,
     "metadata": {},
     "output_type": "execute_result"
    }
   ],
   "source": [
    "# Number of rows have increased after the use of SMOTE\n",
    "X_train_smote.shape"
   ]
  },
  {
   "cell_type": "code",
   "execution_count": 10,
   "id": "2d8ec823-d473-485c-9606-b13bbdadc680",
   "metadata": {},
   "outputs": [
    {
     "data": {
      "text/html": [
       "<div>\n",
       "<style scoped>\n",
       "    .dataframe tbody tr th:only-of-type {\n",
       "        vertical-align: middle;\n",
       "    }\n",
       "\n",
       "    .dataframe tbody tr th {\n",
       "        vertical-align: top;\n",
       "    }\n",
       "\n",
       "    .dataframe thead th {\n",
       "        text-align: right;\n",
       "    }\n",
       "</style>\n",
       "<table border=\"1\" class=\"dataframe\">\n",
       "  <thead>\n",
       "    <tr style=\"text-align: right;\">\n",
       "      <th></th>\n",
       "      <th>model</th>\n",
       "      <th>tp</th>\n",
       "      <th>tn</th>\n",
       "      <th>fp</th>\n",
       "      <th>fn</th>\n",
       "      <th>correct</th>\n",
       "      <th>incorrect</th>\n",
       "      <th>accuracy</th>\n",
       "      <th>precision</th>\n",
       "      <th>recall</th>\n",
       "      <th>f1</th>\n",
       "      <th>roc_auc</th>\n",
       "      <th>avg_pre</th>\n",
       "    </tr>\n",
       "  </thead>\n",
       "  <tbody>\n",
       "    <tr>\n",
       "      <th>0</th>\n",
       "      <td>Tree with SMOTE</td>\n",
       "      <td>26</td>\n",
       "      <td>427</td>\n",
       "      <td>100</td>\n",
       "      <td>34</td>\n",
       "      <td>453</td>\n",
       "      <td>134</td>\n",
       "      <td>0.772</td>\n",
       "      <td>0.206</td>\n",
       "      <td>0.433</td>\n",
       "      <td>0.28</td>\n",
       "      <td>0.622</td>\n",
       "      <td>0.147</td>\n",
       "    </tr>\n",
       "  </tbody>\n",
       "</table>\n",
       "</div>"
      ],
      "text/plain": [
       "             model  tp   tn   fp  fn correct incorrect accuracy precision  \\\n",
       "0  Tree with SMOTE  26  427  100  34     453       134    0.772     0.206   \n",
       "\n",
       "  recall    f1 roc_auc avg_pre  \n",
       "0  0.433  0.28   0.622   0.147  "
      ]
     },
     "execution_count": 10,
     "metadata": {},
     "output_type": "execute_result"
    }
   ],
   "source": [
    "import warnings\n",
    "warnings.simplefilter(action='ignore', category=FutureWarning)\n",
    "\n",
    "# Using back the same basic decision tree\n",
    "dt2 = DecisionTreeClassifier(max_depth=100, random_state=42)\n",
    "dt2.fit(X_train_smote, y_train_smote)\n",
    "y_pred2 = dt2.predict(X_test)\n",
    "\n",
    "# Create a dataframe to store the evaluation metrics\n",
    "df_result = pd.DataFrame(columns=['model', 'tp', 'tn', 'fp', 'fn', 'correct', 'incorrect',\n",
    "                                  'accuracy', 'precision', 'recall', 'f1', 'roc_auc','avg_pre'])\n",
    "\n",
    "# Calculation of evaluation metrics\n",
    "tn, fp, fn, tp = confusion_matrix(y_test, y_pred2).ravel()\n",
    "accuracy = accuracy_score(y_test, y_pred2)\n",
    "precision = precision_score(y_test, y_pred2)\n",
    "recall = recall_score(y_test, y_pred2)\n",
    "f1 = f1_score(y_test, y_pred2)\n",
    "roc_auc = roc_auc_score(y_test, y_pred2)\n",
    "avg_precision = average_precision_score(y_test, y_pred2)\n",
    "\n",
    "# Create a dictionary for the metrics\n",
    "row = {'model': 'Tree with SMOTE',\n",
    "        'tp': tp,\n",
    "        'tn': tn,\n",
    "        'fp': fp,\n",
    "        'fn': fn,\n",
    "        'correct': tp+tn,\n",
    "        'incorrect': fp+fn,\n",
    "        'accuracy': round(accuracy,3),\n",
    "        'precision': round(precision,3),\n",
    "        'recall': round(recall,3),\n",
    "        'f1': round(f1,3),\n",
    "        'roc_auc': round(roc_auc,3),\n",
    "        'avg_pre': round(avg_precision,3),\n",
    "    }\n",
    "\n",
    "# Add the row to dataframe\n",
    "df_result = df_result.append(row, ignore_index=True)\n",
    "# Display\n",
    "df_result.head()"
   ]
  },
  {
   "cell_type": "markdown",
   "id": "6ed4dc72-3db4-422a-91b0-7a3dbfb20bac",
   "metadata": {},
   "source": [
    "The F1-score has improved from 0.13. The accuracy has dropped as is expected as as the data is not unbalanced anymore."
   ]
  },
  {
   "cell_type": "markdown",
   "id": "f12e0db9-1dff-4d3a-a212-8d221b09d9f0",
   "metadata": {},
   "source": [
    "## Improved model: Random forest"
   ]
  },
  {
   "cell_type": "markdown",
   "id": "af4799c3-83f1-4315-a807-214c5d2e19b2",
   "metadata": {},
   "source": [
    "While the decision tree is a good starting point, more complex models might improve overall performance. Moving on to the Random Forest Classifier with the same parameters are before:"
   ]
  },
  {
   "cell_type": "code",
   "execution_count": 11,
   "id": "7cd83439-7963-4df9-9056-36aedc83445a",
   "metadata": {},
   "outputs": [
    {
     "data": {
      "text/html": [
       "<div>\n",
       "<style scoped>\n",
       "    .dataframe tbody tr th:only-of-type {\n",
       "        vertical-align: middle;\n",
       "    }\n",
       "\n",
       "    .dataframe tbody tr th {\n",
       "        vertical-align: top;\n",
       "    }\n",
       "\n",
       "    .dataframe thead th {\n",
       "        text-align: right;\n",
       "    }\n",
       "</style>\n",
       "<table border=\"1\" class=\"dataframe\">\n",
       "  <thead>\n",
       "    <tr style=\"text-align: right;\">\n",
       "      <th></th>\n",
       "      <th>model</th>\n",
       "      <th>tp</th>\n",
       "      <th>tn</th>\n",
       "      <th>fp</th>\n",
       "      <th>fn</th>\n",
       "      <th>correct</th>\n",
       "      <th>incorrect</th>\n",
       "      <th>accuracy</th>\n",
       "      <th>precision</th>\n",
       "      <th>recall</th>\n",
       "      <th>f1</th>\n",
       "      <th>roc_auc</th>\n",
       "      <th>avg_pre</th>\n",
       "    </tr>\n",
       "  </thead>\n",
       "  <tbody>\n",
       "    <tr>\n",
       "      <th>0</th>\n",
       "      <td>Tree with SMOTE</td>\n",
       "      <td>26</td>\n",
       "      <td>427</td>\n",
       "      <td>100</td>\n",
       "      <td>34</td>\n",
       "      <td>453</td>\n",
       "      <td>134</td>\n",
       "      <td>0.772</td>\n",
       "      <td>0.206</td>\n",
       "      <td>0.433</td>\n",
       "      <td>0.28</td>\n",
       "      <td>0.622</td>\n",
       "      <td>0.147</td>\n",
       "    </tr>\n",
       "    <tr>\n",
       "      <th>1</th>\n",
       "      <td>First Random Forest with SMOTE</td>\n",
       "      <td>8</td>\n",
       "      <td>480</td>\n",
       "      <td>47</td>\n",
       "      <td>52</td>\n",
       "      <td>488</td>\n",
       "      <td>99</td>\n",
       "      <td>0.831346</td>\n",
       "      <td>0.145455</td>\n",
       "      <td>0.133333</td>\n",
       "      <td>0.13913</td>\n",
       "      <td>0.522075</td>\n",
       "      <td>0.108</td>\n",
       "    </tr>\n",
       "  </tbody>\n",
       "</table>\n",
       "</div>"
      ],
      "text/plain": [
       "                            model  tp   tn   fp  fn correct incorrect  \\\n",
       "0                 Tree with SMOTE  26  427  100  34     453       134   \n",
       "1  First Random Forest with SMOTE   8  480   47  52     488        99   \n",
       "\n",
       "   accuracy precision    recall       f1   roc_auc avg_pre  \n",
       "0     0.772     0.206     0.433     0.28     0.622   0.147  \n",
       "1  0.831346  0.145455  0.133333  0.13913  0.522075   0.108  "
      ]
     },
     "execution_count": 11,
     "metadata": {},
     "output_type": "execute_result"
    }
   ],
   "source": [
    "# Staring with 100 trees\n",
    "rf= RandomForestClassifier(n_estimators=100, random_state=42)\n",
    "rf.fit(X_train_smote, y_train_smote)\n",
    "y_pred_rf = rf.predict(X_test)\n",
    "\n",
    "# Calculating the evaluation metrics\n",
    "tn, fp, fn, tp = confusion_matrix(y_test, y_pred_rf).ravel()\n",
    "accuracy = accuracy_score(y_test, y_pred_rf)\n",
    "precision = precision_score(y_test, y_pred_rf)\n",
    "recall = recall_score(y_test, y_pred_rf)\n",
    "f1 = f1_score(y_test, y_pred_rf)\n",
    "roc_auc = roc_auc_score(y_test, y_pred_rf)\n",
    "avg_precision = average_precision_score(y_test, y_pred_rf)\n",
    "\n",
    "# Store the evaluation metrics in a dictionary\n",
    "row = {'model': 'First Random Forest with SMOTE',\n",
    "        'tp': tp,\n",
    "        'tn': tn,\n",
    "        'fp': fp,\n",
    "        'fn': fn,\n",
    "        'correct': tp+tn,\n",
    "        'incorrect': fp+fn,\n",
    "        'accuracy': accuracy,\n",
    "        'precision': precision,\n",
    "        'recall': recall,\n",
    "        'f1': f1,\n",
    "        'roc_auc': roc_auc,\n",
    "        'avg_pre': round(avg_precision,3),       \n",
    "    }\n",
    "# Append the result to the dataframe\n",
    "df_result = df_result.append(row, ignore_index=True)\n",
    "# Display\n",
    "df_result.head()"
   ]
  },
  {
   "cell_type": "markdown",
   "id": "c877cf3a-e503-4c28-9f95-2270a3b05520",
   "metadata": {},
   "source": [
    "Comparing the results, while accuracy has improved, the F1 score did not. This could be due to the model is better at identifying False Positives (FP- not a hit but identified as one) but at the expense for False Negatives (FN- a hit but identified as non-hit). A smaller proportion is predicted as positve out of all the actual positive samples as indicated by the decrease in the recall and is poorer at identifying a hit as is shown by the lower precision."
   ]
  },
  {
   "cell_type": "code",
   "execution_count": 24,
   "id": "3938690d-076b-4a9c-a8fc-e683ab516883",
   "metadata": {},
   "outputs": [
    {
     "data": {
      "image/png": "[encoded data removed]",
      "text/plain": [
       "<Figure size 864x576 with 1 Axes>"
      ]
     },
     "metadata": {
      "needs_background": "light"
     },
     "output_type": "display_data"
    }
   ],
   "source": [
    "importances = rf.feature_importances_\n",
    "indices = np.argsort(importances)\n",
    "\n",
    "plt.figure(figsize=(12,8))\n",
    "plt.title('Feature Importance')\n",
    "plt.barh(range(len(indices)), importances[indices], color='orange', align='center')\n",
    "plt.yticks(range(len(indices)), [X.columns[i] for i in indices])\n",
    "plt.xlabel('Relative importance')\n",
    "plt.show()"
   ]
  },
  {
   "cell_type": "markdown",
   "id": "d2fc37b2-71bc-4c03-8516-9fe8be70e7ae",
   "metadata": {},
   "source": [
    "From the above forest, the most important feature is popularity followed by acousticness. Tempo is not too far behind while the duration round up the top 5 features.\n",
    "\n",
    "\n",
    "This analysis highlights that whether a song is a hit or not has a lot to do with its tempo and danceability as well as the artist's popularity and the duration of the track."
   ]
  },
  {
   "cell_type": "markdown",
   "id": "e6cd6628-eee3-476a-bd47-a6ac65766118",
   "metadata": {},
   "source": [
    "## Adding in lyrics related features\n",
    "\n",
    "Now, the lyrics related features such as the sentiment analyis (from the milestone stage) and topics derived earlier are added in to observe if adding in more data will improve model performance"
   ]
  },
  {
   "cell_type": "code",
   "execution_count": 12,
   "id": "d4080f7b-cc8f-4afe-90b3-c708cceffccb",
   "metadata": {},
   "outputs": [],
   "source": [
    "# Dropping features that are not used for now\n",
    "X = df.drop(['rank', 'artist', 'song', 'hit', 'year', 'genre', 'album','genre_split', \n",
    "             'lyrics', 'tokens', 'hit', 'artist_encoded'], axis=1)\n",
    "y = df[\"hit\"]\n",
    "\n",
    "# Train-test split\n",
    "X_train, X_test, y_train, y_test = train_test_split(X, y, test_size=0.2, shuffle=True, \n",
    "                                                    stratify=y, random_state=42) \n",
    "# Apply SMOTE\n",
    "sm = SMOTE(random_state=42)\n",
    "X_train_smote, y_train_smote = sm.fit_resample(X_train, y_train)"
   ]
  },
  {
   "cell_type": "code",
   "execution_count": 13,
   "id": "c9449847-33a5-4f14-a6f9-ad2e25e03b3b",
   "metadata": {},
   "outputs": [
    {
     "data": {
      "text/html": [
       "<div>\n",
       "<style scoped>\n",
       "    .dataframe tbody tr th:only-of-type {\n",
       "        vertical-align: middle;\n",
       "    }\n",
       "\n",
       "    .dataframe tbody tr th {\n",
       "        vertical-align: top;\n",
       "    }\n",
       "\n",
       "    .dataframe thead th {\n",
       "        text-align: right;\n",
       "    }\n",
       "</style>\n",
       "<table border=\"1\" class=\"dataframe\">\n",
       "  <thead>\n",
       "    <tr style=\"text-align: right;\">\n",
       "      <th></th>\n",
       "      <th>model</th>\n",
       "      <th>tp</th>\n",
       "      <th>tn</th>\n",
       "      <th>fp</th>\n",
       "      <th>fn</th>\n",
       "      <th>correct</th>\n",
       "      <th>incorrect</th>\n",
       "      <th>accuracy</th>\n",
       "      <th>precision</th>\n",
       "      <th>recall</th>\n",
       "      <th>f1</th>\n",
       "      <th>roc_auc</th>\n",
       "      <th>avg_pre</th>\n",
       "    </tr>\n",
       "  </thead>\n",
       "  <tbody>\n",
       "    <tr>\n",
       "      <th>0</th>\n",
       "      <td>Tree with SMOTE</td>\n",
       "      <td>26</td>\n",
       "      <td>427</td>\n",
       "      <td>100</td>\n",
       "      <td>34</td>\n",
       "      <td>453</td>\n",
       "      <td>134</td>\n",
       "      <td>0.772</td>\n",
       "      <td>0.206</td>\n",
       "      <td>0.433</td>\n",
       "      <td>0.28</td>\n",
       "      <td>0.622</td>\n",
       "      <td>0.147</td>\n",
       "    </tr>\n",
       "    <tr>\n",
       "      <th>1</th>\n",
       "      <td>First Random Forest with SMOTE</td>\n",
       "      <td>8</td>\n",
       "      <td>480</td>\n",
       "      <td>47</td>\n",
       "      <td>52</td>\n",
       "      <td>488</td>\n",
       "      <td>99</td>\n",
       "      <td>0.831346</td>\n",
       "      <td>0.145455</td>\n",
       "      <td>0.133333</td>\n",
       "      <td>0.13913</td>\n",
       "      <td>0.522075</td>\n",
       "      <td>0.108</td>\n",
       "    </tr>\n",
       "    <tr>\n",
       "      <th>2</th>\n",
       "      <td>Random Forest with lyrical features, SMOTE</td>\n",
       "      <td>4</td>\n",
       "      <td>495</td>\n",
       "      <td>32</td>\n",
       "      <td>56</td>\n",
       "      <td>499</td>\n",
       "      <td>88</td>\n",
       "      <td>0.850085</td>\n",
       "      <td>0.111111</td>\n",
       "      <td>0.066667</td>\n",
       "      <td>0.083333</td>\n",
       "      <td>0.502973</td>\n",
       "      <td>0.103</td>\n",
       "    </tr>\n",
       "  </tbody>\n",
       "</table>\n",
       "</div>"
      ],
      "text/plain": [
       "                                        model  tp   tn   fp  fn correct  \\\n",
       "0                             Tree with SMOTE  26  427  100  34     453   \n",
       "1              First Random Forest with SMOTE   8  480   47  52     488   \n",
       "2  Random Forest with lyrical features, SMOTE   4  495   32  56     499   \n",
       "\n",
       "  incorrect  accuracy precision    recall        f1   roc_auc avg_pre  \n",
       "0       134     0.772     0.206     0.433      0.28     0.622   0.147  \n",
       "1        99  0.831346  0.145455  0.133333   0.13913  0.522075   0.108  \n",
       "2        88  0.850085  0.111111  0.066667  0.083333  0.502973   0.103  "
      ]
     },
     "execution_count": 13,
     "metadata": {},
     "output_type": "execute_result"
    }
   ],
   "source": [
    "# Still 100 trees\n",
    "rf2= RandomForestClassifier(n_estimators=100, random_state=42)\n",
    "rf2.fit(X_train_smote, y_train_smote)\n",
    "y_pred_rf2 = rf2.predict(X_test)\n",
    "\n",
    "# Evaluation metrics calculation\n",
    "tn, fp, fn, tp = confusion_matrix(y_test, y_pred_rf2).ravel()\n",
    "accuracy = accuracy_score(y_test, y_pred_rf2)\n",
    "precision = precision_score(y_test, y_pred_rf2)\n",
    "recall = recall_score(y_test, y_pred_rf2)\n",
    "f1 = f1_score(y_test, y_pred_rf2)\n",
    "roc_auc = roc_auc_score(y_test, y_pred_rf2)\n",
    "avg_precision = average_precision_score(y_test, y_pred_rf2)\n",
    "\n",
    "# Store the metrics in a dictionary\n",
    "row = {'model': 'Random Forest with lyrical features, SMOTE',\n",
    "        'tp': tp,\n",
    "        'tn': tn,\n",
    "        'fp': fp,\n",
    "        'fn': fn,\n",
    "        'correct': tp+tn,\n",
    "        'incorrect': fp+fn,\n",
    "        'accuracy': accuracy,\n",
    "        'precision': precision,\n",
    "        'recall': recall,\n",
    "        'f1': f1,\n",
    "        'roc_auc': roc_auc,\n",
    "        'avg_pre': round(avg_precision,3),       \n",
    "    }\n",
    "# Append the dictionary to the dataframe\n",
    "df_result = df_result.append(row, ignore_index=True)\n",
    "# Display\n",
    "df_result.head()"
   ]
  },
  {
   "cell_type": "markdown",
   "id": "e7cff201-b659-4e98-9888-74d5c555d4d8",
   "metadata": {},
   "source": [
    "While accuracy continues to improve, F1 did not. The classifier is still prone to Type II error with more FN. "
   ]
  },
  {
   "cell_type": "code",
   "execution_count": 29,
   "id": "4c630c32-408a-4c51-b21b-dd3fc6748335",
   "metadata": {},
   "outputs": [
    {
     "data": {
      "image/png": "[encoded data removed]",
      "text/plain": [
       "<Figure size 864x576 with 1 Axes>"
      ]
     },
     "metadata": {
      "needs_background": "light"
     },
     "output_type": "display_data"
    }
   ],
   "source": [
    "# Visualising feature importances\n",
    "importances = rf2.feature_importances_\n",
    "indices = np.argsort(importances)\n",
    "\n",
    "plt.figure(figsize=(12,8))\n",
    "plt.title('Feature Importances')\n",
    "plt.barh(range(len(indices)), importances[indices], align='center')\n",
    "plt.yticks(range(len(indices)), [X.columns[i] for i in indices])\n",
    "plt.xlabel('Relative Importance')\n",
    "plt.show()"
   ]
  },
  {
   "cell_type": "markdown",
   "id": "15cbdb5f-d89a-42f6-b9fb-1b9b2fba1430",
   "metadata": {},
   "source": [
    "After adding in the lyrics related features, artists popularity remains the most important feature. But now instead of acousticness, lyric with positive sentiment is taking the second spot. Here, duration of a track rounds up the top 5 ranking and is deemed to be more important than danceability."
   ]
  },
  {
   "cell_type": "markdown",
   "id": "a62769f7-8be0-49d6-a027-6c2c60d2caa2",
   "metadata": {},
   "source": [
    "## Applying under and over sampling simultaneously \n",
    "\n",
    "In actual real world ranking, there will not be an equal number of hits and non-hits. Hence the Random Under Sampler (RUS) class is used to randomly under sample the majority class [17]."
   ]
  },
  {
   "cell_type": "code",
   "execution_count": 14,
   "id": "86f87d17-54dd-48dd-be6f-10703bcdcd2e",
   "metadata": {},
   "outputs": [],
   "source": [
    "X = df.drop(['rank', 'artist', 'song', 'hit', 'year', 'genre', 'album','genre_split', \n",
    "             'lyrics', 'tokens', 'hit', 'artist_encoded'], axis=1)\n",
    "y = df[\"hit\"]\n",
    "\n",
    "# Train-test split\n",
    "X_train, X_test, y_train, y_test = train_test_split(X, y, test_size=0.2, shuffle=True, \n",
    "                                                    stratify=y, random_state=42) \n",
    "\n",
    "# Apply SMOTE with a sampling strategy to oversample the minority class \n",
    "# so it represents 55% of the total\n",
    "# k_neighbors argument to define the number of neighbours to use when creating the data\n",
    "sm = SMOTE(random_state=42, sampling_strategy=0.55, k_neighbors=4)\n",
    "X_train_smote, y_train_smote = sm.fit_resample(X_train, y_train)"
   ]
  },
  {
   "cell_type": "code",
   "execution_count": 1,
   "id": "582b85da-f67e-4d9b-b984-33468cf60bb3",
   "metadata": {},
   "outputs": [],
   "source": [
    "# Initial shape\n",
    "y_train.shape"
   ]
  },
  {
   "cell_type": "code",
   "execution_count": 19,
   "id": "aefcfb11-ac7f-4ef6-85d9-5435a15f27c1",
   "metadata": {},
   "outputs": [
    {
     "data": {
      "text/plain": [
       "0    2105\n",
       "1     239\n",
       "Name: hit, dtype: int64"
      ]
     },
     "execution_count": 19,
     "metadata": {},
     "output_type": "execute_result"
    }
   ],
   "source": [
    "# Initial count of negatives and positives\n",
    "y_train.value_counts()"
   ]
  },
  {
   "cell_type": "code",
   "execution_count": 20,
   "id": "7016c46e-872a-4862-bbfa-8c643777fa54",
   "metadata": {},
   "outputs": [
    {
     "data": {
      "text/plain": [
       "0    2105\n",
       "1    1157\n",
       "Name: hit, dtype: int64"
      ]
     },
     "execution_count": 20,
     "metadata": {},
     "output_type": "execute_result"
    }
   ],
   "source": [
    "# Checking the value count of positives and negatives\n",
    "y_train_smote.value_counts()"
   ]
  },
  {
   "cell_type": "code",
   "execution_count": 15,
   "id": "65d27d42-05b2-4332-818f-e26496fefdc1",
   "metadata": {},
   "outputs": [],
   "source": [
    "# Apply under sampling to the over sampled data with a sampling strategy\n",
    "# such that the majority exceeds the minority by 55%\n",
    "rus = RandomUnderSampler(sampling_strategy=0.55, random_state=42)\n",
    "X_train_final, y_train_final = rus.fit_resample(X_train_smote, y_train_smote)"
   ]
  },
  {
   "cell_type": "code",
   "execution_count": 22,
   "id": "ce1c09f3-71bd-4827-93d4-6b054f0d8081",
   "metadata": {},
   "outputs": [
    {
     "data": {
      "text/plain": [
       "0    2103\n",
       "1    1157\n",
       "Name: hit, dtype: int64"
      ]
     },
     "execution_count": 22,
     "metadata": {},
     "output_type": "execute_result"
    }
   ],
   "source": [
    "y_train_final.value_counts()"
   ]
  },
  {
   "cell_type": "markdown",
   "id": "a631a8a7-6e51-4eee-9719-48b61a2d9569",
   "metadata": {},
   "source": [
    "After trying some different combinations, the positive samples (or hit) make up about 35% while negative samples around 65%. This proportion is not as severely imbalanced as the inital counts, neither is it ideally euqally balanced."
   ]
  },
  {
   "cell_type": "code",
   "execution_count": 16,
   "id": "29107c27-0640-469c-a370-58b986279943",
   "metadata": {},
   "outputs": [
    {
     "data": {
      "text/html": [
       "<div>\n",
       "<style scoped>\n",
       "    .dataframe tbody tr th:only-of-type {\n",
       "        vertical-align: middle;\n",
       "    }\n",
       "\n",
       "    .dataframe tbody tr th {\n",
       "        vertical-align: top;\n",
       "    }\n",
       "\n",
       "    .dataframe thead th {\n",
       "        text-align: right;\n",
       "    }\n",
       "</style>\n",
       "<table border=\"1\" class=\"dataframe\">\n",
       "  <thead>\n",
       "    <tr style=\"text-align: right;\">\n",
       "      <th></th>\n",
       "      <th>model</th>\n",
       "      <th>tp</th>\n",
       "      <th>tn</th>\n",
       "      <th>fp</th>\n",
       "      <th>fn</th>\n",
       "      <th>correct</th>\n",
       "      <th>incorrect</th>\n",
       "      <th>accuracy</th>\n",
       "      <th>precision</th>\n",
       "      <th>recall</th>\n",
       "      <th>f1</th>\n",
       "      <th>roc_auc</th>\n",
       "      <th>avg_pre</th>\n",
       "    </tr>\n",
       "  </thead>\n",
       "  <tbody>\n",
       "    <tr>\n",
       "      <th>0</th>\n",
       "      <td>Tree with SMOTE</td>\n",
       "      <td>26</td>\n",
       "      <td>427</td>\n",
       "      <td>100</td>\n",
       "      <td>34</td>\n",
       "      <td>453</td>\n",
       "      <td>134</td>\n",
       "      <td>0.772</td>\n",
       "      <td>0.206</td>\n",
       "      <td>0.433</td>\n",
       "      <td>0.28</td>\n",
       "      <td>0.622</td>\n",
       "      <td>0.147</td>\n",
       "    </tr>\n",
       "    <tr>\n",
       "      <th>1</th>\n",
       "      <td>First Random Forest with SMOTE</td>\n",
       "      <td>8</td>\n",
       "      <td>480</td>\n",
       "      <td>47</td>\n",
       "      <td>52</td>\n",
       "      <td>488</td>\n",
       "      <td>99</td>\n",
       "      <td>0.831346</td>\n",
       "      <td>0.145455</td>\n",
       "      <td>0.133333</td>\n",
       "      <td>0.13913</td>\n",
       "      <td>0.522075</td>\n",
       "      <td>0.108</td>\n",
       "    </tr>\n",
       "    <tr>\n",
       "      <th>2</th>\n",
       "      <td>Random Forest with lyrical features, SMOTE</td>\n",
       "      <td>4</td>\n",
       "      <td>495</td>\n",
       "      <td>32</td>\n",
       "      <td>56</td>\n",
       "      <td>499</td>\n",
       "      <td>88</td>\n",
       "      <td>0.850085</td>\n",
       "      <td>0.111111</td>\n",
       "      <td>0.066667</td>\n",
       "      <td>0.083333</td>\n",
       "      <td>0.502973</td>\n",
       "      <td>0.103</td>\n",
       "    </tr>\n",
       "    <tr>\n",
       "      <th>3</th>\n",
       "      <td>Random Forest with lyrical features, SMOTE/RUS</td>\n",
       "      <td>5</td>\n",
       "      <td>507</td>\n",
       "      <td>20</td>\n",
       "      <td>55</td>\n",
       "      <td>512</td>\n",
       "      <td>75</td>\n",
       "      <td>0.872232</td>\n",
       "      <td>0.2</td>\n",
       "      <td>0.083333</td>\n",
       "      <td>0.117647</td>\n",
       "      <td>0.522691</td>\n",
       "      <td>0.11</td>\n",
       "    </tr>\n",
       "  </tbody>\n",
       "</table>\n",
       "</div>"
      ],
      "text/plain": [
       "                                            model  tp   tn   fp  fn correct  \\\n",
       "0                                 Tree with SMOTE  26  427  100  34     453   \n",
       "1                  First Random Forest with SMOTE   8  480   47  52     488   \n",
       "2      Random Forest with lyrical features, SMOTE   4  495   32  56     499   \n",
       "3  Random Forest with lyrical features, SMOTE/RUS   5  507   20  55     512   \n",
       "\n",
       "  incorrect  accuracy precision    recall        f1   roc_auc avg_pre  \n",
       "0       134     0.772     0.206     0.433      0.28     0.622   0.147  \n",
       "1        99  0.831346  0.145455  0.133333   0.13913  0.522075   0.108  \n",
       "2        88  0.850085  0.111111  0.066667  0.083333  0.502973   0.103  \n",
       "3        75  0.872232       0.2  0.083333  0.117647  0.522691    0.11  "
      ]
     },
     "execution_count": 16,
     "metadata": {},
     "output_type": "execute_result"
    }
   ],
   "source": [
    "# Using back the same forest with 100 trees but fit with SMOTE/RUS training data\n",
    "rf3= RandomForestClassifier(n_estimators=100, random_state=42)\n",
    "rf3.fit(X_train_final, y_train_final)\n",
    "y_pred_rf3 = rf3.predict(X_test)\n",
    "\n",
    "# Evaluation metrics calculation\n",
    "tn, fp, fn, tp = confusion_matrix(y_test, y_pred_rf3).ravel()\n",
    "accuracy = accuracy_score(y_test, y_pred_rf3)\n",
    "precision = precision_score(y_test, y_pred_rf3)\n",
    "recall = recall_score(y_test, y_pred_rf3)\n",
    "f1 = f1_score(y_test, y_pred_rf3)\n",
    "roc_auc = roc_auc_score(y_test, y_pred_rf3)\n",
    "avg_precision = average_precision_score(y_test, y_pred_rf3)\n",
    "\n",
    "\n",
    "# Store the metrics in a dictionary\n",
    "row = {'model': 'Random Forest with lyrical features, SMOTE/RUS',\n",
    "        'tp': tp,\n",
    "        'tn': tn,\n",
    "        'fp': fp,\n",
    "        'fn': fn,\n",
    "        'correct': tp+tn,\n",
    "        'incorrect': fp+fn,\n",
    "        'accuracy': accuracy,\n",
    "        'precision': precision,\n",
    "        'recall': recall,\n",
    "        'f1': f1,\n",
    "        'roc_auc': roc_auc,\n",
    "        'avg_pre': round(avg_precision,3),       \n",
    "    }\n",
    "\n",
    "# Add the dictionary to the dataframe\n",
    "df_result = df_result.append(row, ignore_index=True)\n",
    "# Display\n",
    "df_result.head()"
   ]
  },
  {
   "cell_type": "markdown",
   "id": "6f784cbd-c663-43b8-ac1c-66eeb870b1dd",
   "metadata": {},
   "source": [
    "There is some slight improvement- the number of both types of classification errors have reduced, and the model is better at identifying positive samples and idetnifying such samples correctly as indicated by an increase in recall and precision respectively. "
   ]
  },
  {
   "cell_type": "markdown",
   "id": "05d5b683-5a44-4893-afbf-352f771e3a9b",
   "metadata": {},
   "source": [
    "## Hyperparameter tuning\n",
    "\n",
    "The tuning strategy for random forest is to first randomly sample from a grid of hyperparameters, which are then optimized by cross validation Randomnized Search [18]. After the hyperparameters have been narrowed down, Grid Search will be used to try out all the parameter values [18]. This is done to work around the computational time and resources needed.\n",
    "\n",
    "The hyperparameters tuned are mostly to the trees and the way they split such as the number of trees, their depth, the leaf size. The data has not been normalised thus far as random forest is a tree-based model instead of a distance based model (like the KNN; the data will be normalised at that section). It works by partitioning the data to make predictions, hence normalisation will not have much affect on it [19, 20]."
   ]
  },
  {
   "cell_type": "markdown",
   "id": "83dfd726-e939-4cf4-ac3b-e018160325a8",
   "metadata": {},
   "source": [
    "### Randomized Search"
   ]
  },
  {
   "cell_type": "code",
   "execution_count": 212,
   "id": "8a928f28-3838-47a1-ac2f-fe5b3cabc90c",
   "metadata": {},
   "outputs": [],
   "source": [
    "from pprint import pprint\n",
    "from sklearn.model_selection import RandomizedSearchCV\n",
    "\n",
    "# Number of trees in random forest\n",
    "n_estimators = [int(x) for x in np.linspace(start = 50, stop = 200, num = 11)]\n",
    "# Number of features to consider at every split\n",
    "max_features = ['auto', 'sqrt']\n",
    "# Maximum number of levels in tree\n",
    "max_depth = [int(x) for x in np.linspace(10, 100, num = 10)]\n",
    "max_depth.append(None)\n",
    "# Minimum number of samples required to split a node\n",
    "min_samples_split = [2, 5, 10]\n",
    "# Minimum number of samples required at each leaf node\n",
    "min_samples_leaf = [int(x) for x in np.linspace(10, 100, num = 10)]\n",
    "# Method of selecting samples for training each tree\n",
    "bootstrap = [True, False]\n",
    "# Create the random grid\n",
    "random_grid = {'n_estimators': n_estimators,\n",
    "               'max_features': max_features,\n",
    "               'max_depth': max_depth,\n",
    "               'min_samples_split': min_samples_split,\n",
    "               'min_samples_leaf': min_samples_leaf,\n",
    "               'bootstrap': bootstrap}"
   ]
  },
  {
   "cell_type": "code",
   "execution_count": 213,
   "id": "ee0b8942-25bb-4d7a-b90f-2c689a0bfbb1",
   "metadata": {},
   "outputs": [
    {
     "name": "stdout",
     "output_type": "stream",
     "text": [
      "{'bootstrap': [True, False],\n",
      " 'max_depth': [10, 20, 30, 40, 50, 60, 70, 80, 90, 100, None],\n",
      " 'max_features': ['auto', 'sqrt'],\n",
      " 'min_samples_leaf': [10, 20, 30, 40, 50, 60, 70, 80, 90, 100],\n",
      " 'min_samples_split': [2, 5, 10],\n",
      " 'n_estimators': [50, 65, 80, 95, 110, 125, 140, 155, 170, 185, 200]}\n"
     ]
    }
   ],
   "source": [
    "# Checking the parameters are as expected\n",
    "pprint(random_grid)"
   ]
  },
  {
   "cell_type": "code",
   "execution_count": null,
   "id": "d2616ea2-440e-49bc-bf7f-87b3c4a7cba4",
   "metadata": {},
   "outputs": [],
   "source": [
    "# Use the random_grid to search for best hyperparameters\n",
    "# First create the base model to tune\n",
    "rf = RandomForestClassifier()\n",
    "# Random search of parameters, using 5 fold cross validation, \n",
    "# search across 100 different combinations, and use all available cores\n",
    "rf_random = RandomizedSearchCV(estimator = rf, param_distributions = random_grid, \n",
    "                               n_iter = 100, cv = 5, verbose=2, random_state=42, n_jobs = -1)\n",
    "# Fit the random search model\n",
    "rf_random.fit(X_train_final, y_train_final)\n",
    "\n",
    "# Output will be cleared to maintain notebook's length. But some will be recorded\n",
    "# in the experiment log"
   ]
  },
  {
   "cell_type": "code",
   "execution_count": 215,
   "id": "5dd5ec87-2cbd-4e12-892e-3ddce95a5cd2",
   "metadata": {},
   "outputs": [
    {
     "data": {
      "text/plain": [
       "{'n_estimators': 65,\n",
       " 'min_samples_split': 10,\n",
       " 'min_samples_leaf': 10,\n",
       " 'max_features': 'auto',\n",
       " 'max_depth': 60,\n",
       " 'bootstrap': False}"
      ]
     },
     "execution_count": 215,
     "metadata": {},
     "output_type": "execute_result"
    }
   ],
   "source": [
    "# Out come of fitting 5 folds for each of 100 candidates, totalling 500 fits\n",
    "rf_random.best_params_"
   ]
  },
  {
   "cell_type": "markdown",
   "id": "e6888454-ed8e-4755-a8f1-d29e82bf03e3",
   "metadata": {},
   "source": [
    "### Randomized search evaluation"
   ]
  },
  {
   "cell_type": "code",
   "execution_count": 17,
   "id": "785105ec-a0bb-4c33-bb3c-feb88fc17cb6",
   "metadata": {},
   "outputs": [
    {
     "data": {
      "text/html": [
       "<div>\n",
       "<style scoped>\n",
       "    .dataframe tbody tr th:only-of-type {\n",
       "        vertical-align: middle;\n",
       "    }\n",
       "\n",
       "    .dataframe tbody tr th {\n",
       "        vertical-align: top;\n",
       "    }\n",
       "\n",
       "    .dataframe thead th {\n",
       "        text-align: right;\n",
       "    }\n",
       "</style>\n",
       "<table border=\"1\" class=\"dataframe\">\n",
       "  <thead>\n",
       "    <tr style=\"text-align: right;\">\n",
       "      <th></th>\n",
       "      <th>model</th>\n",
       "      <th>tp</th>\n",
       "      <th>tn</th>\n",
       "      <th>fp</th>\n",
       "      <th>fn</th>\n",
       "      <th>correct</th>\n",
       "      <th>incorrect</th>\n",
       "      <th>accuracy</th>\n",
       "      <th>precision</th>\n",
       "      <th>recall</th>\n",
       "      <th>f1</th>\n",
       "      <th>roc_auc</th>\n",
       "      <th>avg_pre</th>\n",
       "    </tr>\n",
       "  </thead>\n",
       "  <tbody>\n",
       "    <tr>\n",
       "      <th>0</th>\n",
       "      <td>Tree with SMOTE</td>\n",
       "      <td>26</td>\n",
       "      <td>427</td>\n",
       "      <td>100</td>\n",
       "      <td>34</td>\n",
       "      <td>453</td>\n",
       "      <td>134</td>\n",
       "      <td>0.772</td>\n",
       "      <td>0.206</td>\n",
       "      <td>0.433</td>\n",
       "      <td>0.28</td>\n",
       "      <td>0.622</td>\n",
       "      <td>0.147</td>\n",
       "    </tr>\n",
       "    <tr>\n",
       "      <th>1</th>\n",
       "      <td>First Random Forest with SMOTE</td>\n",
       "      <td>8</td>\n",
       "      <td>480</td>\n",
       "      <td>47</td>\n",
       "      <td>52</td>\n",
       "      <td>488</td>\n",
       "      <td>99</td>\n",
       "      <td>0.831346</td>\n",
       "      <td>0.145455</td>\n",
       "      <td>0.133333</td>\n",
       "      <td>0.13913</td>\n",
       "      <td>0.522075</td>\n",
       "      <td>0.108</td>\n",
       "    </tr>\n",
       "    <tr>\n",
       "      <th>2</th>\n",
       "      <td>Random Forest with lyrical features, SMOTE</td>\n",
       "      <td>4</td>\n",
       "      <td>495</td>\n",
       "      <td>32</td>\n",
       "      <td>56</td>\n",
       "      <td>499</td>\n",
       "      <td>88</td>\n",
       "      <td>0.850085</td>\n",
       "      <td>0.111111</td>\n",
       "      <td>0.066667</td>\n",
       "      <td>0.083333</td>\n",
       "      <td>0.502973</td>\n",
       "      <td>0.103</td>\n",
       "    </tr>\n",
       "    <tr>\n",
       "      <th>3</th>\n",
       "      <td>Random Forest with lyrical features, SMOTE/RUS</td>\n",
       "      <td>5</td>\n",
       "      <td>507</td>\n",
       "      <td>20</td>\n",
       "      <td>55</td>\n",
       "      <td>512</td>\n",
       "      <td>75</td>\n",
       "      <td>0.872232</td>\n",
       "      <td>0.2</td>\n",
       "      <td>0.083333</td>\n",
       "      <td>0.117647</td>\n",
       "      <td>0.522691</td>\n",
       "      <td>0.11</td>\n",
       "    </tr>\n",
       "    <tr>\n",
       "      <th>4</th>\n",
       "      <td>SMOTE/RUS RF, Random Search</td>\n",
       "      <td>4</td>\n",
       "      <td>500</td>\n",
       "      <td>27</td>\n",
       "      <td>56</td>\n",
       "      <td>504</td>\n",
       "      <td>83</td>\n",
       "      <td>0.858603</td>\n",
       "      <td>0.129032</td>\n",
       "      <td>0.066667</td>\n",
       "      <td>0.087912</td>\n",
       "      <td>0.507717</td>\n",
       "      <td>0.104</td>\n",
       "    </tr>\n",
       "  </tbody>\n",
       "</table>\n",
       "</div>"
      ],
      "text/plain": [
       "                                            model  tp   tn   fp  fn correct  \\\n",
       "0                                 Tree with SMOTE  26  427  100  34     453   \n",
       "1                  First Random Forest with SMOTE   8  480   47  52     488   \n",
       "2      Random Forest with lyrical features, SMOTE   4  495   32  56     499   \n",
       "3  Random Forest with lyrical features, SMOTE/RUS   5  507   20  55     512   \n",
       "4                     SMOTE/RUS RF, Random Search   4  500   27  56     504   \n",
       "\n",
       "  incorrect  accuracy precision    recall        f1   roc_auc avg_pre  \n",
       "0       134     0.772     0.206     0.433      0.28     0.622   0.147  \n",
       "1        99  0.831346  0.145455  0.133333   0.13913  0.522075   0.108  \n",
       "2        88  0.850085  0.111111  0.066667  0.083333  0.502973   0.103  \n",
       "3        75  0.872232       0.2  0.083333  0.117647  0.522691    0.11  \n",
       "4        83  0.858603  0.129032  0.066667  0.087912  0.507717   0.104  "
      ]
     },
     "execution_count": 17,
     "metadata": {},
     "output_type": "execute_result"
    }
   ],
   "source": [
    "# With the tuned hyperparameters\n",
    "rf_rand= RandomForestClassifier(n_estimators=65, min_samples_split=10, min_samples_leaf=10, \n",
    "                           max_features='sqrt', max_depth=60, bootstrap=False, random_state=42)\n",
    "rf_rand.fit(X_train_final, y_train_final)\n",
    "y_pred_rand = rf_rand.predict(X_test)\n",
    "\n",
    "# Evaluation metrics calculation\n",
    "tn, fp, fn, tp = confusion_matrix(y_test, y_pred_rand).ravel()\n",
    "accuracy = accuracy_score(y_test, y_pred_rand)\n",
    "precision = precision_score(y_test, y_pred_rand)\n",
    "recall = recall_score(y_test, y_pred_rand)\n",
    "f1 = f1_score(y_test, y_pred_rand)\n",
    "roc_auc = roc_auc_score(y_test, y_pred_rand)\n",
    "avg_precision = average_precision_score(y_test, y_pred_rand)\n",
    "\n",
    "# From here on out RF = random forest to keep the length of model name in check\n",
    "# Store the metrics in a dictionary\n",
    "row = {'model': 'SMOTE/RUS RF, Random Search',\n",
    "        'tp': tp,\n",
    "        'tn': tn,\n",
    "        'fp': fp,\n",
    "        'fn': fn,\n",
    "        'correct': tp+tn,\n",
    "        'incorrect': fp+fn,\n",
    "        'accuracy': accuracy,\n",
    "        'precision': precision,\n",
    "        'recall': recall,\n",
    "        'f1': f1,\n",
    "        'roc_auc': roc_auc,\n",
    "        'avg_pre': round(avg_precision,3),       \n",
    "    }\n",
    "# Adding the dictionary to the dataframe\n",
    "df_result = df_result.append(row, ignore_index=True)\n",
    "# Display\n",
    "df_result"
   ]
  },
  {
   "cell_type": "markdown",
   "id": "511ce243-e887-438d-86a2-0e4da4287d9e",
   "metadata": {},
   "source": [
    "The evaluation metrics dipped instead of improving and there are more FP errors too. Next, Grid Search will be used to see if narrowing down the range will see improvement:"
   ]
  },
  {
   "cell_type": "markdown",
   "id": "009826d9-d23f-4c86-9c0f-8932c7dfc8f2",
   "metadata": {},
   "source": [
    "### Grid Search CV"
   ]
  },
  {
   "cell_type": "code",
   "execution_count": 19,
   "id": "53191b46-061e-457e-b7ac-c79d15167f6a",
   "metadata": {},
   "outputs": [],
   "source": [
    "from sklearn.model_selection import GridSearchCV\n",
    "# Create the parameter grid based on the results of random search \n",
    "param_grid = {'bootstrap': [False],\n",
    "              'max_depth': [55, 60, 65, 70, 80],\n",
    "              'max_features': ['auto', 'sqrt'],\n",
    "              'min_samples_leaf': [10, 20, 30],\n",
    "              'min_samples_split': [2, 4, 6, 8, 12],\n",
    "              'n_estimators': [55, 60, 62, 64, 66, 68, 70]}\n",
    "\n",
    "# Create a base model\n",
    "rf = RandomForestClassifier(random_state=42)\n",
    "# Instantiate the grid search model\n",
    "grid_search = GridSearchCV(estimator = rf, param_grid = param_grid, \n",
    "                          cv = 5, n_jobs = -1, verbose = 2)"
   ]
  },
  {
   "cell_type": "code",
   "execution_count": null,
   "id": "c48b4c40-b251-4738-9492-1cf1ffadc2a9",
   "metadata": {},
   "outputs": [],
   "source": [
    "grid_search.fit(X_train_final, y_train_final)\n",
    "grid_search.best_params_\n",
    "\n",
    "# Output will be cleared for length but some will be recored in experiment log"
   ]
  },
  {
   "cell_type": "code",
   "execution_count": 22,
   "id": "16c3897b-47d5-4a41-bbbf-e76be459320f",
   "metadata": {},
   "outputs": [
    {
     "data": {
      "text/plain": [
       "{'bootstrap': False,\n",
       " 'max_depth': 55,\n",
       " 'max_features': 'auto',\n",
       " 'min_samples_leaf': 10,\n",
       " 'min_samples_split': 2,\n",
       " 'n_estimators': 70}"
      ]
     },
     "execution_count": 22,
     "metadata": {},
     "output_type": "execute_result"
    }
   ],
   "source": [
    "grid_search.best_params_"
   ]
  },
  {
   "cell_type": "code",
   "execution_count": 18,
   "id": "654ec6c6-8f39-4d9b-a889-42d40abca5f5",
   "metadata": {},
   "outputs": [
    {
     "data": {
      "text/html": [
       "<div>\n",
       "<style scoped>\n",
       "    .dataframe tbody tr th:only-of-type {\n",
       "        vertical-align: middle;\n",
       "    }\n",
       "\n",
       "    .dataframe tbody tr th {\n",
       "        vertical-align: top;\n",
       "    }\n",
       "\n",
       "    .dataframe thead th {\n",
       "        text-align: right;\n",
       "    }\n",
       "</style>\n",
       "<table border=\"1\" class=\"dataframe\">\n",
       "  <thead>\n",
       "    <tr style=\"text-align: right;\">\n",
       "      <th></th>\n",
       "      <th>model</th>\n",
       "      <th>tp</th>\n",
       "      <th>tn</th>\n",
       "      <th>fp</th>\n",
       "      <th>fn</th>\n",
       "      <th>correct</th>\n",
       "      <th>incorrect</th>\n",
       "      <th>accuracy</th>\n",
       "      <th>precision</th>\n",
       "      <th>recall</th>\n",
       "      <th>f1</th>\n",
       "      <th>roc_auc</th>\n",
       "      <th>avg_pre</th>\n",
       "    </tr>\n",
       "  </thead>\n",
       "  <tbody>\n",
       "    <tr>\n",
       "      <th>0</th>\n",
       "      <td>Tree with SMOTE</td>\n",
       "      <td>26</td>\n",
       "      <td>427</td>\n",
       "      <td>100</td>\n",
       "      <td>34</td>\n",
       "      <td>453</td>\n",
       "      <td>134</td>\n",
       "      <td>0.772</td>\n",
       "      <td>0.206</td>\n",
       "      <td>0.433</td>\n",
       "      <td>0.28</td>\n",
       "      <td>0.622</td>\n",
       "      <td>0.147</td>\n",
       "    </tr>\n",
       "    <tr>\n",
       "      <th>1</th>\n",
       "      <td>First Random Forest with SMOTE</td>\n",
       "      <td>8</td>\n",
       "      <td>480</td>\n",
       "      <td>47</td>\n",
       "      <td>52</td>\n",
       "      <td>488</td>\n",
       "      <td>99</td>\n",
       "      <td>0.831346</td>\n",
       "      <td>0.145455</td>\n",
       "      <td>0.133333</td>\n",
       "      <td>0.13913</td>\n",
       "      <td>0.522075</td>\n",
       "      <td>0.108</td>\n",
       "    </tr>\n",
       "    <tr>\n",
       "      <th>2</th>\n",
       "      <td>Random Forest with lyrical features, SMOTE</td>\n",
       "      <td>4</td>\n",
       "      <td>495</td>\n",
       "      <td>32</td>\n",
       "      <td>56</td>\n",
       "      <td>499</td>\n",
       "      <td>88</td>\n",
       "      <td>0.850085</td>\n",
       "      <td>0.111111</td>\n",
       "      <td>0.066667</td>\n",
       "      <td>0.083333</td>\n",
       "      <td>0.502973</td>\n",
       "      <td>0.103</td>\n",
       "    </tr>\n",
       "    <tr>\n",
       "      <th>3</th>\n",
       "      <td>Random Forest with lyrical features, SMOTE/RUS</td>\n",
       "      <td>5</td>\n",
       "      <td>507</td>\n",
       "      <td>20</td>\n",
       "      <td>55</td>\n",
       "      <td>512</td>\n",
       "      <td>75</td>\n",
       "      <td>0.872232</td>\n",
       "      <td>0.2</td>\n",
       "      <td>0.083333</td>\n",
       "      <td>0.117647</td>\n",
       "      <td>0.522691</td>\n",
       "      <td>0.11</td>\n",
       "    </tr>\n",
       "    <tr>\n",
       "      <th>4</th>\n",
       "      <td>SMOTE/RUS RF, Random Search</td>\n",
       "      <td>4</td>\n",
       "      <td>500</td>\n",
       "      <td>27</td>\n",
       "      <td>56</td>\n",
       "      <td>504</td>\n",
       "      <td>83</td>\n",
       "      <td>0.858603</td>\n",
       "      <td>0.129032</td>\n",
       "      <td>0.066667</td>\n",
       "      <td>0.087912</td>\n",
       "      <td>0.507717</td>\n",
       "      <td>0.104</td>\n",
       "    </tr>\n",
       "    <tr>\n",
       "      <th>5</th>\n",
       "      <td>SMOTE/RUS RF, Grid Search</td>\n",
       "      <td>4</td>\n",
       "      <td>498</td>\n",
       "      <td>29</td>\n",
       "      <td>56</td>\n",
       "      <td>502</td>\n",
       "      <td>85</td>\n",
       "      <td>0.855196</td>\n",
       "      <td>0.121212</td>\n",
       "      <td>0.066667</td>\n",
       "      <td>0.086022</td>\n",
       "      <td>0.505819</td>\n",
       "      <td>0.103</td>\n",
       "    </tr>\n",
       "  </tbody>\n",
       "</table>\n",
       "</div>"
      ],
      "text/plain": [
       "                                            model  tp   tn   fp  fn correct  \\\n",
       "0                                 Tree with SMOTE  26  427  100  34     453   \n",
       "1                  First Random Forest with SMOTE   8  480   47  52     488   \n",
       "2      Random Forest with lyrical features, SMOTE   4  495   32  56     499   \n",
       "3  Random Forest with lyrical features, SMOTE/RUS   5  507   20  55     512   \n",
       "4                     SMOTE/RUS RF, Random Search   4  500   27  56     504   \n",
       "5                       SMOTE/RUS RF, Grid Search   4  498   29  56     502   \n",
       "\n",
       "  incorrect  accuracy precision    recall        f1   roc_auc avg_pre  \n",
       "0       134     0.772     0.206     0.433      0.28     0.622   0.147  \n",
       "1        99  0.831346  0.145455  0.133333   0.13913  0.522075   0.108  \n",
       "2        88  0.850085  0.111111  0.066667  0.083333  0.502973   0.103  \n",
       "3        75  0.872232       0.2  0.083333  0.117647  0.522691    0.11  \n",
       "4        83  0.858603  0.129032  0.066667  0.087912  0.507717   0.104  \n",
       "5        85  0.855196  0.121212  0.066667  0.086022  0.505819   0.103  "
      ]
     },
     "execution_count": 18,
     "metadata": {},
     "output_type": "execute_result"
    }
   ],
   "source": [
    "# With Grid Search's hyperparameters\n",
    "rf_grid= RandomForestClassifier(n_estimators=70, min_samples_split=2, min_samples_leaf=10, \n",
    "                           max_features='auto', max_depth=55, bootstrap=False, random_state=42)\n",
    "rf_grid.fit(X_train_final, y_train_final)\n",
    "y_pred_grid = rf_grid.predict(X_test)\n",
    "\n",
    "# Calculation of evaluation metrics\n",
    "tn, fp, fn, tp = confusion_matrix(y_test, y_pred_grid).ravel()\n",
    "accuracy = accuracy_score(y_test, y_pred_grid)\n",
    "precision = precision_score(y_test, y_pred_grid)\n",
    "recall = recall_score(y_test, y_pred_grid)\n",
    "f1 = f1_score(y_test, y_pred_grid)\n",
    "roc_auc = roc_auc_score(y_test, y_pred_grid)\n",
    "avg_precision = average_precision_score(y_test, y_pred_grid)\n",
    "\n",
    "# RF = random forest \n",
    "# Storing the metrics into a dictionary\n",
    "row = {'model': 'SMOTE/RUS RF, Grid Search',\n",
    "        'tp': tp,\n",
    "        'tn': tn,\n",
    "        'fp': fp,\n",
    "        'fn': fn,\n",
    "        'correct': tp+tn,\n",
    "        'incorrect': fp+fn,\n",
    "        'accuracy': accuracy,\n",
    "        'precision': precision,\n",
    "        'recall': recall,\n",
    "        'f1': f1,\n",
    "        'roc_auc': roc_auc,\n",
    "        'avg_pre': round(avg_precision,3),       \n",
    "    }\n",
    "\n",
    "# Adding the dictionary to the dataframe\n",
    "df_result = df_result.append(row, ignore_index=True)\n",
    "# Display\n",
    "df_result"
   ]
  },
  {
   "cell_type": "markdown",
   "id": "ed9f53b7-1c67-4c3c-bef6-9d74c109ff6c",
   "metadata": {},
   "source": [
    "There is no improvement after Grid Search. Based on the evaluation metrics and the number of classification errors, it appears that the Random Forest classifier built with the lyrics and related data added in performed the best (scoring the highest over all, and with fewest mistakes made)  and will be considered as the final version for the random forest classifier."
   ]
  },
  {
   "cell_type": "markdown",
   "id": "91431f69-0671-4ecb-945c-81fab44f0e2d",
   "metadata": {},
   "source": [
    "## AUC Comparisons"
   ]
  },
  {
   "cell_type": "code",
   "execution_count": 29,
   "id": "d7a7dd75-9c43-4829-b8f2-2fb9e43517ca",
   "metadata": {},
   "outputs": [
    {
     "data": {
      "image/png": "[encoded data removed]",
      "text/plain": [
       "<Figure size 432x288 with 1 Axes>"
      ]
     },
     "metadata": {
      "needs_background": "light"
     },
     "output_type": "display_data"
    }
   ],
   "source": [
    "# Plotting dataset with lyrics added in Random Forest's ROC curve\n",
    "y_pred_prob1 = rf2.predict_proba(X_test)[:,1]\n",
    "fpr1 , tpr1, thresholds1 = roc_curve(y_test, y_pred_prob1)\n",
    "\n",
    "# Plotting Randomized Search Random Forest's ROC curve\n",
    "y_pred_prob2 = rf_rand.predict_proba(X_test)[:,1]\n",
    "fpr2 , tpr2, thresholds2 = roc_curve(y_test, y_pred_prob2)\n",
    "\n",
    "# Plotting Grid Search Random Forest's ROC curve\n",
    "y_pred_prob3 = rf_grid.predict_proba(X_test)[:,1]\n",
    "fpr3 , tpr3, thresholds3 = roc_curve(y_test, y_pred_prob3)\n",
    "\n",
    "\n",
    "plt.plot([0, 1], [0, 1],\n",
    "         linestyle='--',\n",
    "         color='gray',\n",
    "         linewidth=2)\n",
    "\n",
    "plt.plot(fpr1, tpr1,\n",
    "        color= 'orange',\n",
    "        linestyle= '-.',\n",
    "        label= 'Lyrics RF')\n",
    "\n",
    "plt.plot(fpr2, tpr2,\n",
    "        color= 'red',\n",
    "        linestyle= '--',\n",
    "        label= 'Random Search RF')\n",
    "\n",
    "plt.plot(fpr3, tpr3,\n",
    "        color= 'purple',\n",
    "        linestyle= '-',\n",
    "        label= 'Grid Search RF')\n",
    "\n",
    "\n",
    "plt.legend(loc='lower right')\n",
    "plt.xlim([-0.1, 1.1])\n",
    "plt.ylim([-0.1, 1.1])\n",
    "plt.grid(alpha=0.5)\n",
    "plt.xlabel('False positive rate (FPR)')\n",
    "plt.ylabel('True positive rate (TPR)')\n",
    "\n",
    "\n",
    "#plt.savefig('figures/07_04', dpi=300)\n",
    "plt.show()"
   ]
  },
  {
   "cell_type": "markdown",
   "id": "db3a61e8-4f92-4bd7-ab7a-1813b5ac41a7",
   "metadata": {},
   "source": [
    "The ROC curves are all very close together. However, as the threshold decreases, lyrics RF are better at identifying the positive samples than the other two random forest classifiers as the True Positive Rate (or recall) is higher than the other 2 curves."
   ]
  },
  {
   "cell_type": "code",
   "execution_count": 30,
   "id": "cfa14dbb-21ad-45ae-8f53-2bf8785d703d",
   "metadata": {},
   "outputs": [
    {
     "data": {
      "text/plain": [
       "Text(0.5, 1.0, 'Precision-Recall curve')"
      ]
     },
     "execution_count": 30,
     "metadata": {},
     "output_type": "execute_result"
    },
    {
     "data": {
      "image/png": "[encoded data removed]",
      "text/plain": [
       "<Figure size 432x288 with 1 Axes>"
      ]
     },
     "metadata": {
      "needs_background": "light"
     },
     "output_type": "display_data"
    }
   ],
   "source": [
    "# Plotting precision-recall curves\n",
    "from sklearn.metrics import plot_precision_recall_curve\n",
    "plot_precision_recall_curve(rf2, X_test, y_test, ax = plt.gca(),name = \"Lyrics RF\")\n",
    "plot_precision_recall_curve(rf_rand, X_test, y_test, ax = plt.gca(),name = \"Random Search RF\")\n",
    "plot_precision_recall_curve(rf_grid, X_test, y_test, ax = plt.gca(),name = \"Grid Search RF\")\n",
    "\n",
    "plt.legend(loc='upper right')\n",
    "plt.title('Precision-Recall curve')"
   ]
  },
  {
   "cell_type": "markdown",
   "id": "40641378-03c0-4ebb-ba00-2e120760e75d",
   "metadata": {},
   "source": [
    "Looking at the Precision-Recall curves, there is a sharp drop in precision very early on, which could be possibly caused by the data balance. When recall is low, Random Search and Grid Search RF have higher precision. But as recall increases, lyrics RF start to perform better. "
   ]
  },
  {
   "cell_type": "code",
   "execution_count": 19,
   "id": "a49ddf67-92b1-4260-9a87-b24f11481ac3",
   "metadata": {},
   "outputs": [
    {
     "data": {
      "text/html": [
       "<div>\n",
       "<style scoped>\n",
       "    .dataframe tbody tr th:only-of-type {\n",
       "        vertical-align: middle;\n",
       "    }\n",
       "\n",
       "    .dataframe tbody tr th {\n",
       "        vertical-align: top;\n",
       "    }\n",
       "\n",
       "    .dataframe thead th {\n",
       "        text-align: right;\n",
       "    }\n",
       "</style>\n",
       "<table border=\"1\" class=\"dataframe\">\n",
       "  <thead>\n",
       "    <tr style=\"text-align: right;\">\n",
       "      <th></th>\n",
       "      <th>model</th>\n",
       "      <th>tp</th>\n",
       "      <th>tn</th>\n",
       "      <th>fp</th>\n",
       "      <th>fn</th>\n",
       "      <th>correct</th>\n",
       "      <th>incorrect</th>\n",
       "      <th>accuracy</th>\n",
       "      <th>precision</th>\n",
       "      <th>recall</th>\n",
       "      <th>f1</th>\n",
       "      <th>roc_auc</th>\n",
       "      <th>avg_pre</th>\n",
       "    </tr>\n",
       "  </thead>\n",
       "  <tbody>\n",
       "    <tr>\n",
       "      <th>0</th>\n",
       "      <td>Tree with SMOTE</td>\n",
       "      <td>26</td>\n",
       "      <td>427</td>\n",
       "      <td>100</td>\n",
       "      <td>34</td>\n",
       "      <td>453</td>\n",
       "      <td>134</td>\n",
       "      <td>0.772</td>\n",
       "      <td>0.206</td>\n",
       "      <td>0.433</td>\n",
       "      <td>0.28</td>\n",
       "      <td>0.622</td>\n",
       "      <td>0.147</td>\n",
       "    </tr>\n",
       "    <tr>\n",
       "      <th>1</th>\n",
       "      <td>First Random Forest with SMOTE</td>\n",
       "      <td>8</td>\n",
       "      <td>480</td>\n",
       "      <td>47</td>\n",
       "      <td>52</td>\n",
       "      <td>488</td>\n",
       "      <td>99</td>\n",
       "      <td>0.831346</td>\n",
       "      <td>0.145455</td>\n",
       "      <td>0.133333</td>\n",
       "      <td>0.13913</td>\n",
       "      <td>0.522075</td>\n",
       "      <td>0.108</td>\n",
       "    </tr>\n",
       "    <tr>\n",
       "      <th>2</th>\n",
       "      <td>Random Forest with lyrical features, SMOTE</td>\n",
       "      <td>4</td>\n",
       "      <td>495</td>\n",
       "      <td>32</td>\n",
       "      <td>56</td>\n",
       "      <td>499</td>\n",
       "      <td>88</td>\n",
       "      <td>0.850085</td>\n",
       "      <td>0.111111</td>\n",
       "      <td>0.066667</td>\n",
       "      <td>0.083333</td>\n",
       "      <td>0.502973</td>\n",
       "      <td>0.103</td>\n",
       "    </tr>\n",
       "    <tr>\n",
       "      <th>3</th>\n",
       "      <td>Random Forest with lyrical features, SMOTE/RUS</td>\n",
       "      <td>5</td>\n",
       "      <td>507</td>\n",
       "      <td>20</td>\n",
       "      <td>55</td>\n",
       "      <td>512</td>\n",
       "      <td>75</td>\n",
       "      <td>0.872232</td>\n",
       "      <td>0.2</td>\n",
       "      <td>0.083333</td>\n",
       "      <td>0.117647</td>\n",
       "      <td>0.522691</td>\n",
       "      <td>0.11</td>\n",
       "    </tr>\n",
       "    <tr>\n",
       "      <th>4</th>\n",
       "      <td>SMOTE/RUS RF, Random Search</td>\n",
       "      <td>4</td>\n",
       "      <td>500</td>\n",
       "      <td>27</td>\n",
       "      <td>56</td>\n",
       "      <td>504</td>\n",
       "      <td>83</td>\n",
       "      <td>0.858603</td>\n",
       "      <td>0.129032</td>\n",
       "      <td>0.066667</td>\n",
       "      <td>0.087912</td>\n",
       "      <td>0.507717</td>\n",
       "      <td>0.104</td>\n",
       "    </tr>\n",
       "    <tr>\n",
       "      <th>5</th>\n",
       "      <td>SMOTE/RUS RF, Grid Search</td>\n",
       "      <td>4</td>\n",
       "      <td>498</td>\n",
       "      <td>29</td>\n",
       "      <td>56</td>\n",
       "      <td>502</td>\n",
       "      <td>85</td>\n",
       "      <td>0.855196</td>\n",
       "      <td>0.121212</td>\n",
       "      <td>0.066667</td>\n",
       "      <td>0.086022</td>\n",
       "      <td>0.505819</td>\n",
       "      <td>0.103</td>\n",
       "    </tr>\n",
       "  </tbody>\n",
       "</table>\n",
       "</div>"
      ],
      "text/plain": [
       "                                            model  tp   tn   fp  fn correct  \\\n",
       "0                                 Tree with SMOTE  26  427  100  34     453   \n",
       "1                  First Random Forest with SMOTE   8  480   47  52     488   \n",
       "2      Random Forest with lyrical features, SMOTE   4  495   32  56     499   \n",
       "3  Random Forest with lyrical features, SMOTE/RUS   5  507   20  55     512   \n",
       "4                     SMOTE/RUS RF, Random Search   4  500   27  56     504   \n",
       "5                       SMOTE/RUS RF, Grid Search   4  498   29  56     502   \n",
       "\n",
       "  incorrect  accuracy precision    recall        f1   roc_auc avg_pre  \n",
       "0       134     0.772     0.206     0.433      0.28     0.622   0.147  \n",
       "1        99  0.831346  0.145455  0.133333   0.13913  0.522075   0.108  \n",
       "2        88  0.850085  0.111111  0.066667  0.083333  0.502973   0.103  \n",
       "3        75  0.872232       0.2  0.083333  0.117647  0.522691    0.11  \n",
       "4        83  0.858603  0.129032  0.066667  0.087912  0.507717   0.104  \n",
       "5        85  0.855196  0.121212  0.066667  0.086022  0.505819   0.103  "
      ]
     },
     "execution_count": 19,
     "metadata": {},
     "output_type": "execute_result"
    }
   ],
   "source": [
    "df_result"
   ]
  },
  {
   "cell_type": "markdown",
   "id": "eb02783b-b9a4-4a4f-bc4d-59e0a50433cc",
   "metadata": {},
   "source": [
    "Looking at the above results again, the average precision is marginally higher for Random Forest with lyrical features, SMOTE/RUS (lyrics RF) as compared to both searches. As such, the reasons stated before th AUC comparison still stand, and lyrics RF is the best performing random forest classifier out all that had been compared."
   ]
  },
  {
   "cell_type": "code",
   "execution_count": 32,
   "id": "a6256062-9d2e-4065-b8d5-6ea2f0043d69",
   "metadata": {},
   "outputs": [],
   "source": [
    "# Saving the dataframe with model evaluation results to csv file\n",
    "df_result.to_csv('evaluations.csv', index= False)"
   ]
  },
  {
   "cell_type": "markdown",
   "id": "a2b7e638-a30f-472b-a8f5-fa1c870aa8e0",
   "metadata": {},
   "source": [
    "# KNN"
   ]
  },
  {
   "cell_type": "markdown",
   "id": "74ba0956-9b35-40ed-9ab6-46dc42523895",
   "metadata": {},
   "source": [
    "## SMOTE"
   ]
  },
  {
   "cell_type": "code",
   "execution_count": 7,
   "id": "fdde18d4-8fa0-409e-9c15-97c30a659762",
   "metadata": {},
   "outputs": [],
   "source": [
    "# Dropping features that are not used for now\n",
    "X = df.drop(['rank', 'artist', 'song', 'hit', 'year', 'genre', 'album','genre_split', \n",
    "             'lyrics', 'tokens', 'hit', 'artist_encoded'], axis=1)\n",
    "y = df[\"hit\"]\n",
    "\n",
    "# Train-test split\n",
    "X_train_knn, X_test_knn, y_train_knn, y_test_knn = train_test_split(X, y, test_size=0.2, shuffle=True, \n",
    "                                                    stratify=y, random_state=42) \n",
    "# Apply SMOTE\n",
    "sm = SMOTE(random_state=42)\n",
    "X_train_smote_k, y_train_smote_k = sm.fit_resample(X_train_knn, y_train_knn)"
   ]
  },
  {
   "cell_type": "code",
   "execution_count": 67,
   "id": "8d9dba33-28c6-4d11-89bf-ccc4fee99284",
   "metadata": {},
   "outputs": [
    {
     "data": {
      "text/plain": [
       "(2344,)"
      ]
     },
     "execution_count": 67,
     "metadata": {},
     "output_type": "execute_result"
    }
   ],
   "source": [
    "# Before using SMOTE\n",
    "y_train.shape"
   ]
  },
  {
   "cell_type": "code",
   "execution_count": 22,
   "id": "26a8158f-437a-489f-a43a-f14f30514831",
   "metadata": {},
   "outputs": [
    {
     "data": {
      "text/plain": [
       "(4210,)"
      ]
     },
     "execution_count": 22,
     "metadata": {},
     "output_type": "execute_result"
    }
   ],
   "source": [
    "# After using\n",
    "y_train_smote_k.shape"
   ]
  },
  {
   "cell_type": "markdown",
   "id": "ebbe62c3-3f7d-4783-94d9-4eac294a5833",
   "metadata": {},
   "source": [
    "### Normalising X_train_smote"
   ]
  },
  {
   "cell_type": "code",
   "execution_count": 8,
   "id": "85cff793-42c7-449f-af9b-c680290d074c",
   "metadata": {},
   "outputs": [],
   "source": [
    "# Dropping the columns that do not need scaling\n",
    "X_train_drop= X_train_smote_k.drop(columns=['explicit', 'lyric_pos', 'lyric_neu', 'lyric_neg'])"
   ]
  },
  {
   "cell_type": "code",
   "execution_count": 9,
   "id": "40f4262b-87fb-42c0-9bbe-697efc5a03ae",
   "metadata": {},
   "outputs": [],
   "source": [
    "from sklearn.preprocessing import MinMaxScaler\n",
    "\n",
    "# MinMaxScaler\n",
    "scaler = MinMaxScaler()\n",
    "# Fitting the scaler and transform the values in dataframe\n",
    "X2 = scaler.fit_transform(X_train_drop)"
   ]
  },
  {
   "cell_type": "code",
   "execution_count": 10,
   "id": "2a48ac2b-bdea-474f-9ef9-6b54599db367",
   "metadata": {},
   "outputs": [],
   "source": [
    "# Create a new dataframe for the scaled arrays\n",
    "X_df= pd.DataFrame(X2, columns=X_train_drop.iloc[:,:].columns)"
   ]
  },
  {
   "cell_type": "code",
   "execution_count": 11,
   "id": "26a88e0c-715b-4ced-a160-e7392aa93cf6",
   "metadata": {},
   "outputs": [
    {
     "data": {
      "text/plain": [
       "(4210, 17)"
      ]
     },
     "execution_count": 11,
     "metadata": {},
     "output_type": "execute_result"
    }
   ],
   "source": [
    "# Checking the shape of new dataframe\n",
    "X_df.shape"
   ]
  },
  {
   "cell_type": "code",
   "execution_count": 12,
   "id": "43b278f9-aaa9-49f1-85d8-20e3b2f09636",
   "metadata": {},
   "outputs": [],
   "source": [
    "# Reset index of X_train for the concatenation next\n",
    "X_train_smote_k = X_train_smote_k.reset_index(drop=True)"
   ]
  },
  {
   "cell_type": "code",
   "execution_count": 13,
   "id": "8fb1c788-9d91-42de-b98f-b649301d71ae",
   "metadata": {},
   "outputs": [],
   "source": [
    "# Concatenate the scaled data with those that do not need scaling\n",
    "X_train2 = pd.concat([X_df, X_train_smote_k['explicit'], X_train_smote_k['lyric_pos'], \n",
    "                      X_train_smote_k['lyric_neu'], X_train_smote_k['lyric_neg']],axis= \"columns\")"
   ]
  },
  {
   "cell_type": "code",
   "execution_count": 14,
   "id": "2f70399b-00ba-4410-a201-958bd85b1d8c",
   "metadata": {},
   "outputs": [
    {
     "data": {
      "text/plain": [
       "(4210, 21)"
      ]
     },
     "execution_count": 14,
     "metadata": {},
     "output_type": "execute_result"
    }
   ],
   "source": [
    "# Checking shape that the concatenation was successful\n",
    "X_train2.shape"
   ]
  },
  {
   "cell_type": "code",
   "execution_count": 30,
   "id": "4cf39fb1-0caf-4897-bb61-6e7db4270d82",
   "metadata": {},
   "outputs": [
    {
     "data": {
      "text/plain": [
       "(4210,)"
      ]
     },
     "execution_count": 30,
     "metadata": {},
     "output_type": "execute_result"
    }
   ],
   "source": [
    "y_train_smote_k.shape"
   ]
  },
  {
   "cell_type": "markdown",
   "id": "4e894121-b6a4-437d-8272-fcc916f438d0",
   "metadata": {},
   "source": [
    "### For X_test"
   ]
  },
  {
   "cell_type": "code",
   "execution_count": 15,
   "id": "45c127e0-0089-4cc3-b4ba-394ffb602ac5",
   "metadata": {},
   "outputs": [
    {
     "data": {
      "text/plain": [
       "(587, 21)"
      ]
     },
     "execution_count": 15,
     "metadata": {},
     "output_type": "execute_result"
    }
   ],
   "source": [
    "# Initial shape\n",
    "X_test_knn.shape"
   ]
  },
  {
   "cell_type": "code",
   "execution_count": 16,
   "id": "7c058933-5b4e-42a2-bcab-e89c3dd4fa77",
   "metadata": {},
   "outputs": [],
   "source": [
    "# Dropping the columns that do not need scaling\n",
    "X_test_drop= X_test_knn.drop(columns=['explicit', 'lyric_pos', 'lyric_neu', 'lyric_neg'])"
   ]
  },
  {
   "cell_type": "code",
   "execution_count": 33,
   "id": "31e483e9-69bb-4260-9855-6e94868b6e2b",
   "metadata": {},
   "outputs": [
    {
     "data": {
      "text/plain": [
       "(587, 17)"
      ]
     },
     "execution_count": 33,
     "metadata": {},
     "output_type": "execute_result"
    }
   ],
   "source": [
    "# Check if number of columns as expected after dropping\n",
    "X_test_drop.shape"
   ]
  },
  {
   "cell_type": "code",
   "execution_count": 17,
   "id": "da5fd899-cffa-4204-ad11-0a6ccc5b87cd",
   "metadata": {},
   "outputs": [],
   "source": [
    "# Transform dataframe with the already fitted scaler\n",
    "X_test_scaled = scaler.transform(X_test_drop)"
   ]
  },
  {
   "cell_type": "code",
   "execution_count": 18,
   "id": "c2dab657-dcef-401c-809b-3bc329145614",
   "metadata": {},
   "outputs": [],
   "source": [
    "# Create a new dataframe for the arrays with corresponding column names\n",
    "X_test_df= pd.DataFrame(X_test_scaled, columns=X_test_drop.iloc[:,:].columns)"
   ]
  },
  {
   "cell_type": "code",
   "execution_count": 19,
   "id": "72cfb0ff-ce75-44f3-97d0-44a34ca0ddc2",
   "metadata": {},
   "outputs": [],
   "source": [
    "# Reset index of X_test for the concatenation next\n",
    "X_test_knn = X_test_knn.reset_index(drop=True)"
   ]
  },
  {
   "cell_type": "code",
   "execution_count": 20,
   "id": "cddb98dd-d037-4319-ad9c-43e53af9b9e2",
   "metadata": {},
   "outputs": [],
   "source": [
    "# Concatenate the scaled data with those that do not need scaling\n",
    "X_test2 = pd.concat([X_test_df, X_test_knn['explicit'], X_test_knn['lyric_pos'], \n",
    "                     X_test_knn['lyric_neu'], X_test_knn['lyric_neg']],axis= \"columns\")"
   ]
  },
  {
   "cell_type": "code",
   "execution_count": 21,
   "id": "5dd13181-056c-4a75-a0dd-3951d8fcb412",
   "metadata": {},
   "outputs": [
    {
     "data": {
      "text/plain": [
       "(587, 21)"
      ]
     },
     "execution_count": 21,
     "metadata": {},
     "output_type": "execute_result"
    }
   ],
   "source": [
    "# Shape check that the concatenation was successful\n",
    "X_test2.shape"
   ]
  },
  {
   "cell_type": "markdown",
   "id": "1951e80f-a7a7-4039-b451-28055d9229bb",
   "metadata": {},
   "source": [
    "## SMOTE/RUS"
   ]
  },
  {
   "cell_type": "markdown",
   "id": "aa6cf74e-fd3f-4ab7-9a6c-849238a04ef8",
   "metadata": {},
   "source": [
    "With the same sampling strategies for SMOTE and RUS used in Random Forest"
   ]
  },
  {
   "cell_type": "code",
   "execution_count": 25,
   "id": "24083339-54c0-4248-8739-e595b88c069b",
   "metadata": {},
   "outputs": [],
   "source": [
    "X = df.drop(['rank', 'artist', 'song', 'hit', 'year', 'genre', 'album','genre_split', \n",
    "             'lyrics', 'tokens', 'hit', 'artist_encoded'], axis=1)\n",
    "y = df[\"hit\"]\n",
    "\n",
    "# Train-test split\n",
    "X_train_2, X_test_2, y_train_2, y_test_2 = train_test_split(X, y, test_size=0.2, shuffle=True, \n",
    "                                                    stratify=y, random_state=42) \n",
    "\n",
    "# Apply SMOTE\n",
    "sm = SMOTE(random_state=42, sampling_strategy=0.55, k_neighbors=4)\n",
    "X_train_smote2, y_train_smote2 = sm.fit_resample(X_train_2, y_train_2)"
   ]
  },
  {
   "cell_type": "code",
   "execution_count": 26,
   "id": "8a17c188-3586-4e29-bfd8-82499a31e19a",
   "metadata": {},
   "outputs": [],
   "source": [
    "# Apply RUS\n",
    "rus = RandomUnderSampler(sampling_strategy=0.55, random_state=42)\n",
    "X_train_final_knn, y_train_final_knn = rus.fit_resample(X_train_smote2, y_train_smote2)"
   ]
  },
  {
   "cell_type": "markdown",
   "id": "b2c0e4bd-f200-489f-bc57-d45272557907",
   "metadata": {},
   "source": [
    "### Normalisation"
   ]
  },
  {
   "cell_type": "code",
   "execution_count": 27,
   "id": "acd3732d-4a7d-4fe3-91bb-33c90ad621b1",
   "metadata": {},
   "outputs": [
    {
     "data": {
      "text/plain": [
       "(3260, 21)"
      ]
     },
     "execution_count": 27,
     "metadata": {},
     "output_type": "execute_result"
    }
   ],
   "source": [
    "# Number of rows and columns of initial X_train set\n",
    "X_train_final_knn.shape"
   ]
  },
  {
   "cell_type": "code",
   "execution_count": 28,
   "id": "90c53b85-c04e-4a0a-a312-8bc079523852",
   "metadata": {},
   "outputs": [],
   "source": [
    "# Dropping the columns that do not need scaling\n",
    "X_train_drop2= X_train_final_knn.drop(columns=['explicit', 'lyric_pos', 'lyric_neu', 'lyric_neg'])"
   ]
  },
  {
   "cell_type": "code",
   "execution_count": 29,
   "id": "b1e30efc-1555-4efd-94a0-59706ec81a32",
   "metadata": {},
   "outputs": [],
   "source": [
    "# MinMaxScaler\n",
    "scaler = MinMaxScaler()\n",
    "# Fitting the scaler and transform the values in dataframe\n",
    "X_knn = scaler.fit_transform(X_train_drop2)"
   ]
  },
  {
   "cell_type": "code",
   "execution_count": 30,
   "id": "92d05c25-6dfd-4b77-8ce8-9741f99a487c",
   "metadata": {},
   "outputs": [],
   "source": [
    "# Create a new dataframe for the scaled arrays\n",
    "X_knn_df= pd.DataFrame(X_knn, columns=X_train_drop2.iloc[:,:].columns)"
   ]
  },
  {
   "cell_type": "code",
   "execution_count": 31,
   "id": "5cb29156-440f-48ea-ba0d-8b443df19c0f",
   "metadata": {},
   "outputs": [
    {
     "data": {
      "text/plain": [
       "(3260, 17)"
      ]
     },
     "execution_count": 31,
     "metadata": {},
     "output_type": "execute_result"
    }
   ],
   "source": [
    "# Checking the shape of new dataframe\n",
    "X_knn_df.shape"
   ]
  },
  {
   "cell_type": "code",
   "execution_count": 32,
   "id": "ae279d29-9d00-452e-b1f1-22d1d8246eba",
   "metadata": {},
   "outputs": [],
   "source": [
    "# Reset index of X_train for the concatenation next\n",
    "X_train_final_knn = X_train_final_knn.reset_index(drop=True)"
   ]
  },
  {
   "cell_type": "code",
   "execution_count": 33,
   "id": "7774054f-e264-43c8-8473-005130706def",
   "metadata": {},
   "outputs": [],
   "source": [
    "# Concatenate the scaled data with those that do not need scaling\n",
    "X_train_final2 = pd.concat([X_knn_df, X_train_final_knn['explicit'], X_train_final_knn['lyric_pos'], \n",
    "                      X_train_final_knn['lyric_neu'], X_train_final_knn['lyric_neg']],axis= \"columns\")"
   ]
  },
  {
   "cell_type": "code",
   "execution_count": 54,
   "id": "f1a62dd0-3760-4315-b6e3-7c858ec1c058",
   "metadata": {},
   "outputs": [
    {
     "data": {
      "text/plain": [
       "(3260, 21)"
      ]
     },
     "execution_count": 54,
     "metadata": {},
     "output_type": "execute_result"
    }
   ],
   "source": [
    "# Checking shape that the concatenation was successful\n",
    "X_train_final2.shape"
   ]
  },
  {
   "cell_type": "markdown",
   "id": "9c40f654-ac78-481e-84b4-dcdcff7c361b",
   "metadata": {},
   "source": [
    "### X_test"
   ]
  },
  {
   "cell_type": "code",
   "execution_count": 51,
   "id": "40ccfb8e-00dd-40be-a849-881c47e11004",
   "metadata": {},
   "outputs": [
    {
     "data": {
      "text/plain": [
       "(587, 21)"
      ]
     },
     "execution_count": 51,
     "metadata": {},
     "output_type": "execute_result"
    }
   ],
   "source": [
    "# Initial shape\n",
    "X_test_2.shape"
   ]
  },
  {
   "cell_type": "code",
   "execution_count": 34,
   "id": "951dc462-76df-45cb-9253-60a9a918b14a",
   "metadata": {},
   "outputs": [],
   "source": [
    "# Dropping the columns that do not need scaling\n",
    "X_test2_drop= X_test_2.drop(columns=['explicit', 'lyric_pos', 'lyric_neu', 'lyric_neg'])"
   ]
  },
  {
   "cell_type": "code",
   "execution_count": 35,
   "id": "cd706a68-d4dc-4a93-95d2-0f562702149e",
   "metadata": {},
   "outputs": [
    {
     "data": {
      "text/plain": [
       "(587, 17)"
      ]
     },
     "execution_count": 35,
     "metadata": {},
     "output_type": "execute_result"
    }
   ],
   "source": [
    "# Check if number of columns as expected after dropping\n",
    "X_test2_drop.shape"
   ]
  },
  {
   "cell_type": "code",
   "execution_count": 36,
   "id": "05c952a0-229f-436d-ada6-3d9b1188aaca",
   "metadata": {},
   "outputs": [],
   "source": [
    "# Transform dataframe with the already fitted scaler\n",
    "X_test_scaled2 = scaler.transform(X_test2_drop)"
   ]
  },
  {
   "cell_type": "code",
   "execution_count": 37,
   "id": "bc9213b9-fdc0-40c7-9e3b-2e30608bca89",
   "metadata": {},
   "outputs": [],
   "source": [
    "# Create a new dataframe for the arrays with corresponding column names\n",
    "X_test2_df= pd.DataFrame(X_test_scaled2, columns=X_test2_drop.iloc[:,:].columns)"
   ]
  },
  {
   "cell_type": "code",
   "execution_count": 38,
   "id": "42006fb1-9644-43df-971a-0f66c71bcb61",
   "metadata": {},
   "outputs": [],
   "source": [
    "# Reset index of X_test for the concatenation next\n",
    "X_test_2 = X_test_2.reset_index(drop=True)"
   ]
  },
  {
   "cell_type": "code",
   "execution_count": 39,
   "id": "d57679d7-77ba-4259-9994-67cba784c7b9",
   "metadata": {},
   "outputs": [],
   "source": [
    "# Concatenate the scaled data with those that do not need scaling\n",
    "X_test2_final = pd.concat([X_test2_df, X_test_2['explicit'], X_test_2['lyric_pos'], \n",
    "                     X_test_2['lyric_neu'], X_test_2['lyric_neg']],axis= \"columns\")"
   ]
  },
  {
   "cell_type": "code",
   "execution_count": 62,
   "id": "cc68fcfa-683f-4418-a984-d7ceaf3e4795",
   "metadata": {},
   "outputs": [
    {
     "data": {
      "text/plain": [
       "(587, 21)"
      ]
     },
     "execution_count": 62,
     "metadata": {},
     "output_type": "execute_result"
    }
   ],
   "source": [
    "# Shape check that the concatenation was successful\n",
    "X_test2_final.shape"
   ]
  },
  {
   "cell_type": "markdown",
   "id": "8527bd42-4572-443e-b4c9-4fd925862a9e",
   "metadata": {},
   "source": [
    "## Modelling"
   ]
  },
  {
   "cell_type": "markdown",
   "id": "31f8650b-2fd1-4e6b-8c88-30531960fe52",
   "metadata": {},
   "source": [
    "### SMOTE BENCHMARK"
   ]
  },
  {
   "cell_type": "code",
   "execution_count": 24,
   "id": "d51bd9ad-791a-4bb8-b535-df49b2d0a315",
   "metadata": {},
   "outputs": [
    {
     "name": "stdout",
     "output_type": "stream",
     "text": [
      "DUMMY CLASSIFIER SCORES\n",
      "Accuracy: 0.8977853492333902\n",
      "Precision: 0.0\n",
      "Recall: 0.0\n",
      "F1: 0.0\n"
     ]
    },
    {
     "name": "stderr",
     "output_type": "stream",
     "text": [
      "/Users/onion/miniforge3/envs/env_tf/lib/python3.9/site-packages/sklearn/metrics/_classification.py:1327: UndefinedMetricWarning: Precision is ill-defined and being set to 0.0 due to no predicted samples. Use `zero_division` parameter to control this behavior.\n",
      "  _warn_prf(average, modifier, msg_start, len(result))\n"
     ]
    }
   ],
   "source": [
    "# Using a Dummy Classifier as baseline\n",
    "\n",
    "from sklearn.dummy import DummyClassifier\n",
    "dummy_sm = DummyClassifier(random_state=42)\n",
    "dummy_sm.fit(X_train2, y_train_smote_k)\n",
    "dummy_pred = dummy_sm.predict(X_test2)\n",
    "\n",
    "# Calculate evaluation metrics\n",
    "dummy_sm_accuracy = accuracy_score(y_test_knn, dummy_pred)\n",
    "dummy_sm_precision = precision_score(y_test_knn, dummy_pred)\n",
    "dummy_sm_recall = recall_score(y_test_knn, dummy_pred)\n",
    "dummy_sm_f1=f1_score(y_test_knn, dummy_pred)\n",
    "\n",
    "# Display\n",
    "print('DUMMY CLASSIFIER SCORES')\n",
    "print('Accuracy:', dummy_sm_accuracy)\n",
    "print('Precision:', dummy_sm_precision)\n",
    "print('Recall:', dummy_sm_recall)\n",
    "print('F1:', dummy_sm_f1)"
   ]
  },
  {
   "cell_type": "markdown",
   "id": "44459b13-c93f-4196-8af5-f4b5916595b2",
   "metadata": {},
   "source": [
    "### SMOTE/RUS BENCHMARK"
   ]
  },
  {
   "cell_type": "code",
   "execution_count": 40,
   "id": "cabb2e5b-a23e-4704-b248-0e9a6a6c7777",
   "metadata": {},
   "outputs": [
    {
     "name": "stdout",
     "output_type": "stream",
     "text": [
      "DUMMY CLASSIFIER WITH SMOTE/RUS SCORES\n",
      "Accuracy: 0.8977853492333902\n",
      "Precision: 0.0\n",
      "Recall: 0.0\n",
      "F1: 0.0\n"
     ]
    },
    {
     "name": "stderr",
     "output_type": "stream",
     "text": [
      "/Users/onion/miniforge3/envs/env_tf/lib/python3.9/site-packages/sklearn/metrics/_classification.py:1327: UndefinedMetricWarning: Precision is ill-defined and being set to 0.0 due to no predicted samples. Use `zero_division` parameter to control this behavior.\n",
      "  _warn_prf(average, modifier, msg_start, len(result))\n"
     ]
    }
   ],
   "source": [
    "dummy_2 = DummyClassifier(random_state=42)\n",
    "dummy_2.fit(X_train_final2, y_train_final_knn)\n",
    "dummy2_pred = dummy_2.predict(X_test2_final)\n",
    "\n",
    "# Calculate evaluation metrics\n",
    "dummy_2_accuracy = accuracy_score(y_test_2, dummy2_pred)\n",
    "dummy_2_precision = precision_score(y_test_2, dummy2_pred)\n",
    "dummy_2_recall = recall_score(y_test_2, dummy2_pred)\n",
    "dummy_2_f1=f1_score(y_test_2, dummy2_pred)\n",
    "\n",
    "# Display\n",
    "print('DUMMY CLASSIFIER WITH SMOTE/RUS SCORES')\n",
    "print('Accuracy:', dummy_2_accuracy)\n",
    "print('Precision:', dummy_2_precision)\n",
    "print('Recall:', dummy_2_recall)\n",
    "print('F1:', dummy_2_f1)"
   ]
  },
  {
   "cell_type": "markdown",
   "id": "3915b3eb-e2e1-42af-9dfb-0510da738817",
   "metadata": {},
   "source": [
    "## Grid Search for optimal number of k (SMOTE)"
   ]
  },
  {
   "cell_type": "code",
   "execution_count": 40,
   "id": "196871e0-ce51-493e-bced-e9fdfc07932c",
   "metadata": {},
   "outputs": [
    {
     "data": {
      "text/html": [
       "<style>#sk-container-id-1 {color: black;background-color: white;}#sk-container-id-1 pre{padding: 0;}#sk-container-id-1 div.sk-toggleable {background-color: white;}#sk-container-id-1 label.sk-toggleable__label {cursor: pointer;display: block;width: 100%;margin-bottom: 0;padding: 0.3em;box-sizing: border-box;text-align: center;}#sk-container-id-1 label.sk-toggleable__label-arrow:before {content: \"▸\";float: left;margin-right: 0.25em;color: #696969;}#sk-container-id-1 label.sk-toggleable__label-arrow:hover:before {color: black;}#sk-container-id-1 div.sk-estimator:hover label.sk-toggleable__label-arrow:before {color: black;}#sk-container-id-1 div.sk-toggleable__content {max-height: 0;max-width: 0;overflow: hidden;text-align: left;background-color: #f0f8ff;}#sk-container-id-1 div.sk-toggleable__content pre {margin: 0.2em;color: black;border-radius: 0.25em;background-color: #f0f8ff;}#sk-container-id-1 input.sk-toggleable__control:checked~div.sk-toggleable__content {max-height: 200px;max-width: 100%;overflow: auto;}#sk-container-id-1 input.sk-toggleable__control:checked~label.sk-toggleable__label-arrow:before {content: \"▾\";}#sk-container-id-1 div.sk-estimator input.sk-toggleable__control:checked~label.sk-toggleable__label {background-color: #d4ebff;}#sk-container-id-1 div.sk-label input.sk-toggleable__control:checked~label.sk-toggleable__label {background-color: #d4ebff;}#sk-container-id-1 input.sk-hidden--visually {border: 0;clip: rect(1px 1px 1px 1px);clip: rect(1px, 1px, 1px, 1px);height: 1px;margin: -1px;overflow: hidden;padding: 0;position: absolute;width: 1px;}#sk-container-id-1 div.sk-estimator {font-family: monospace;background-color: #f0f8ff;border: 1px dotted black;border-radius: 0.25em;box-sizing: border-box;margin-bottom: 0.5em;}#sk-container-id-1 div.sk-estimator:hover {background-color: #d4ebff;}#sk-container-id-1 div.sk-parallel-item::after {content: \"\";width: 100%;border-bottom: 1px solid gray;flex-grow: 1;}#sk-container-id-1 div.sk-label:hover label.sk-toggleable__label {background-color: #d4ebff;}#sk-container-id-1 div.sk-serial::before {content: \"\";position: absolute;border-left: 1px solid gray;box-sizing: border-box;top: 0;bottom: 0;left: 50%;z-index: 0;}#sk-container-id-1 div.sk-serial {display: flex;flex-direction: column;align-items: center;background-color: white;padding-right: 0.2em;padding-left: 0.2em;position: relative;}#sk-container-id-1 div.sk-item {position: relative;z-index: 1;}#sk-container-id-1 div.sk-parallel {display: flex;align-items: stretch;justify-content: center;background-color: white;position: relative;}#sk-container-id-1 div.sk-item::before, #sk-container-id-1 div.sk-parallel-item::before {content: \"\";position: absolute;border-left: 1px solid gray;box-sizing: border-box;top: 0;bottom: 0;left: 50%;z-index: -1;}#sk-container-id-1 div.sk-parallel-item {display: flex;flex-direction: column;z-index: 1;position: relative;background-color: white;}#sk-container-id-1 div.sk-parallel-item:first-child::after {align-self: flex-end;width: 50%;}#sk-container-id-1 div.sk-parallel-item:last-child::after {align-self: flex-start;width: 50%;}#sk-container-id-1 div.sk-parallel-item:only-child::after {width: 0;}#sk-container-id-1 div.sk-dashed-wrapped {border: 1px dashed gray;margin: 0 0.4em 0.5em 0.4em;box-sizing: border-box;padding-bottom: 0.4em;background-color: white;}#sk-container-id-1 div.sk-label label {font-family: monospace;font-weight: bold;display: inline-block;line-height: 1.2em;}#sk-container-id-1 div.sk-label-container {text-align: center;}#sk-container-id-1 div.sk-container {/* jupyter's `normalize.less` sets `[hidden] { display: none; }` but bootstrap.min.css set `[hidden] { display: none !important; }` so we also need the `!important` here to be able to override the default hidden behavior on the sphinx rendered scikit-learn.org. See: https://github.com/scikit-learn/scikit-learn/issues/21755 */display: inline-block !important;position: relative;}#sk-container-id-1 div.sk-text-repr-fallback {display: none;}</style><div id=\"sk-container-id-1\" class=\"sk-top-container\"><div class=\"sk-text-repr-fallback\"><pre>GridSearchCV(cv=5, estimator=KNeighborsClassifier(),\n",
       "             param_grid={&#x27;n_neighbors&#x27;: array([ 1,  2,  3,  4,  5,  6,  7,  8,  9, 10, 11, 12, 13, 14, 15, 16, 17,\n",
       "       18, 19, 20, 21, 22, 23, 24])})</pre><b>In a Jupyter environment, please rerun this cell to show the HTML representation or trust the notebook. <br />On GitHub, the HTML representation is unable to render, please try loading this page with nbviewer.org.</b></div><div class=\"sk-container\" hidden><div class=\"sk-item sk-dashed-wrapped\"><div class=\"sk-label-container\"><div class=\"sk-label sk-toggleable\"><input class=\"sk-toggleable__control sk-hidden--visually\" id=\"sk-estimator-id-1\" type=\"checkbox\" ><label for=\"sk-estimator-id-1\" class=\"sk-toggleable__label sk-toggleable__label-arrow\">GridSearchCV</label><div class=\"sk-toggleable__content\"><pre>GridSearchCV(cv=5, estimator=KNeighborsClassifier(),\n",
       "             param_grid={&#x27;n_neighbors&#x27;: array([ 1,  2,  3,  4,  5,  6,  7,  8,  9, 10, 11, 12, 13, 14, 15, 16, 17,\n",
       "       18, 19, 20, 21, 22, 23, 24])})</pre></div></div></div><div class=\"sk-parallel\"><div class=\"sk-parallel-item\"><div class=\"sk-item\"><div class=\"sk-label-container\"><div class=\"sk-label sk-toggleable\"><input class=\"sk-toggleable__control sk-hidden--visually\" id=\"sk-estimator-id-2\" type=\"checkbox\" ><label for=\"sk-estimator-id-2\" class=\"sk-toggleable__label sk-toggleable__label-arrow\">estimator: KNeighborsClassifier</label><div class=\"sk-toggleable__content\"><pre>KNeighborsClassifier()</pre></div></div></div><div class=\"sk-serial\"><div class=\"sk-item\"><div class=\"sk-estimator sk-toggleable\"><input class=\"sk-toggleable__control sk-hidden--visually\" id=\"sk-estimator-id-3\" type=\"checkbox\" ><label for=\"sk-estimator-id-3\" class=\"sk-toggleable__label sk-toggleable__label-arrow\">KNeighborsClassifier</label><div class=\"sk-toggleable__content\"><pre>KNeighborsClassifier()</pre></div></div></div></div></div></div></div></div></div></div>"
      ],
      "text/plain": [
       "GridSearchCV(cv=5, estimator=KNeighborsClassifier(),\n",
       "             param_grid={'n_neighbors': array([ 1,  2,  3,  4,  5,  6,  7,  8,  9, 10, 11, 12, 13, 14, 15, 16, 17,\n",
       "       18, 19, 20, 21, 22, 23, 24])})"
      ]
     },
     "execution_count": 40,
     "metadata": {},
     "output_type": "execute_result"
    }
   ],
   "source": [
    "from sklearn.model_selection import GridSearchCV\n",
    "# Create new a knn model\n",
    "knn_sm = KNeighborsClassifier()\n",
    "# Create a dictionary of all values to be tested for n_neighbors\n",
    "param_grid = {'n_neighbors': np.arange(1, 25)}\n",
    "# Use gridsearch to test all values for n_neighbors \n",
    "# with 5 fold cross validation\n",
    "knn_gscv_sm = GridSearchCV(knn_sm, param_grid, cv=5)\n",
    "# Fit model \n",
    "knn_gscv_sm.fit(X_train2, y_train_smote_k)"
   ]
  },
  {
   "cell_type": "code",
   "execution_count": 41,
   "id": "3eba1f45-d498-48ad-857f-adbaf91a0deb",
   "metadata": {},
   "outputs": [
    {
     "data": {
      "text/plain": [
       "{'n_neighbors': 2}"
      ]
     },
     "execution_count": 41,
     "metadata": {},
     "output_type": "execute_result"
    }
   ],
   "source": [
    "# Check optimal number of k\n",
    "knn_gscv_sm.best_params_"
   ]
  },
  {
   "cell_type": "code",
   "execution_count": 42,
   "id": "f9bfb959-6244-409f-8ad2-563e5adcc873",
   "metadata": {},
   "outputs": [
    {
     "data": {
      "text/plain": [
       "0.8845605700712589"
      ]
     },
     "execution_count": 42,
     "metadata": {},
     "output_type": "execute_result"
    }
   ],
   "source": [
    "# Mean score for best number of k\n",
    "knn_gscv_sm.best_score_"
   ]
  },
  {
   "cell_type": "markdown",
   "id": "56a2c396-9d56-43df-a3de-e6c15949104d",
   "metadata": {},
   "source": [
    "## Grid Search for optimal number of k (SMOTE/RUS)"
   ]
  },
  {
   "cell_type": "code",
   "execution_count": 73,
   "id": "c171e849-a447-4acd-9d17-7aa80129d4b3",
   "metadata": {},
   "outputs": [
    {
     "data": {
      "text/html": [
       "<style>#sk-container-id-1 {color: black;background-color: white;}#sk-container-id-1 pre{padding: 0;}#sk-container-id-1 div.sk-toggleable {background-color: white;}#sk-container-id-1 label.sk-toggleable__label {cursor: pointer;display: block;width: 100%;margin-bottom: 0;padding: 0.3em;box-sizing: border-box;text-align: center;}#sk-container-id-1 label.sk-toggleable__label-arrow:before {content: \"▸\";float: left;margin-right: 0.25em;color: #696969;}#sk-container-id-1 label.sk-toggleable__label-arrow:hover:before {color: black;}#sk-container-id-1 div.sk-estimator:hover label.sk-toggleable__label-arrow:before {color: black;}#sk-container-id-1 div.sk-toggleable__content {max-height: 0;max-width: 0;overflow: hidden;text-align: left;background-color: #f0f8ff;}#sk-container-id-1 div.sk-toggleable__content pre {margin: 0.2em;color: black;border-radius: 0.25em;background-color: #f0f8ff;}#sk-container-id-1 input.sk-toggleable__control:checked~div.sk-toggleable__content {max-height: 200px;max-width: 100%;overflow: auto;}#sk-container-id-1 input.sk-toggleable__control:checked~label.sk-toggleable__label-arrow:before {content: \"▾\";}#sk-container-id-1 div.sk-estimator input.sk-toggleable__control:checked~label.sk-toggleable__label {background-color: #d4ebff;}#sk-container-id-1 div.sk-label input.sk-toggleable__control:checked~label.sk-toggleable__label {background-color: #d4ebff;}#sk-container-id-1 input.sk-hidden--visually {border: 0;clip: rect(1px 1px 1px 1px);clip: rect(1px, 1px, 1px, 1px);height: 1px;margin: -1px;overflow: hidden;padding: 0;position: absolute;width: 1px;}#sk-container-id-1 div.sk-estimator {font-family: monospace;background-color: #f0f8ff;border: 1px dotted black;border-radius: 0.25em;box-sizing: border-box;margin-bottom: 0.5em;}#sk-container-id-1 div.sk-estimator:hover {background-color: #d4ebff;}#sk-container-id-1 div.sk-parallel-item::after {content: \"\";width: 100%;border-bottom: 1px solid gray;flex-grow: 1;}#sk-container-id-1 div.sk-label:hover label.sk-toggleable__label {background-color: #d4ebff;}#sk-container-id-1 div.sk-serial::before {content: \"\";position: absolute;border-left: 1px solid gray;box-sizing: border-box;top: 0;bottom: 0;left: 50%;z-index: 0;}#sk-container-id-1 div.sk-serial {display: flex;flex-direction: column;align-items: center;background-color: white;padding-right: 0.2em;padding-left: 0.2em;position: relative;}#sk-container-id-1 div.sk-item {position: relative;z-index: 1;}#sk-container-id-1 div.sk-parallel {display: flex;align-items: stretch;justify-content: center;background-color: white;position: relative;}#sk-container-id-1 div.sk-item::before, #sk-container-id-1 div.sk-parallel-item::before {content: \"\";position: absolute;border-left: 1px solid gray;box-sizing: border-box;top: 0;bottom: 0;left: 50%;z-index: -1;}#sk-container-id-1 div.sk-parallel-item {display: flex;flex-direction: column;z-index: 1;position: relative;background-color: white;}#sk-container-id-1 div.sk-parallel-item:first-child::after {align-self: flex-end;width: 50%;}#sk-container-id-1 div.sk-parallel-item:last-child::after {align-self: flex-start;width: 50%;}#sk-container-id-1 div.sk-parallel-item:only-child::after {width: 0;}#sk-container-id-1 div.sk-dashed-wrapped {border: 1px dashed gray;margin: 0 0.4em 0.5em 0.4em;box-sizing: border-box;padding-bottom: 0.4em;background-color: white;}#sk-container-id-1 div.sk-label label {font-family: monospace;font-weight: bold;display: inline-block;line-height: 1.2em;}#sk-container-id-1 div.sk-label-container {text-align: center;}#sk-container-id-1 div.sk-container {/* jupyter's `normalize.less` sets `[hidden] { display: none; }` but bootstrap.min.css set `[hidden] { display: none !important; }` so we also need the `!important` here to be able to override the default hidden behavior on the sphinx rendered scikit-learn.org. See: https://github.com/scikit-learn/scikit-learn/issues/21755 */display: inline-block !important;position: relative;}#sk-container-id-1 div.sk-text-repr-fallback {display: none;}</style><div id=\"sk-container-id-1\" class=\"sk-top-container\"><div class=\"sk-text-repr-fallback\"><pre>GridSearchCV(cv=5, estimator=KNeighborsClassifier(),\n",
       "             param_grid={&#x27;n_neighbors&#x27;: array([ 1,  2,  3,  4,  5,  6,  7,  8,  9, 10, 11, 12, 13, 14, 15, 16, 17,\n",
       "       18, 19, 20, 21, 22, 23, 24])})</pre><b>In a Jupyter environment, please rerun this cell to show the HTML representation or trust the notebook. <br />On GitHub, the HTML representation is unable to render, please try loading this page with nbviewer.org.</b></div><div class=\"sk-container\" hidden><div class=\"sk-item sk-dashed-wrapped\"><div class=\"sk-label-container\"><div class=\"sk-label sk-toggleable\"><input class=\"sk-toggleable__control sk-hidden--visually\" id=\"sk-estimator-id-1\" type=\"checkbox\" ><label for=\"sk-estimator-id-1\" class=\"sk-toggleable__label sk-toggleable__label-arrow\">GridSearchCV</label><div class=\"sk-toggleable__content\"><pre>GridSearchCV(cv=5, estimator=KNeighborsClassifier(),\n",
       "             param_grid={&#x27;n_neighbors&#x27;: array([ 1,  2,  3,  4,  5,  6,  7,  8,  9, 10, 11, 12, 13, 14, 15, 16, 17,\n",
       "       18, 19, 20, 21, 22, 23, 24])})</pre></div></div></div><div class=\"sk-parallel\"><div class=\"sk-parallel-item\"><div class=\"sk-item\"><div class=\"sk-label-container\"><div class=\"sk-label sk-toggleable\"><input class=\"sk-toggleable__control sk-hidden--visually\" id=\"sk-estimator-id-2\" type=\"checkbox\" ><label for=\"sk-estimator-id-2\" class=\"sk-toggleable__label sk-toggleable__label-arrow\">estimator: KNeighborsClassifier</label><div class=\"sk-toggleable__content\"><pre>KNeighborsClassifier()</pre></div></div></div><div class=\"sk-serial\"><div class=\"sk-item\"><div class=\"sk-estimator sk-toggleable\"><input class=\"sk-toggleable__control sk-hidden--visually\" id=\"sk-estimator-id-3\" type=\"checkbox\" ><label for=\"sk-estimator-id-3\" class=\"sk-toggleable__label sk-toggleable__label-arrow\">KNeighborsClassifier</label><div class=\"sk-toggleable__content\"><pre>KNeighborsClassifier()</pre></div></div></div></div></div></div></div></div></div></div>"
      ],
      "text/plain": [
       "GridSearchCV(cv=5, estimator=KNeighborsClassifier(),\n",
       "             param_grid={'n_neighbors': array([ 1,  2,  3,  4,  5,  6,  7,  8,  9, 10, 11, 12, 13, 14, 15, 16, 17,\n",
       "       18, 19, 20, 21, 22, 23, 24])})"
      ]
     },
     "execution_count": 73,
     "metadata": {},
     "output_type": "execute_result"
    }
   ],
   "source": [
    "# Create new a knn model\n",
    "knn2 = KNeighborsClassifier()\n",
    "# Create a dictionary of all to be tested test for n_neighbors\n",
    "param_grid = {'n_neighbors': np.arange(1, 25)}\n",
    "# Use gridsearch to test all values for n_neighbors with \n",
    "# 5 fold cross validation\n",
    "knn_gscv = GridSearchCV(knn2, param_grid, cv=5)\n",
    "# Fit model to data\n",
    "knn_gscv.fit(X_train_final2, y_train_final_knn)"
   ]
  },
  {
   "cell_type": "code",
   "execution_count": 74,
   "id": "2707466a-45c0-49b2-aa5e-c1482c211d75",
   "metadata": {},
   "outputs": [
    {
     "data": {
      "text/plain": [
       "{'n_neighbors': 2}"
      ]
     },
     "execution_count": 74,
     "metadata": {},
     "output_type": "execute_result"
    }
   ],
   "source": [
    "# Optimal number of k\n",
    "knn_gscv.best_params_"
   ]
  },
  {
   "cell_type": "code",
   "execution_count": 75,
   "id": "8223e97e-aae6-4f2d-a961-2b164d28affe",
   "metadata": {},
   "outputs": [
    {
     "data": {
      "text/plain": [
       "0.8723926380368099"
      ]
     },
     "execution_count": 75,
     "metadata": {},
     "output_type": "execute_result"
    }
   ],
   "source": [
    "# Mean score for the best params\n",
    "knn_gscv.best_score_"
   ]
  },
  {
   "cell_type": "code",
   "execution_count": 76,
   "id": "8894de23-9cc9-462f-a5de-05908d0d5938",
   "metadata": {},
   "outputs": [
    {
     "data": {
      "text/plain": [
       "{'mean_fit_time': array([0.00151892, 0.00086722, 0.00083857, 0.00085216, 0.00089331,\n",
       "        0.0008708 , 0.00084734, 0.00084624, 0.00087199, 0.00083876,\n",
       "        0.00080571, 0.00083179, 0.00083814, 0.00089483, 0.00081687,\n",
       "        0.00081735, 0.0008451 , 0.00082679, 0.00085335, 0.00083179,\n",
       "        0.00084858, 0.00086832, 0.00085325, 0.00080724]),\n",
       " 'std_fit_time': array([1.18332916e-03, 4.37643523e-05, 4.83970689e-05, 2.60496275e-05,\n",
       "        5.58000132e-05, 3.26257684e-05, 4.55021093e-05, 2.37350934e-05,\n",
       "        4.92392033e-05, 4.01314492e-05, 3.06055916e-05, 5.88578939e-05,\n",
       "        7.90829216e-05, 4.10947879e-05, 4.45209655e-05, 3.17622946e-05,\n",
       "        9.49085640e-06, 2.35677218e-05, 4.30466445e-05, 3.49773626e-05,\n",
       "        3.85505665e-05, 3.30028501e-05, 1.53926107e-05, 4.77176545e-05]),\n",
       " 'mean_score_time': array([0.22850494, 0.27645493, 0.23332376, 0.24900827, 0.29491305,\n",
       "        0.25657001, 0.24541845, 0.31066637, 0.22802639, 0.24459763,\n",
       "        0.23569708, 0.20787797, 0.27918377, 0.23056798, 0.23119149,\n",
       "        0.2161634 , 0.26513734, 0.27274694, 0.21416283, 0.27135363,\n",
       "        0.24019742, 0.27984676, 0.27296658, 0.26104431]),\n",
       " 'std_score_time': array([0.02709675, 0.04585749, 0.01852302, 0.0621712 , 0.0397461 ,\n",
       "        0.05135899, 0.02781346, 0.04016875, 0.03879682, 0.02960867,\n",
       "        0.04531808, 0.02220467, 0.05916005, 0.05078332, 0.04170448,\n",
       "        0.0331904 , 0.07234944, 0.03332711, 0.03154124, 0.08372455,\n",
       "        0.02338651, 0.03035205, 0.07759415, 0.07059926]),\n",
       " 'param_n_neighbors': masked_array(data=[1, 2, 3, 4, 5, 6, 7, 8, 9, 10, 11, 12, 13, 14, 15, 16,\n",
       "                    17, 18, 19, 20, 21, 22, 23, 24],\n",
       "              mask=[False, False, False, False, False, False, False, False,\n",
       "                    False, False, False, False, False, False, False, False,\n",
       "                    False, False, False, False, False, False, False, False],\n",
       "        fill_value='?',\n",
       "             dtype=object),\n",
       " 'params': [{'n_neighbors': 1},\n",
       "  {'n_neighbors': 2},\n",
       "  {'n_neighbors': 3},\n",
       "  {'n_neighbors': 4},\n",
       "  {'n_neighbors': 5},\n",
       "  {'n_neighbors': 6},\n",
       "  {'n_neighbors': 7},\n",
       "  {'n_neighbors': 8},\n",
       "  {'n_neighbors': 9},\n",
       "  {'n_neighbors': 10},\n",
       "  {'n_neighbors': 11},\n",
       "  {'n_neighbors': 12},\n",
       "  {'n_neighbors': 13},\n",
       "  {'n_neighbors': 14},\n",
       "  {'n_neighbors': 15},\n",
       "  {'n_neighbors': 16},\n",
       "  {'n_neighbors': 17},\n",
       "  {'n_neighbors': 18},\n",
       "  {'n_neighbors': 19},\n",
       "  {'n_neighbors': 20},\n",
       "  {'n_neighbors': 21},\n",
       "  {'n_neighbors': 22},\n",
       "  {'n_neighbors': 23},\n",
       "  {'n_neighbors': 24}],\n",
       " 'split0_test_score': array([0.75766871, 0.74233129, 0.74539877, 0.74079755, 0.72392638,\n",
       "        0.71625767, 0.7101227 , 0.70552147, 0.70705521, 0.70092025,\n",
       "        0.6993865 , 0.68558282, 0.69171779, 0.6809816 , 0.67331288,\n",
       "        0.67331288, 0.67944785, 0.67177914, 0.67177914, 0.67177914,\n",
       "        0.66871166, 0.66717791, 0.67177914, 0.66717791]),\n",
       " 'split1_test_score': array([0.84509202, 0.88803681, 0.85736196, 0.87269939, 0.85736196,\n",
       "        0.85889571, 0.84815951, 0.85122699, 0.85122699, 0.84202454,\n",
       "        0.85122699, 0.85122699, 0.84815951, 0.85122699, 0.84662577,\n",
       "        0.85736196, 0.85276074, 0.85429448, 0.84662577, 0.84662577,\n",
       "        0.84969325, 0.83895706, 0.83895706, 0.83588957]),\n",
       " 'split2_test_score': array([0.88343558, 0.91257669, 0.86503067, 0.87116564, 0.84662577,\n",
       "        0.87883436, 0.85276074, 0.86503067, 0.85429448, 0.86349693,\n",
       "        0.86503067, 0.87423313, 0.86042945, 0.87730061, 0.87576687,\n",
       "        0.8803681 , 0.87423313, 0.88343558, 0.87883436, 0.8696319 ,\n",
       "        0.86656442, 0.86196319, 0.86809816, 0.86042945]),\n",
       " 'split3_test_score': array([0.87423313, 0.90644172, 0.85736196, 0.88496933, 0.85429448,\n",
       "        0.86809816, 0.85429448, 0.87269939, 0.85889571, 0.85122699,\n",
       "        0.85122699, 0.85582822, 0.84815951, 0.85582822, 0.84662577,\n",
       "        0.85889571, 0.84815951, 0.86042945, 0.85276074, 0.85276074,\n",
       "        0.84662577, 0.84662577, 0.8404908 , 0.84662577]),\n",
       " 'split4_test_score': array([0.89877301, 0.91257669, 0.87730061, 0.88190184, 0.86042945,\n",
       "        0.87883436, 0.85889571, 0.87269939, 0.85889571, 0.86349693,\n",
       "        0.86042945, 0.87423313, 0.85429448, 0.86656442, 0.85582822,\n",
       "        0.86656442, 0.86349693, 0.86656442, 0.85122699, 0.84509202,\n",
       "        0.83742331, 0.84509202, 0.83742331, 0.83895706]),\n",
       " 'mean_test_score': array([0.85184049, 0.87239264, 0.8404908 , 0.85030675, 0.82852761,\n",
       "        0.84018405, 0.82484663, 0.83343558, 0.82607362, 0.82423313,\n",
       "        0.82546012, 0.82822086, 0.82055215, 0.82638037, 0.8196319 ,\n",
       "        0.82730061, 0.82361963, 0.82730061, 0.8202454 , 0.81717791,\n",
       "        0.81380368, 0.81196319, 0.81134969, 0.80981595]),\n",
       " 'std_test_score': array([0.05023188, 0.06564991, 0.04810184, 0.05500642, 0.0525015 ,\n",
       "        0.06240956, 0.05746439, 0.06443616, 0.05958031, 0.0621845 ,\n",
       "        0.06326311, 0.07193235, 0.06457766, 0.07325703, 0.07392956,\n",
       "        0.07742346, 0.07264824, 0.07836568, 0.07508385, 0.07321849,\n",
       "        0.07315549, 0.07278799, 0.0706987 , 0.07182108]),\n",
       " 'rank_test_score': array([ 2,  1,  4,  3,  7,  5, 14,  6, 12, 15, 13,  8, 17, 11, 19,  9, 16,\n",
       "         9, 18, 20, 21, 22, 23, 24], dtype=int32)}"
      ]
     },
     "execution_count": 76,
     "metadata": {},
     "output_type": "execute_result"
    }
   ],
   "source": [
    "# The cross validation scores can be examined in depth\n",
    "knn_gscv.cv_results_"
   ]
  },
  {
   "cell_type": "code",
   "execution_count": 77,
   "id": "2a5cc5ae-7606-4d87-a4dd-6ddda1663ab9",
   "metadata": {},
   "outputs": [],
   "source": [
    "#df_result = pd.read_csv('/Users/onion/Downloads/NYP/Project/Modelling/evaluations.csv')"
   ]
  },
  {
   "cell_type": "markdown",
   "id": "071b8f53-13ca-460d-974e-fa165910f5ea",
   "metadata": {},
   "source": [
    "## Tuned KNN\n",
    "\n",
    "Since for the both times Grid Search are performed the optimal number of k has been returned as 2, that will be the value used for the tuned model:"
   ]
  },
  {
   "cell_type": "code",
   "execution_count": 63,
   "id": "8954a3dc-a3be-4e1c-ac12-db8163d43e5e",
   "metadata": {},
   "outputs": [
    {
     "data": {
      "text/html": [
       "<div>\n",
       "<style scoped>\n",
       "    .dataframe tbody tr th:only-of-type {\n",
       "        vertical-align: middle;\n",
       "    }\n",
       "\n",
       "    .dataframe tbody tr th {\n",
       "        vertical-align: top;\n",
       "    }\n",
       "\n",
       "    .dataframe thead th {\n",
       "        text-align: right;\n",
       "    }\n",
       "</style>\n",
       "<table border=\"1\" class=\"dataframe\">\n",
       "  <thead>\n",
       "    <tr style=\"text-align: right;\">\n",
       "      <th></th>\n",
       "      <th>model</th>\n",
       "      <th>tp</th>\n",
       "      <th>tn</th>\n",
       "      <th>fp</th>\n",
       "      <th>fn</th>\n",
       "      <th>correct</th>\n",
       "      <th>incorrect</th>\n",
       "      <th>accuracy</th>\n",
       "      <th>precision</th>\n",
       "      <th>recall</th>\n",
       "      <th>f1</th>\n",
       "      <th>roc_auc</th>\n",
       "      <th>avg_pre</th>\n",
       "    </tr>\n",
       "  </thead>\n",
       "  <tbody>\n",
       "    <tr>\n",
       "      <th>0</th>\n",
       "      <td>Tree with SMOTE</td>\n",
       "      <td>26</td>\n",
       "      <td>427</td>\n",
       "      <td>100</td>\n",
       "      <td>34</td>\n",
       "      <td>453</td>\n",
       "      <td>134</td>\n",
       "      <td>0.772</td>\n",
       "      <td>0.206</td>\n",
       "      <td>0.433</td>\n",
       "      <td>0.28</td>\n",
       "      <td>0.622</td>\n",
       "      <td>0.147</td>\n",
       "    </tr>\n",
       "    <tr>\n",
       "      <th>1</th>\n",
       "      <td>First Random Forest with SMOTE</td>\n",
       "      <td>8</td>\n",
       "      <td>480</td>\n",
       "      <td>47</td>\n",
       "      <td>52</td>\n",
       "      <td>488</td>\n",
       "      <td>99</td>\n",
       "      <td>0.831346</td>\n",
       "      <td>0.145455</td>\n",
       "      <td>0.133333</td>\n",
       "      <td>0.13913</td>\n",
       "      <td>0.522075</td>\n",
       "      <td>0.108</td>\n",
       "    </tr>\n",
       "    <tr>\n",
       "      <th>2</th>\n",
       "      <td>Random Forest with lyrical features, SMOTE</td>\n",
       "      <td>4</td>\n",
       "      <td>495</td>\n",
       "      <td>32</td>\n",
       "      <td>56</td>\n",
       "      <td>499</td>\n",
       "      <td>88</td>\n",
       "      <td>0.850085</td>\n",
       "      <td>0.111111</td>\n",
       "      <td>0.066667</td>\n",
       "      <td>0.083333</td>\n",
       "      <td>0.502973</td>\n",
       "      <td>0.103</td>\n",
       "    </tr>\n",
       "    <tr>\n",
       "      <th>3</th>\n",
       "      <td>Random Forest with lyrical features, SMOTE/RUS</td>\n",
       "      <td>5</td>\n",
       "      <td>507</td>\n",
       "      <td>20</td>\n",
       "      <td>55</td>\n",
       "      <td>512</td>\n",
       "      <td>75</td>\n",
       "      <td>0.872232</td>\n",
       "      <td>0.2</td>\n",
       "      <td>0.083333</td>\n",
       "      <td>0.117647</td>\n",
       "      <td>0.522691</td>\n",
       "      <td>0.11</td>\n",
       "    </tr>\n",
       "    <tr>\n",
       "      <th>4</th>\n",
       "      <td>SMOTE/RUS RF, Random Search</td>\n",
       "      <td>4</td>\n",
       "      <td>500</td>\n",
       "      <td>27</td>\n",
       "      <td>56</td>\n",
       "      <td>504</td>\n",
       "      <td>83</td>\n",
       "      <td>0.858603</td>\n",
       "      <td>0.129032</td>\n",
       "      <td>0.066667</td>\n",
       "      <td>0.087912</td>\n",
       "      <td>0.507717</td>\n",
       "      <td>0.104</td>\n",
       "    </tr>\n",
       "    <tr>\n",
       "      <th>5</th>\n",
       "      <td>SMOTE/RUS RF, Grid Search</td>\n",
       "      <td>4</td>\n",
       "      <td>498</td>\n",
       "      <td>29</td>\n",
       "      <td>56</td>\n",
       "      <td>502</td>\n",
       "      <td>85</td>\n",
       "      <td>0.855196</td>\n",
       "      <td>0.121212</td>\n",
       "      <td>0.066667</td>\n",
       "      <td>0.086022</td>\n",
       "      <td>0.505819</td>\n",
       "      <td>0.103</td>\n",
       "    </tr>\n",
       "    <tr>\n",
       "      <th>6</th>\n",
       "      <td>SMOTE/RUS KNN, Grid Search</td>\n",
       "      <td>10</td>\n",
       "      <td>491</td>\n",
       "      <td>36</td>\n",
       "      <td>50</td>\n",
       "      <td>501</td>\n",
       "      <td>86</td>\n",
       "      <td>0.853492</td>\n",
       "      <td>0.217391</td>\n",
       "      <td>0.166667</td>\n",
       "      <td>0.188679</td>\n",
       "      <td>0.549178</td>\n",
       "      <td>0.121</td>\n",
       "    </tr>\n",
       "    <tr>\n",
       "      <th>7</th>\n",
       "      <td>SMOTE KNN, Grid Search</td>\n",
       "      <td>10</td>\n",
       "      <td>491</td>\n",
       "      <td>36</td>\n",
       "      <td>50</td>\n",
       "      <td>501</td>\n",
       "      <td>86</td>\n",
       "      <td>0.853492</td>\n",
       "      <td>0.217391</td>\n",
       "      <td>0.166667</td>\n",
       "      <td>0.188679</td>\n",
       "      <td>0.549178</td>\n",
       "      <td>0.121</td>\n",
       "    </tr>\n",
       "    <tr>\n",
       "      <th>8</th>\n",
       "      <td>SMOTE/RUS KNN, Grid Search</td>\n",
       "      <td>10</td>\n",
       "      <td>491</td>\n",
       "      <td>36</td>\n",
       "      <td>50</td>\n",
       "      <td>501</td>\n",
       "      <td>86</td>\n",
       "      <td>0.853492</td>\n",
       "      <td>0.217391</td>\n",
       "      <td>0.166667</td>\n",
       "      <td>0.188679</td>\n",
       "      <td>0.549178</td>\n",
       "      <td>0.121</td>\n",
       "    </tr>\n",
       "  </tbody>\n",
       "</table>\n",
       "</div>"
      ],
      "text/plain": [
       "                                            model  tp   tn   fp  fn correct  \\\n",
       "0                                 Tree with SMOTE  26  427  100  34     453   \n",
       "1                  First Random Forest with SMOTE   8  480   47  52     488   \n",
       "2      Random Forest with lyrical features, SMOTE   4  495   32  56     499   \n",
       "3  Random Forest with lyrical features, SMOTE/RUS   5  507   20  55     512   \n",
       "4                     SMOTE/RUS RF, Random Search   4  500   27  56     504   \n",
       "5                       SMOTE/RUS RF, Grid Search   4  498   29  56     502   \n",
       "6                      SMOTE/RUS KNN, Grid Search  10  491   36  50     501   \n",
       "7                          SMOTE KNN, Grid Search  10  491   36  50     501   \n",
       "8                      SMOTE/RUS KNN, Grid Search  10  491   36  50     501   \n",
       "\n",
       "  incorrect  accuracy precision    recall        f1   roc_auc avg_pre  \n",
       "0       134     0.772     0.206     0.433      0.28     0.622   0.147  \n",
       "1        99  0.831346  0.145455  0.133333   0.13913  0.522075   0.108  \n",
       "2        88  0.850085  0.111111  0.066667  0.083333  0.502973   0.103  \n",
       "3        75  0.872232       0.2  0.083333  0.117647  0.522691    0.11  \n",
       "4        83  0.858603  0.129032  0.066667  0.087912  0.507717   0.104  \n",
       "5        85  0.855196  0.121212  0.066667  0.086022  0.505819   0.103  \n",
       "6        86  0.853492  0.217391  0.166667  0.188679  0.549178   0.121  \n",
       "7        86  0.853492  0.217391  0.166667  0.188679  0.549178   0.121  \n",
       "8        86  0.853492  0.217391  0.166667  0.188679  0.549178   0.121  "
      ]
     },
     "execution_count": 63,
     "metadata": {},
     "output_type": "execute_result"
    }
   ],
   "source": [
    "#from sklearn.neighbors import KNeighborsClassifier\n",
    "# With best params from tuning\n",
    "knn_tuned = KNeighborsClassifier(n_neighbors=2)\n",
    "knn_tuned.fit(X_train_final2, y_train_final_knn)\n",
    "y_pred_knn = knn_tuned.predict(X_test2_final)\n",
    "\n",
    "# Evaluation metrics calculation\n",
    "tn, fp, fn, tp = confusion_matrix(y_test_2, y_pred_knn).ravel()\n",
    "accuracy = accuracy_score(y_test_2, y_pred_knn)\n",
    "precision = precision_score(y_test_2, y_pred_knn)\n",
    "recall = recall_score(y_test_2, y_pred_knn)\n",
    "f1 = f1_score(y_test_2, y_pred_knn)\n",
    "roc_auc = roc_auc_score(y_test_2, y_pred_knn)\n",
    "avg_precision = average_precision_score(y_test_2, y_pred_knn)\n",
    "\n",
    "# Store metrics in a dictionary\n",
    "row = {'model': 'SMOTE/RUS KNN, Grid Search',\n",
    "        'tp': tp,\n",
    "        'tn': tn,\n",
    "        'fp': fp,\n",
    "        'fn': fn,\n",
    "        'correct': tp+tn,\n",
    "        'incorrect': fp+fn,\n",
    "        'accuracy': accuracy,\n",
    "        'precision': precision,\n",
    "        'recall': recall,\n",
    "        'f1': f1,\n",
    "        'roc_auc': roc_auc,\n",
    "        'avg_pre': round(avg_precision,3),       \n",
    "    }\n",
    "# Add dictionary to dataframe\n",
    "df_result = df_result.append(row, ignore_index=True)\n",
    "# Display\n",
    "df_result"
   ]
  },
  {
   "cell_type": "code",
   "execution_count": 62,
   "id": "81a0a042-6de1-4215-a5dc-4443de4095c3",
   "metadata": {},
   "outputs": [
    {
     "data": {
      "text/html": [
       "<div>\n",
       "<style scoped>\n",
       "    .dataframe tbody tr th:only-of-type {\n",
       "        vertical-align: middle;\n",
       "    }\n",
       "\n",
       "    .dataframe tbody tr th {\n",
       "        vertical-align: top;\n",
       "    }\n",
       "\n",
       "    .dataframe thead th {\n",
       "        text-align: right;\n",
       "    }\n",
       "</style>\n",
       "<table border=\"1\" class=\"dataframe\">\n",
       "  <thead>\n",
       "    <tr style=\"text-align: right;\">\n",
       "      <th></th>\n",
       "      <th>model</th>\n",
       "      <th>tp</th>\n",
       "      <th>tn</th>\n",
       "      <th>fp</th>\n",
       "      <th>fn</th>\n",
       "      <th>correct</th>\n",
       "      <th>incorrect</th>\n",
       "      <th>accuracy</th>\n",
       "      <th>precision</th>\n",
       "      <th>recall</th>\n",
       "      <th>f1</th>\n",
       "      <th>roc_auc</th>\n",
       "      <th>avg_pre</th>\n",
       "    </tr>\n",
       "  </thead>\n",
       "  <tbody>\n",
       "    <tr>\n",
       "      <th>0</th>\n",
       "      <td>Tree with SMOTE</td>\n",
       "      <td>26</td>\n",
       "      <td>427</td>\n",
       "      <td>100</td>\n",
       "      <td>34</td>\n",
       "      <td>453</td>\n",
       "      <td>134</td>\n",
       "      <td>0.772</td>\n",
       "      <td>0.206</td>\n",
       "      <td>0.433</td>\n",
       "      <td>0.28</td>\n",
       "      <td>0.622</td>\n",
       "      <td>0.147</td>\n",
       "    </tr>\n",
       "    <tr>\n",
       "      <th>1</th>\n",
       "      <td>First Random Forest with SMOTE</td>\n",
       "      <td>8</td>\n",
       "      <td>480</td>\n",
       "      <td>47</td>\n",
       "      <td>52</td>\n",
       "      <td>488</td>\n",
       "      <td>99</td>\n",
       "      <td>0.831346</td>\n",
       "      <td>0.145455</td>\n",
       "      <td>0.133333</td>\n",
       "      <td>0.13913</td>\n",
       "      <td>0.522075</td>\n",
       "      <td>0.108</td>\n",
       "    </tr>\n",
       "    <tr>\n",
       "      <th>2</th>\n",
       "      <td>Random Forest with lyrical features, SMOTE</td>\n",
       "      <td>4</td>\n",
       "      <td>495</td>\n",
       "      <td>32</td>\n",
       "      <td>56</td>\n",
       "      <td>499</td>\n",
       "      <td>88</td>\n",
       "      <td>0.850085</td>\n",
       "      <td>0.111111</td>\n",
       "      <td>0.066667</td>\n",
       "      <td>0.083333</td>\n",
       "      <td>0.502973</td>\n",
       "      <td>0.103</td>\n",
       "    </tr>\n",
       "    <tr>\n",
       "      <th>3</th>\n",
       "      <td>Random Forest with lyrical features, SMOTE/RUS</td>\n",
       "      <td>5</td>\n",
       "      <td>507</td>\n",
       "      <td>20</td>\n",
       "      <td>55</td>\n",
       "      <td>512</td>\n",
       "      <td>75</td>\n",
       "      <td>0.872232</td>\n",
       "      <td>0.2</td>\n",
       "      <td>0.083333</td>\n",
       "      <td>0.117647</td>\n",
       "      <td>0.522691</td>\n",
       "      <td>0.11</td>\n",
       "    </tr>\n",
       "    <tr>\n",
       "      <th>4</th>\n",
       "      <td>SMOTE/RUS RF, Random Search</td>\n",
       "      <td>4</td>\n",
       "      <td>500</td>\n",
       "      <td>27</td>\n",
       "      <td>56</td>\n",
       "      <td>504</td>\n",
       "      <td>83</td>\n",
       "      <td>0.858603</td>\n",
       "      <td>0.129032</td>\n",
       "      <td>0.066667</td>\n",
       "      <td>0.087912</td>\n",
       "      <td>0.507717</td>\n",
       "      <td>0.104</td>\n",
       "    </tr>\n",
       "    <tr>\n",
       "      <th>5</th>\n",
       "      <td>SMOTE/RUS RF, Grid Search</td>\n",
       "      <td>4</td>\n",
       "      <td>498</td>\n",
       "      <td>29</td>\n",
       "      <td>56</td>\n",
       "      <td>502</td>\n",
       "      <td>85</td>\n",
       "      <td>0.855196</td>\n",
       "      <td>0.121212</td>\n",
       "      <td>0.066667</td>\n",
       "      <td>0.086022</td>\n",
       "      <td>0.505819</td>\n",
       "      <td>0.103</td>\n",
       "    </tr>\n",
       "    <tr>\n",
       "      <th>6</th>\n",
       "      <td>SMOTE/RUS KNN, Grid Search</td>\n",
       "      <td>10</td>\n",
       "      <td>491</td>\n",
       "      <td>36</td>\n",
       "      <td>50</td>\n",
       "      <td>501</td>\n",
       "      <td>86</td>\n",
       "      <td>0.853492</td>\n",
       "      <td>0.217391</td>\n",
       "      <td>0.166667</td>\n",
       "      <td>0.188679</td>\n",
       "      <td>0.549178</td>\n",
       "      <td>0.121</td>\n",
       "    </tr>\n",
       "    <tr>\n",
       "      <th>7</th>\n",
       "      <td>SMOTE KNN, Grid Search</td>\n",
       "      <td>10</td>\n",
       "      <td>491</td>\n",
       "      <td>36</td>\n",
       "      <td>50</td>\n",
       "      <td>501</td>\n",
       "      <td>86</td>\n",
       "      <td>0.853492</td>\n",
       "      <td>0.217391</td>\n",
       "      <td>0.166667</td>\n",
       "      <td>0.188679</td>\n",
       "      <td>0.549178</td>\n",
       "      <td>0.121</td>\n",
       "    </tr>\n",
       "  </tbody>\n",
       "</table>\n",
       "</div>"
      ],
      "text/plain": [
       "                                            model  tp   tn   fp  fn correct  \\\n",
       "0                                 Tree with SMOTE  26  427  100  34     453   \n",
       "1                  First Random Forest with SMOTE   8  480   47  52     488   \n",
       "2      Random Forest with lyrical features, SMOTE   4  495   32  56     499   \n",
       "3  Random Forest with lyrical features, SMOTE/RUS   5  507   20  55     512   \n",
       "4                     SMOTE/RUS RF, Random Search   4  500   27  56     504   \n",
       "5                       SMOTE/RUS RF, Grid Search   4  498   29  56     502   \n",
       "6                      SMOTE/RUS KNN, Grid Search  10  491   36  50     501   \n",
       "7                          SMOTE KNN, Grid Search  10  491   36  50     501   \n",
       "\n",
       "  incorrect  accuracy precision    recall        f1   roc_auc avg_pre  \n",
       "0       134     0.772     0.206     0.433      0.28     0.622   0.147  \n",
       "1        99  0.831346  0.145455  0.133333   0.13913  0.522075   0.108  \n",
       "2        88  0.850085  0.111111  0.066667  0.083333  0.502973   0.103  \n",
       "3        75  0.872232       0.2  0.083333  0.117647  0.522691    0.11  \n",
       "4        83  0.858603  0.129032  0.066667  0.087912  0.507717   0.104  \n",
       "5        85  0.855196  0.121212  0.066667  0.086022  0.505819   0.103  \n",
       "6        86  0.853492  0.217391  0.166667  0.188679  0.549178   0.121  \n",
       "7        86  0.853492  0.217391  0.166667  0.188679  0.549178   0.121  "
      ]
     },
     "execution_count": 62,
     "metadata": {},
     "output_type": "execute_result"
    }
   ],
   "source": [
    "#from sklearn.neighbors import KNeighborsClassifier\n",
    "# With tuned params\n",
    "knn_sm_tuned = KNeighborsClassifier(n_neighbors=2)\n",
    "knn_sm_tuned.fit(X_train2, y_train_smote_k)\n",
    "y_pred_knn_sm = knn_sm_tuned.predict(X_test2)\n",
    "\n",
    "# Evaluation metrics calculation\n",
    "tn, fp, fn, tp = confusion_matrix(y_test_knn, y_pred_knn).ravel()\n",
    "accuracy = accuracy_score(y_test_knn, y_pred_knn)\n",
    "precision = precision_score(y_test_knn, y_pred_knn)\n",
    "recall = recall_score(y_test_knn, y_pred_knn)\n",
    "f1 = f1_score(y_test_knn, y_pred_knn)\n",
    "roc_auc = roc_auc_score(y_test_knn, y_pred_knn)\n",
    "avg_precision = average_precision_score(y_test_knn, y_pred_knn)\n",
    "\n",
    "# Store values into a dictionary\n",
    "row = {'model': 'SMOTE KNN, Grid Search',\n",
    "        'tp': tp,\n",
    "        'tn': tn,\n",
    "        'fp': fp,\n",
    "        'fn': fn,\n",
    "        'correct': tp+tn,\n",
    "        'incorrect': fp+fn,\n",
    "        'accuracy': accuracy,\n",
    "        'precision': precision,\n",
    "        'recall': recall,\n",
    "        'f1': f1,\n",
    "        'roc_auc': roc_auc,\n",
    "        'avg_pre': round(avg_precision,3),       \n",
    "    }\n",
    "# Add dictionary into dataframe\n",
    "df_result = df_result.append(row, ignore_index=True)\n",
    "# Display\n",
    "df_result"
   ]
  },
  {
   "cell_type": "markdown",
   "id": "cf4820d6-fcdd-421b-84a7-923dd71e0b6e",
   "metadata": {},
   "source": [
    "Whether it be using SMOTE or SMOTE and RUS, there is no difference in the performance. Both of them also perform better than the 2 dummy classifiers as the dummies were not able to identify the positive samples. SMOTE/RUS KNN, Grid Search will be used to compare against Random Forest with lyrical features, SMOTE/RUS as both had SMOTE and RUS applied to the data."
   ]
  },
  {
   "cell_type": "markdown",
   "id": "9396021f-c000-4d7b-bfab-cdfca006bf37",
   "metadata": {},
   "source": [
    "# Final model comparison"
   ]
  },
  {
   "cell_type": "markdown",
   "id": "f4c7c945-211a-442e-8aa4-c73666ed0022",
   "metadata": {},
   "source": [
    "## ROC AUC "
   ]
  },
  {
   "cell_type": "code",
   "execution_count": 65,
   "id": "d46c58bc-8da0-42b6-9365-2909ecd1c0d2",
   "metadata": {},
   "outputs": [
    {
     "data": {
      "image/png": "[encoded data removed]",
      "text/plain": [
       "<Figure size 432x288 with 1 Axes>"
      ]
     },
     "metadata": {
      "needs_background": "light"
     },
     "output_type": "display_data"
    }
   ],
   "source": [
    "# Plotting Random Forest's ROC curve\n",
    "y_pred_prob1 = rf3.predict_proba(X_test)[:,1]\n",
    "fpr1 , tpr1, thresholds1 = roc_curve(y_test, y_pred_prob1)\n",
    "\n",
    "# Plotting KNN's ROC curve\n",
    "y_pred_prob2 = knn_tuned.predict_proba(X_test2_final)[:,1]\n",
    "fpr2 , tpr2, thresholds2 = roc_curve(y_test_2, y_pred_prob2)\n",
    "\n",
    "\n",
    "plt.plot([0, 1], [0, 1],\n",
    "         linestyle='--',\n",
    "         color='gray',\n",
    "         linewidth=2)\n",
    "\n",
    "\n",
    "plt.plot(fpr1, tpr1,\n",
    "        color= 'black',\n",
    "        linestyle= '-.',\n",
    "        label='Random Forest')\n",
    "\n",
    "plt.plot(fpr2, tpr2,\n",
    "        color= 'red',\n",
    "        linestyle= '--',\n",
    "        label='KNN')\n",
    "\n",
    "plt.legend(loc='lower right')\n",
    "plt.xlim([-0.1, 1.1])\n",
    "plt.ylim([-0.1, 1.1])\n",
    "plt.grid(alpha=0.5)\n",
    "plt.xlabel('False positive rate (FPR)')\n",
    "plt.ylabel('True positive rate (TPR)')\n",
    "\n",
    "\n",
    "#plt.savefig('figures/07_04', dpi=300)\n",
    "plt.show()"
   ]
  },
  {
   "cell_type": "markdown",
   "id": "c4d99ef3-f678-4c0f-bc93-d3f2e32b0c57",
   "metadata": {},
   "source": [
    "From the above plot, lyrics RF has a higher AOC than KNN. Indeed, looking at evaluation metrics dataframe from above, the lyrics RF has an advantage in identifying fewer FP (20 as compared to KNN's 36)."
   ]
  },
  {
   "cell_type": "markdown",
   "id": "65d71949-41e6-4bea-a08a-46d2e8580067",
   "metadata": {},
   "source": [
    "## Precision-recall curve"
   ]
  },
  {
   "cell_type": "code",
   "execution_count": 67,
   "id": "d4f47baf-92fc-45ef-b9cf-4de548622c67",
   "metadata": {},
   "outputs": [
    {
     "data": {
      "text/plain": [
       "Text(0.5, 1.0, 'Precision-Recall curve')"
      ]
     },
     "execution_count": 67,
     "metadata": {},
     "output_type": "execute_result"
    },
    {
     "data": {
      "image/png": "[encoded data removed]",
      "text/plain": [
       "<Figure size 432x288 with 1 Axes>"
      ]
     },
     "metadata": {
      "needs_background": "light"
     },
     "output_type": "display_data"
    }
   ],
   "source": [
    "warnings.filterwarnings(\"ignore\", category=FutureWarning)\n",
    "from sklearn.metrics import precision_recall_curve\n",
    "from sklearn.metrics import plot_precision_recall_curve\n",
    "import matplotlib.pyplot as plt\n",
    "\n",
    "# Plotting precision-recall curves\n",
    "plot_precision_recall_curve(rf3, X_test, y_test, ax = plt.gca(),name = \"Random Forest\")\n",
    "plot_precision_recall_curve(knn_tuned, X_test2_final, y_test_2, ax = plt.gca(),name = \"KNN\")\n",
    "\n",
    "plt.legend(loc='upper right')\n",
    "plt.title('Precision-Recall curve')"
   ]
  },
  {
   "cell_type": "markdown",
   "id": "e1b8a056-25a4-4aa5-aee8-f95385517c83",
   "metadata": {},
   "source": [
    "Over here, the Precision-Recall curve shows the lyrics Random Forest has higher AUC than KNN. Referring to the outcome dataframe for the rest of the evaluation metrics:"
   ]
  },
  {
   "cell_type": "code",
   "execution_count": 68,
   "id": "68673a17-ae98-4c9a-b122-d40a30933773",
   "metadata": {},
   "outputs": [
    {
     "data": {
      "text/html": [
       "<div>\n",
       "<style scoped>\n",
       "    .dataframe tbody tr th:only-of-type {\n",
       "        vertical-align: middle;\n",
       "    }\n",
       "\n",
       "    .dataframe tbody tr th {\n",
       "        vertical-align: top;\n",
       "    }\n",
       "\n",
       "    .dataframe thead th {\n",
       "        text-align: right;\n",
       "    }\n",
       "</style>\n",
       "<table border=\"1\" class=\"dataframe\">\n",
       "  <thead>\n",
       "    <tr style=\"text-align: right;\">\n",
       "      <th></th>\n",
       "      <th>model</th>\n",
       "      <th>tp</th>\n",
       "      <th>tn</th>\n",
       "      <th>fp</th>\n",
       "      <th>fn</th>\n",
       "      <th>correct</th>\n",
       "      <th>incorrect</th>\n",
       "      <th>accuracy</th>\n",
       "      <th>precision</th>\n",
       "      <th>recall</th>\n",
       "      <th>f1</th>\n",
       "      <th>roc_auc</th>\n",
       "      <th>avg_pre</th>\n",
       "    </tr>\n",
       "  </thead>\n",
       "  <tbody>\n",
       "    <tr>\n",
       "      <th>0</th>\n",
       "      <td>Tree with SMOTE</td>\n",
       "      <td>26</td>\n",
       "      <td>427</td>\n",
       "      <td>100</td>\n",
       "      <td>34</td>\n",
       "      <td>453</td>\n",
       "      <td>134</td>\n",
       "      <td>0.772</td>\n",
       "      <td>0.206</td>\n",
       "      <td>0.433</td>\n",
       "      <td>0.28</td>\n",
       "      <td>0.622</td>\n",
       "      <td>0.147</td>\n",
       "    </tr>\n",
       "    <tr>\n",
       "      <th>1</th>\n",
       "      <td>First Random Forest with SMOTE</td>\n",
       "      <td>8</td>\n",
       "      <td>480</td>\n",
       "      <td>47</td>\n",
       "      <td>52</td>\n",
       "      <td>488</td>\n",
       "      <td>99</td>\n",
       "      <td>0.831346</td>\n",
       "      <td>0.145455</td>\n",
       "      <td>0.133333</td>\n",
       "      <td>0.13913</td>\n",
       "      <td>0.522075</td>\n",
       "      <td>0.108</td>\n",
       "    </tr>\n",
       "    <tr>\n",
       "      <th>2</th>\n",
       "      <td>Random Forest with lyrical features, SMOTE</td>\n",
       "      <td>4</td>\n",
       "      <td>495</td>\n",
       "      <td>32</td>\n",
       "      <td>56</td>\n",
       "      <td>499</td>\n",
       "      <td>88</td>\n",
       "      <td>0.850085</td>\n",
       "      <td>0.111111</td>\n",
       "      <td>0.066667</td>\n",
       "      <td>0.083333</td>\n",
       "      <td>0.502973</td>\n",
       "      <td>0.103</td>\n",
       "    </tr>\n",
       "    <tr>\n",
       "      <th>3</th>\n",
       "      <td>Random Forest with lyrical features, SMOTE/RUS</td>\n",
       "      <td>5</td>\n",
       "      <td>507</td>\n",
       "      <td>20</td>\n",
       "      <td>55</td>\n",
       "      <td>512</td>\n",
       "      <td>75</td>\n",
       "      <td>0.872232</td>\n",
       "      <td>0.2</td>\n",
       "      <td>0.083333</td>\n",
       "      <td>0.117647</td>\n",
       "      <td>0.522691</td>\n",
       "      <td>0.11</td>\n",
       "    </tr>\n",
       "    <tr>\n",
       "      <th>4</th>\n",
       "      <td>SMOTE/RUS RF, Random Search</td>\n",
       "      <td>4</td>\n",
       "      <td>500</td>\n",
       "      <td>27</td>\n",
       "      <td>56</td>\n",
       "      <td>504</td>\n",
       "      <td>83</td>\n",
       "      <td>0.858603</td>\n",
       "      <td>0.129032</td>\n",
       "      <td>0.066667</td>\n",
       "      <td>0.087912</td>\n",
       "      <td>0.507717</td>\n",
       "      <td>0.104</td>\n",
       "    </tr>\n",
       "    <tr>\n",
       "      <th>5</th>\n",
       "      <td>SMOTE/RUS RF, Grid Search</td>\n",
       "      <td>4</td>\n",
       "      <td>498</td>\n",
       "      <td>29</td>\n",
       "      <td>56</td>\n",
       "      <td>502</td>\n",
       "      <td>85</td>\n",
       "      <td>0.855196</td>\n",
       "      <td>0.121212</td>\n",
       "      <td>0.066667</td>\n",
       "      <td>0.086022</td>\n",
       "      <td>0.505819</td>\n",
       "      <td>0.103</td>\n",
       "    </tr>\n",
       "    <tr>\n",
       "      <th>6</th>\n",
       "      <td>SMOTE/RUS KNN, Grid Search</td>\n",
       "      <td>10</td>\n",
       "      <td>491</td>\n",
       "      <td>36</td>\n",
       "      <td>50</td>\n",
       "      <td>501</td>\n",
       "      <td>86</td>\n",
       "      <td>0.853492</td>\n",
       "      <td>0.217391</td>\n",
       "      <td>0.166667</td>\n",
       "      <td>0.188679</td>\n",
       "      <td>0.549178</td>\n",
       "      <td>0.121</td>\n",
       "    </tr>\n",
       "    <tr>\n",
       "      <th>7</th>\n",
       "      <td>SMOTE KNN, Grid Search</td>\n",
       "      <td>10</td>\n",
       "      <td>491</td>\n",
       "      <td>36</td>\n",
       "      <td>50</td>\n",
       "      <td>501</td>\n",
       "      <td>86</td>\n",
       "      <td>0.853492</td>\n",
       "      <td>0.217391</td>\n",
       "      <td>0.166667</td>\n",
       "      <td>0.188679</td>\n",
       "      <td>0.549178</td>\n",
       "      <td>0.121</td>\n",
       "    </tr>\n",
       "  </tbody>\n",
       "</table>\n",
       "</div>"
      ],
      "text/plain": [
       "                                            model  tp   tn   fp  fn correct  \\\n",
       "0                                 Tree with SMOTE  26  427  100  34     453   \n",
       "1                  First Random Forest with SMOTE   8  480   47  52     488   \n",
       "2      Random Forest with lyrical features, SMOTE   4  495   32  56     499   \n",
       "3  Random Forest with lyrical features, SMOTE/RUS   5  507   20  55     512   \n",
       "4                     SMOTE/RUS RF, Random Search   4  500   27  56     504   \n",
       "5                       SMOTE/RUS RF, Grid Search   4  498   29  56     502   \n",
       "6                      SMOTE/RUS KNN, Grid Search  10  491   36  50     501   \n",
       "7                          SMOTE KNN, Grid Search  10  491   36  50     501   \n",
       "\n",
       "  incorrect  accuracy precision    recall        f1   roc_auc avg_pre  \n",
       "0       134     0.772     0.206     0.433      0.28     0.622   0.147  \n",
       "1        99  0.831346  0.145455  0.133333   0.13913  0.522075   0.108  \n",
       "2        88  0.850085  0.111111  0.066667  0.083333  0.502973   0.103  \n",
       "3        75  0.872232       0.2  0.083333  0.117647  0.522691    0.11  \n",
       "4        83  0.858603  0.129032  0.066667  0.087912  0.507717   0.104  \n",
       "5        85  0.855196  0.121212  0.066667  0.086022  0.505819   0.103  \n",
       "6        86  0.853492  0.217391  0.166667  0.188679  0.549178   0.121  \n",
       "7        86  0.853492  0.217391  0.166667  0.188679  0.549178   0.121  "
      ]
     },
     "execution_count": 68,
     "metadata": {},
     "output_type": "execute_result"
    }
   ],
   "source": [
    "df_result"
   ]
  },
  {
   "cell_type": "markdown",
   "id": "6da91089-66cd-4b28-86b2-26c094469266",
   "metadata": {},
   "source": [
    "Comparing the best random forest (row index #3) with the tuned KNN (row index #6), the KNN is better at identifying the positive/ minority samples as it has higher TP (10 as opposed to 5) and recall (the proportion predicted positive out of the total positive samples). It is also better at correctly predicting the positive samples as by the higher precision. It makes fewer Type II error, and that is important as a false negative means a hit being identified as non-hit, which will result in missed profits and business opportunities. While there are more FP than the lyrics Random Forest and mistakenly predicting a non-hit to be a hit could result in wasted resources, those songs might still be profitable outside of the top 10 Billboard ranking. A comparison of F1 and average precision shows that KNN also scores better than the lyrics Random Forest. Hence it is selected as the best model from the experimentation."
   ]
  },
  {
   "cell_type": "markdown",
   "id": "0a2474fc-e5aa-48be-9f76-3b98d633b384",
   "metadata": {},
   "source": [
    "# References"
   ]
  },
  {
   "cell_type": "markdown",
   "id": "84bcc72e-93b0-499e-9f8e-d81162d2fc0b",
   "metadata": {},
   "source": [
    "[...] Continuation from part 1:\n",
    "\n",
    "[16] “Handling Imbalanced Data with SMOTE and Near Miss Algorithm in Python,” GeeksforGeeks, 28-Jun-2019. [Online]. Available: https://www.geeksforgeeks.org/ml-handling-imbalanced-data-with-smote-and-near-miss-algorithm-in-python/. [Accessed: 19-Aug-2022].\n",
    "\n",
    "[17] “RandomUnderSampler — Version 0.9.1,” Imbalanced-learn.org. [Online]. Available: https://imbalanced-learn.org/stable/references/generated/imblearn.under_sampling.RandomUnderSampler.html. [Accessed: 25-Aug-2022].\n",
    "\n",
    "[18] “Sklearn.Model_selection.RandomizedSearchCV,” scikit-learn. [Online]. Available: https://scikit-learn.org/stable/modules/generated/sklearn.model_selection.RandomizedSearchCV.html. [Accessed: 25-Aug-2022].\n",
    "\n",
    "[19] N. Arya, “Does the random forest algorithm need normalization?,” KDnuggets. [Online]. Available: https://www.kdnuggets.com/2022/07/random-forest-algorithm-need-normalization.html. [Accessed: 21-Aug-2022].\n",
    "\n",
    "[20] “Do I need to normalize (or scale) data for randomForest (R package)?,” Stack Overflow. [Online]. \n",
    "Available: https://stackoverflow.com/questions/8961586/do-i-need-to-normalize-or-scale-data-for-randomforest-r-package. [Accessed: 22-Aug-2022]."
   ]
  },
  {
   "cell_type": "markdown",
   "id": "15be346a-283e-4c70-8b35-d318580b4953",
   "metadata": {},
   "source": [
    "***"
   ]
  }
 ],
 "metadata": {
  "kernelspec": {
   "display_name": "Python 3.9 (tensorflow)",
   "language": "python",
   "name": "tensorflow"
  },
  "language_info": {
   "codemirror_mode": {
    "name": "ipython",
    "version": 3
   },
   "file_extension": ".py",
   "mimetype": "text/x-python",
   "name": "python",
   "nbconvert_exporter": "python",
   "pygments_lexer": "ipython3",
   "version": "3.9.13"
  }
 },
 "nbformat": 4,
 "nbformat_minor": 5
}
